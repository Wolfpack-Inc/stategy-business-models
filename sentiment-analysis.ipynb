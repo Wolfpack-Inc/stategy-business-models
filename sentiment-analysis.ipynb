{
 "cells": [
  {
   "cell_type": "code",
   "execution_count": 1,
   "metadata": {},
   "outputs": [],
   "source": [
    "import nltk\n",
    "import pandas as pd\n",
    "\n",
    "from nltk.sentiment.vader import SentimentIntensityAnalyzer\n",
    "from toolbox import ToolBox\n",
    "from textblob import TextBlob\n",
    "\n",
    "# nltk.download('vader_lexicon')"
   ]
  },
  {
   "cell_type": "code",
   "execution_count": 14,
   "metadata": {},
   "outputs": [
    {
     "data": {
      "text/plain": [
       "{'neg': 0.395, 'neu': 0.605, 'pos': 0.0, 'compound': -0.2411}"
      ]
     },
     "execution_count": 14,
     "metadata": {},
     "output_type": "execute_result"
    }
   ],
   "source": [
    "sid = SentimentIntensityAnalyzer()\n",
    "sid.polarity_scores('This is not cool')"
   ]
  },
  {
   "cell_type": "code",
   "execution_count": 2,
   "metadata": {},
   "outputs": [],
   "source": [
    "tb = ToolBox()"
   ]
  },
  {
   "cell_type": "code",
   "execution_count": 15,
   "metadata": {},
   "outputs": [
    {
     "name": "stdout",
     "output_type": "stream",
     "text": [
      "Loaded from cache\n"
     ]
    },
    {
     "data": {
      "text/html": [
       "<div>\n",
       "<style scoped>\n",
       "    .dataframe tbody tr th:only-of-type {\n",
       "        vertical-align: middle;\n",
       "    }\n",
       "\n",
       "    .dataframe tbody tr th {\n",
       "        vertical-align: top;\n",
       "    }\n",
       "\n",
       "    .dataframe thead th {\n",
       "        text-align: right;\n",
       "    }\n",
       "</style>\n",
       "<table border=\"1\" class=\"dataframe\">\n",
       "  <thead>\n",
       "    <tr style=\"text-align: right;\">\n",
       "      <th></th>\n",
       "      <th>game</th>\n",
       "      <th>username</th>\n",
       "      <th>date</th>\n",
       "      <th>grade</th>\n",
       "      <th>review</th>\n",
       "      <th>lang</th>\n",
       "      <th>helpful_nb</th>\n",
       "      <th>helpful_nb_total</th>\n",
       "    </tr>\n",
       "  </thead>\n",
       "  <tbody>\n",
       "    <tr>\n",
       "      <th>0</th>\n",
       "      <td>007-legends-pc</td>\n",
       "      <td>Bughyman1000</td>\n",
       "      <td>2013-01-19</td>\n",
       "      <td>30</td>\n",
       "      <td>Oh, my dear God! What is it with developers th...</td>\n",
       "      <td>en</td>\n",
       "      <td>0</td>\n",
       "      <td>0</td>\n",
       "    </tr>\n",
       "    <tr>\n",
       "      <th>1</th>\n",
       "      <td>007-legends-pc</td>\n",
       "      <td>DiabloZiri</td>\n",
       "      <td>2014-06-23</td>\n",
       "      <td>30</td>\n",
       "      <td>Seriously if you want to have a HUGE laugh wit...</td>\n",
       "      <td>en</td>\n",
       "      <td>0</td>\n",
       "      <td>0</td>\n",
       "    </tr>\n",
       "    <tr>\n",
       "      <th>2</th>\n",
       "      <td>007-legends-pc</td>\n",
       "      <td>DrugsMeazureTim</td>\n",
       "      <td>2014-12-11</td>\n",
       "      <td>0</td>\n",
       "      <td>godawful port of the xbox 360 version and ps3....</td>\n",
       "      <td>en</td>\n",
       "      <td>0</td>\n",
       "      <td>0</td>\n",
       "    </tr>\n",
       "    <tr>\n",
       "      <th>3</th>\n",
       "      <td>007-legends-pc</td>\n",
       "      <td>DustEater</td>\n",
       "      <td>2012-11-03</td>\n",
       "      <td>0</td>\n",
       "      <td>Agree. Worst game ever. Its a full copy of Cal...</td>\n",
       "      <td>en</td>\n",
       "      <td>8</td>\n",
       "      <td>8</td>\n",
       "    </tr>\n",
       "    <tr>\n",
       "      <th>4</th>\n",
       "      <td>007-legends-pc</td>\n",
       "      <td>evry1isacritic</td>\n",
       "      <td>2012-11-04</td>\n",
       "      <td>0</td>\n",
       "      <td>DO NOT BUY THIS GAME for the PC (or for any ot...</td>\n",
       "      <td>en</td>\n",
       "      <td>2</td>\n",
       "      <td>2</td>\n",
       "    </tr>\n",
       "  </tbody>\n",
       "</table>\n",
       "</div>"
      ],
      "text/plain": [
       "             game         username       date  grade  \\\n",
       "0  007-legends-pc     Bughyman1000 2013-01-19     30   \n",
       "1  007-legends-pc       DiabloZiri 2014-06-23     30   \n",
       "2  007-legends-pc  DrugsMeazureTim 2014-12-11      0   \n",
       "3  007-legends-pc        DustEater 2012-11-03      0   \n",
       "4  007-legends-pc   evry1isacritic 2012-11-04      0   \n",
       "\n",
       "                                              review lang  helpful_nb  \\\n",
       "0  Oh, my dear God! What is it with developers th...   en           0   \n",
       "1  Seriously if you want to have a HUGE laugh wit...   en           0   \n",
       "2  godawful port of the xbox 360 version and ps3....   en           0   \n",
       "3  Agree. Worst game ever. Its a full copy of Cal...   en           8   \n",
       "4  DO NOT BUY THIS GAME for the PC (or for any ot...   en           2   \n",
       "\n",
       "   helpful_nb_total  \n",
       "0                 0  \n",
       "1                 0  \n",
       "2                 0  \n",
       "3                 8  \n",
       "4                 2  "
      ]
     },
     "execution_count": 15,
     "metadata": {},
     "output_type": "execute_result"
    }
   ],
   "source": [
    "reviews = tb.load_data_sql(table='user_reviews', where=\"lang = 'en'\")\n",
    "reviews.head()"
   ]
  },
  {
   "cell_type": "code",
   "execution_count": 30,
   "metadata": {},
   "outputs": [],
   "source": [
    "def vader_sentiment_to_df(dataframe):\n",
    "    '''\n",
    "        Gets the sentiment scores of reviews using nltk.sentiment.vader.\n",
    "        \n",
    "        Input: dataframe with reviews\n",
    "        Output: original dataframe + column with sentiment score\n",
    "    '''\n",
    "    \n",
    "    sid = SentimentIntensityAnalyzer()\n",
    "    compound = []\n",
    "    \n",
    "    # iterate over dataframe and calculate sentiment scores per row\n",
    "    for idx, row in dataframe.iterrows():\n",
    "        \n",
    "        scores = list(sid.polarity_scores(row['review']).values())\n",
    "        \n",
    "        comp = scores[3]\n",
    "        \n",
    "        compound.append(comp)\n",
    "    \n",
    "    # turns compound list into a dataframe\n",
    "    compound_df = pd.DataFrame.from_dict({'compound':compound})\n",
    "    \n",
    "    # adds sentiment column to existing dataframe\n",
    "    new_dataframe = pd.concat([dataframe, compound_df], axis = 1)\n",
    "    \n",
    "    # drops unnecessary columsn\n",
    "    new_dataframe = new_dataframe.drop(columns = ['username', 'lang', 'helpful_nb', 'helpful_nb_total'])\n",
    "    \n",
    "    # renames compound column to match database\n",
    "    new_dataframe.rename(columns={'compound':'sentiment'}, inplace=True)\n",
    "    new_dataframe.rename(columns={'index':'id'}, inplace=True)\n",
    "    \n",
    "    return new_dataframe"
   ]
  },
  {
   "cell_type": "code",
   "execution_count": null,
   "metadata": {},
   "outputs": [],
   "source": [
    "new_df = vader_sentiment_to_df(reviews)"
   ]
  },
  {
   "cell_type": "code",
   "execution_count": 32,
   "metadata": {},
   "outputs": [
    {
     "data": {
      "text/html": [
       "<div>\n",
       "<style scoped>\n",
       "    .dataframe tbody tr th:only-of-type {\n",
       "        vertical-align: middle;\n",
       "    }\n",
       "\n",
       "    .dataframe tbody tr th {\n",
       "        vertical-align: top;\n",
       "    }\n",
       "\n",
       "    .dataframe thead th {\n",
       "        text-align: right;\n",
       "    }\n",
       "</style>\n",
       "<table border=\"1\" class=\"dataframe\">\n",
       "  <thead>\n",
       "    <tr style=\"text-align: right;\">\n",
       "      <th></th>\n",
       "      <th>game</th>\n",
       "      <th>date</th>\n",
       "      <th>grade</th>\n",
       "      <th>review</th>\n",
       "      <th>sentiment</th>\n",
       "    </tr>\n",
       "  </thead>\n",
       "  <tbody>\n",
       "    <tr>\n",
       "      <th>0</th>\n",
       "      <td>007-legends-pc</td>\n",
       "      <td>2013-01-19</td>\n",
       "      <td>30</td>\n",
       "      <td>Oh, my dear God! What is it with developers th...</td>\n",
       "      <td>-0.9191</td>\n",
       "    </tr>\n",
       "    <tr>\n",
       "      <th>1</th>\n",
       "      <td>007-legends-pc</td>\n",
       "      <td>2014-06-23</td>\n",
       "      <td>30</td>\n",
       "      <td>Seriously if you want to have a HUGE laugh wit...</td>\n",
       "      <td>0.9424</td>\n",
       "    </tr>\n",
       "    <tr>\n",
       "      <th>2</th>\n",
       "      <td>007-legends-pc</td>\n",
       "      <td>2014-12-11</td>\n",
       "      <td>0</td>\n",
       "      <td>godawful port of the xbox 360 version and ps3....</td>\n",
       "      <td>-0.3869</td>\n",
       "    </tr>\n",
       "    <tr>\n",
       "      <th>3</th>\n",
       "      <td>007-legends-pc</td>\n",
       "      <td>2012-11-03</td>\n",
       "      <td>0</td>\n",
       "      <td>Agree. Worst game ever. Its a full copy of Cal...</td>\n",
       "      <td>0.5496</td>\n",
       "    </tr>\n",
       "    <tr>\n",
       "      <th>4</th>\n",
       "      <td>007-legends-pc</td>\n",
       "      <td>2012-11-04</td>\n",
       "      <td>0</td>\n",
       "      <td>DO NOT BUY THIS GAME for the PC (or for any ot...</td>\n",
       "      <td>-0.9612</td>\n",
       "    </tr>\n",
       "  </tbody>\n",
       "</table>\n",
       "</div>"
      ],
      "text/plain": [
       "             game       date  grade  \\\n",
       "0  007-legends-pc 2013-01-19     30   \n",
       "1  007-legends-pc 2014-06-23     30   \n",
       "2  007-legends-pc 2014-12-11      0   \n",
       "3  007-legends-pc 2012-11-03      0   \n",
       "4  007-legends-pc 2012-11-04      0   \n",
       "\n",
       "                                              review  sentiment  \n",
       "0  Oh, my dear God! What is it with developers th...    -0.9191  \n",
       "1  Seriously if you want to have a HUGE laugh wit...     0.9424  \n",
       "2  godawful port of the xbox 360 version and ps3....    -0.3869  \n",
       "3  Agree. Worst game ever. Its a full copy of Cal...     0.5496  \n",
       "4  DO NOT BUY THIS GAME for the PC (or for any ot...    -0.9612  "
      ]
     },
     "execution_count": 32,
     "metadata": {},
     "output_type": "execute_result"
    }
   ],
   "source": [
    "new_df.head()"
   ]
  },
  {
   "cell_type": "code",
   "execution_count": 97,
   "metadata": {},
   "outputs": [],
   "source": [
    "# write new_df to pickle file\n",
    "new_df.to_pickle('user_review_clean')"
   ]
  },
  {
   "cell_type": "code",
   "execution_count": 2,
   "metadata": {},
   "outputs": [],
   "source": [
    "# load pickle file\n",
    "new_df = pd.read_pickle('user_review_clean')"
   ]
  },
  {
   "cell_type": "markdown",
   "metadata": {},
   "source": [
    "#### Trying to load dataframe into the database.....fail"
   ]
  },
  {
   "cell_type": "code",
   "execution_count": 11,
   "metadata": {},
   "outputs": [],
   "source": [
    "from models import *"
   ]
  },
  {
   "cell_type": "code",
   "execution_count": 39,
   "metadata": {},
   "outputs": [],
   "source": [
    "data = new_df.to_dict(orient='records')"
   ]
  },
  {
   "cell_type": "code",
   "execution_count": 84,
   "metadata": {},
   "outputs": [],
   "source": [
    "UserReviewsClean.insert(data).execute()"
   ]
  },
  {
   "cell_type": "code",
   "execution_count": 89,
   "metadata": {},
   "outputs": [],
   "source": [
    "# You can, of course, wrap this in a transaction as well:\n",
    "with database.atomic():\n",
    "    UserReviewsClean.insert_many(data).execute()"
   ]
  },
  {
   "cell_type": "code",
   "execution_count": 44,
   "metadata": {},
   "outputs": [],
   "source": [
    "# Insert rows 100 at a time.\n",
    "with database.atomic():\n",
    "    for idx in range(0, len(data), 100):\n",
    "        UserReviewsClean.insert_many(data[idx:idx+100]).execute()"
   ]
  },
  {
   "cell_type": "markdown",
   "metadata": {},
   "source": [
    "### Experimentation with Flair"
   ]
  },
  {
   "cell_type": "code",
   "execution_count": 49,
   "metadata": {},
   "outputs": [
    {
     "name": "stdout",
     "output_type": "stream",
     "text": [
      "2019-10-02 14:28:03,804 loading file /Users/Jules/.flair/models/imdb-v0.4.pt\n"
     ]
    }
   ],
   "source": [
    "import flair\n",
    "from flair.data import Sentence\n",
    "\n",
    "flair_sentiment = flair.models.TextClassifier.load('en-sentiment')"
   ]
  },
  {
   "cell_type": "code",
   "execution_count": 88,
   "metadata": {},
   "outputs": [
    {
     "name": "stdout",
     "output_type": "stream",
     "text": [
      "The only reason why we didnâ<U+0080><U+0099>t give our best vote to this game is because it is closely related to an event after which the title could lose part of its attractiveness (there are no league teams and there is no substantial change in the multiplayer mode). Other than this, the best just got better! FIFA World Cup 2010 is just a few inches from perfection.\n"
     ]
    },
    {
     "data": {
      "text/plain": [
       "[Sentence: \"The only reason why we didnâ<U+0080><U+0099>t give our best vote to this game is because it is closely related to an event after which the title could lose part of its attractiveness (there are no league teams and there is no substantial change in the multiplayer mode). Other than this, the best just got better! FIFA World Cup 2010 is just a few inches from perfection.\" - 66 Tokens]"
      ]
     },
     "execution_count": 88,
     "metadata": {},
     "output_type": "execute_result"
    }
   ],
   "source": [
    "review = reviews[reviews['grade'] > 90].iloc[12]['review']\n",
    "\n",
    "print(review)\n",
    "\n",
    "s = flair.data.Sentence(review)\n",
    "flair_sentiment.predict(s)"
   ]
  },
  {
   "cell_type": "code",
   "execution_count": 61,
   "metadata": {},
   "outputs": [
    {
     "name": "stdout",
     "output_type": "stream",
     "text": [
      "2019-10-02 14:43:39,071 https://s3.eu-central-1.amazonaws.com/alan-nlp/resources/models-v0.4/NER-conll2002-dutch/nl-ner-conll02-v0.1.pt not found in cache, downloading to /var/folders/h6/c23ktx711x517m98bmjdb8jh0000gn/T/tmp6n0clre3\n"
     ]
    },
    {
     "name": "stderr",
     "output_type": "stream",
     "text": [
      "100%|██████████| 1392544535/1392544535 [01:41<00:00, 13693478.51B/s]"
     ]
    },
    {
     "name": "stdout",
     "output_type": "stream",
     "text": [
      "2019-10-02 14:45:20,972 copying /var/folders/h6/c23ktx711x517m98bmjdb8jh0000gn/T/tmp6n0clre3 to cache at /Users/Jules/.flair/models/nl-ner-conll02-v0.1.pt\n"
     ]
    },
    {
     "name": "stderr",
     "output_type": "stream",
     "text": [
      "\n"
     ]
    },
    {
     "name": "stdout",
     "output_type": "stream",
     "text": [
      "2019-10-02 14:45:22,915 removing temp file /var/folders/h6/c23ktx711x517m98bmjdb8jh0000gn/T/tmp6n0clre3\n",
      "2019-10-02 14:45:23,022 loading file /Users/Jules/.flair/models/nl-ner-conll02-v0.1.pt\n"
     ]
    }
   ],
   "source": [
    "tagger = flair.models.SequenceTagger.load('nl-ner')"
   ]
  },
  {
   "cell_type": "code",
   "execution_count": 76,
   "metadata": {},
   "outputs": [
    {
     "data": {
      "text/plain": [
       "[Sentence: \"Eetzaal van de aan het klooster verbonden kweekschool. De meisjes die daar werden opgeleid tot onderwijzeres verbleven intern in een internaat. De enige versieringen in deze zaal bestaan uit religieuze voorstellingen, waaronder een Mariabeeld en een H. Hartbeeld.\" - 38 Tokens]"
      ]
     },
     "execution_count": 76,
     "metadata": {},
     "output_type": "execute_result"
    }
   ],
   "source": [
    "sentence = Sentence('Eetzaal van de aan het klooster verbonden kweekschool. De meisjes die daar werden opgeleid tot onderwijzeres verbleven intern in een internaat. De enige versieringen in deze zaal bestaan uit religieuze voorstellingen, waaronder een Mariabeeld en een H. Hartbeeld.')\n",
    "\n",
    "# predict NER tags\n",
    "tagger.predict(sentence)\n",
    "\n",
    "# print sentence with predicted tags\n",
    "# print(sentence.to_tagged_string())"
   ]
  },
  {
   "cell_type": "code",
   "execution_count": 77,
   "metadata": {},
   "outputs": [
    {
     "name": "stdout",
     "output_type": "stream",
     "text": [
      "MISC-span [34]: \"Mariabeeld\"\n",
      "MISC-span [37,38]: \"H. Hartbeeld.\"\n"
     ]
    }
   ],
   "source": [
    "for entity in sentence.get_spans('ner'):\n",
    "    print(entity)"
   ]
  },
  {
   "cell_type": "code",
   "execution_count": 87,
   "metadata": {},
   "outputs": [
    {
     "name": "stdout",
     "output_type": "stream",
     "text": [
      "Sentence: \"Sint-Janssingel gezien in zuidelijke richting ter hoogte van de Stationsbrug, later Wilhelminabrug\" - 12 Tokens\n",
      "LOC-span [1]: \"Sint-Janssingel\"\n",
      "LOC-span [10]: \"Stationsbrug,\"\n",
      "LOC-span [12]: \"Wilhelminabrug\"\n",
      "--------------------------------\n",
      "Sentence: \"Midden op de achtergrond de molen bij het Wilhelminapark\" - 9 Tokens\n",
      "LOC-span [9]: \"Wilhelminapark\"\n",
      "--------------------------------\n",
      "Sentence: \"Rechts de nieuwe bebouwing aan de Kloostersingel, hoek Luybenstraat\" - 9 Tokens\n",
      "LOC-span [7]: \"Kloostersingel,\"\n",
      "LOC-span [9]: \"Luybenstraat\"\n",
      "--------------------------------\n",
      "Sentence: \"De rest van de nieuwe wijk het Zand is nog onbebouwd\" - 11 Tokens\n",
      "LOC-span [8]: \"Zand\"\n",
      "--------------------------------\n",
      "Sentence: \"Achter de bebouwing is de kerk van de paters Kapucijnen te zien\" - 12 Tokens\n",
      "PER-span [10]: \"Kapucijnen\"\n",
      "--------------------------------\n",
      "Sentence: \"Links de Sint-Janssingel met daarachter het kloostercomplex van de Marienburg\" - 10 Tokens\n",
      "LOC-span [3]: \"Sint-Janssingel\"\n",
      "LOC-span [10]: \"Marienburg\"\n",
      "--------------------------------\n",
      "Sentence: \"Fotograaf is Herman de Ruijter HdR\" - 6 Tokens\n",
      "PER-span [3,4,5]: \"Herman de Ruijter\"\n",
      "--------------------------------\n"
     ]
    }
   ],
   "source": [
    "raw = \"Sint-Janssingel gezien in zuidelijke richting ter hoogte van de Stationsbrug, later Wilhelminabrug. Midden op de achtergrond de molen bij het Wilhelminapark. Rechts de nieuwe bebouwing aan de Kloostersingel, hoek Luybenstraat. De rest van de nieuwe wijk het Zand is nog onbebouwd. Achter de bebouwing is de kerk van de paters Kapucijnen te zien. Links de Sint-Janssingel met daarachter het kloostercomplex van de Marienburg. Fotograaf is Herman de Ruijter HdR\"\n",
    "\n",
    "sentences = [Sentence(sentence) for sentence in raw.split('.')]\n",
    "\n",
    "for sentence in sentences:\n",
    "    print(sentence)\n",
    "    tagger.predict(sentence)\n",
    "    \n",
    "    for entity in sentence.get_spans('ner'):\n",
    "        print(entity)\n",
    "        \n",
    "    print('--------------------------------')"
   ]
  },
  {
   "cell_type": "code",
   "execution_count": null,
   "metadata": {},
   "outputs": [],
   "source": []
  }
 ],
 "metadata": {
  "kernelspec": {
   "display_name": "Python 3",
   "language": "python",
   "name": "python3"
  },
  "language_info": {
   "codemirror_mode": {
    "name": "ipython",
    "version": 3
   },
   "file_extension": ".py",
   "mimetype": "text/x-python",
   "name": "python",
   "nbconvert_exporter": "python",
   "pygments_lexer": "ipython3",
   "version": "3.7.3"
  },
  "toc": {
   "base_numbering": 1,
   "nav_menu": {},
   "number_sections": true,
   "sideBar": true,
   "skip_h1_title": false,
   "title_cell": "Table of Contents",
   "title_sidebar": "Contents",
   "toc_cell": false,
   "toc_position": {},
   "toc_section_display": true,
   "toc_window_display": false
  }
 },
 "nbformat": 4,
 "nbformat_minor": 4
}
