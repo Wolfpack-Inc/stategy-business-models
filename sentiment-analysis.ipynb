{
 "cells": [
  {
   "cell_type": "code",
   "execution_count": 2,
   "metadata": {},
   "outputs": [],
   "source": [
    "import nltk\n",
    "import pandas as pd\n",
    "\n",
    "from nltk.sentiment.vader import SentimentIntensityAnalyzer\n",
    "from toolbox import ToolBox\n",
    "from textblob import TextBlob\n",
    "\n",
    "# nltk.download('vader_lexicon')"
   ]
  },
  {
   "cell_type": "code",
   "execution_count": 3,
   "metadata": {},
   "outputs": [
    {
     "data": {
      "text/plain": [
       "{'neg': 0.661, 'neu': 0.339, 'pos': 0.0, 'compound': -0.7048}"
      ]
     },
     "execution_count": 3,
     "metadata": {},
     "output_type": "execute_result"
    }
   ],
   "source": [
    "sid = SentimentIntensityAnalyzer()\n",
    "sid.polarity_scores('This is not super fun')"
   ]
  },
  {
   "cell_type": "code",
   "execution_count": 4,
   "metadata": {},
   "outputs": [],
   "source": [
    "tb = ToolBox()"
   ]
  },
  {
   "cell_type": "code",
   "execution_count": 5,
   "metadata": {},
   "outputs": [
    {
     "name": "stdout",
     "output_type": "stream",
     "text": [
      "Loaded from cache\n"
     ]
    },
    {
     "data": {
      "text/html": [
       "<div>\n",
       "<style scoped>\n",
       "    .dataframe tbody tr th:only-of-type {\n",
       "        vertical-align: middle;\n",
       "    }\n",
       "\n",
       "    .dataframe tbody tr th {\n",
       "        vertical-align: top;\n",
       "    }\n",
       "\n",
       "    .dataframe thead th {\n",
       "        text-align: right;\n",
       "    }\n",
       "</style>\n",
       "<table border=\"1\" class=\"dataframe\">\n",
       "  <thead>\n",
       "    <tr style=\"text-align: right;\">\n",
       "      <th></th>\n",
       "      <th>game</th>\n",
       "      <th>username</th>\n",
       "      <th>date</th>\n",
       "      <th>grade</th>\n",
       "      <th>review</th>\n",
       "      <th>lang</th>\n",
       "      <th>helpful_nb</th>\n",
       "      <th>helpful_nb_total</th>\n",
       "    </tr>\n",
       "  </thead>\n",
       "  <tbody>\n",
       "    <tr>\n",
       "      <th>0</th>\n",
       "      <td>007-legends-pc</td>\n",
       "      <td>Bughyman1000</td>\n",
       "      <td>2013-01-19</td>\n",
       "      <td>30</td>\n",
       "      <td>Oh, my dear God! What is it with developers th...</td>\n",
       "      <td>en</td>\n",
       "      <td>0</td>\n",
       "      <td>0</td>\n",
       "    </tr>\n",
       "    <tr>\n",
       "      <th>1</th>\n",
       "      <td>007-legends-pc</td>\n",
       "      <td>DiabloZiri</td>\n",
       "      <td>2014-06-23</td>\n",
       "      <td>30</td>\n",
       "      <td>Seriously if you want to have a HUGE laugh wit...</td>\n",
       "      <td>en</td>\n",
       "      <td>0</td>\n",
       "      <td>0</td>\n",
       "    </tr>\n",
       "    <tr>\n",
       "      <th>2</th>\n",
       "      <td>007-legends-pc</td>\n",
       "      <td>DrugsMeazureTim</td>\n",
       "      <td>2014-12-11</td>\n",
       "      <td>0</td>\n",
       "      <td>godawful port of the xbox 360 version and ps3....</td>\n",
       "      <td>en</td>\n",
       "      <td>0</td>\n",
       "      <td>0</td>\n",
       "    </tr>\n",
       "    <tr>\n",
       "      <th>3</th>\n",
       "      <td>007-legends-pc</td>\n",
       "      <td>DustEater</td>\n",
       "      <td>2012-11-03</td>\n",
       "      <td>0</td>\n",
       "      <td>Agree. Worst game ever. Its a full copy of Cal...</td>\n",
       "      <td>en</td>\n",
       "      <td>8</td>\n",
       "      <td>8</td>\n",
       "    </tr>\n",
       "    <tr>\n",
       "      <th>4</th>\n",
       "      <td>007-legends-pc</td>\n",
       "      <td>evry1isacritic</td>\n",
       "      <td>2012-11-04</td>\n",
       "      <td>0</td>\n",
       "      <td>DO NOT BUY THIS GAME for the PC (or for any ot...</td>\n",
       "      <td>en</td>\n",
       "      <td>2</td>\n",
       "      <td>2</td>\n",
       "    </tr>\n",
       "  </tbody>\n",
       "</table>\n",
       "</div>"
      ],
      "text/plain": [
       "             game         username       date  grade  \\\n",
       "0  007-legends-pc     Bughyman1000 2013-01-19     30   \n",
       "1  007-legends-pc       DiabloZiri 2014-06-23     30   \n",
       "2  007-legends-pc  DrugsMeazureTim 2014-12-11      0   \n",
       "3  007-legends-pc        DustEater 2012-11-03      0   \n",
       "4  007-legends-pc   evry1isacritic 2012-11-04      0   \n",
       "\n",
       "                                              review lang  helpful_nb  \\\n",
       "0  Oh, my dear God! What is it with developers th...   en           0   \n",
       "1  Seriously if you want to have a HUGE laugh wit...   en           0   \n",
       "2  godawful port of the xbox 360 version and ps3....   en           0   \n",
       "3  Agree. Worst game ever. Its a full copy of Cal...   en           8   \n",
       "4  DO NOT BUY THIS GAME for the PC (or for any ot...   en           2   \n",
       "\n",
       "   helpful_nb_total  \n",
       "0                 0  \n",
       "1                 0  \n",
       "2                 0  \n",
       "3                 8  \n",
       "4                 2  "
      ]
     },
     "execution_count": 5,
     "metadata": {},
     "output_type": "execute_result"
    }
   ],
   "source": [
    "reviews = tb.load_data_sql(table='user_reviews', where=\"lang = 'en'\", limit=1000)\n",
    "reviews.head()"
   ]
  },
  {
   "cell_type": "code",
   "execution_count": 6,
   "metadata": {},
   "outputs": [],
   "source": [
    "def vader_sentiment_to_df(reviews):\n",
    "    '''\n",
    "        Gets the sentiment scores of reviews using nltk.sentiment.vader.\n",
    "    '''\n",
    "    sid = SentimentIntensityAnalyzer()\n",
    "\n",
    "    negative = []\n",
    "    neutral = []\n",
    "    positive = []\n",
    "    compound = []\n",
    "\n",
    "    for review in reviews:\n",
    "        scores = list(sid.polarity_scores(review).values())\n",
    "\n",
    "        neg, neu, pos, comp = (scores[0], scores[1], scores[2], scores[3])\n",
    "\n",
    "        negative.append(neg)\n",
    "        neutral.append(neu)\n",
    "        positive.append(pos)\n",
    "        compound.append(comp)\n",
    "\n",
    "    return pd.DataFrame.from_dict({'negative':negative, 'neutral':neutral, 'positive':positive, 'compound':compound})\n"
   ]
  },
  {
   "cell_type": "code",
   "execution_count": 7,
   "metadata": {},
   "outputs": [],
   "source": [
    "def TB_sentiment_to_df(reviews):\n",
    "    '''\n",
    "    Computes the polarity and subjectivity scores of reviews using TextBlob and returns a dataframe.\n",
    "    '''\n",
    "    polarity = []\n",
    "    subjectivity = []\n",
    "\n",
    "    for review in reviews:\n",
    "        scores = TextBlob(review).sentiment\n",
    "\n",
    "        polarity.append(scores.polarity)\n",
    "        subjectivity.append(scores.subjectivity)\n",
    "\n",
    "    return pd.DataFrame.from_dict({'TB-polarity':polarity, 'TB-subjectivity': subjectivity})"
   ]
  },
  {
   "cell_type": "code",
   "execution_count": 8,
   "metadata": {},
   "outputs": [
    {
     "data": {
      "text/plain": [
       "((1000, 4), (1000, 2))"
      ]
     },
     "execution_count": 8,
     "metadata": {},
     "output_type": "execute_result"
    }
   ],
   "source": [
    "vader_sentiment_df = vader_sentiment_to_df(reviews['review'])\n",
    "\n",
    "TB_sentiment_df = TB_sentiment_to_df(reviews['review'])\n",
    "\n",
    "vader_sentiment_df.shape, TB_sentiment_df.shape"
   ]
  },
  {
   "cell_type": "code",
   "execution_count": 9,
   "metadata": {},
   "outputs": [
    {
     "data": {
      "text/html": [
       "<div>\n",
       "<style scoped>\n",
       "    .dataframe tbody tr th:only-of-type {\n",
       "        vertical-align: middle;\n",
       "    }\n",
       "\n",
       "    .dataframe tbody tr th {\n",
       "        vertical-align: top;\n",
       "    }\n",
       "\n",
       "    .dataframe thead th {\n",
       "        text-align: right;\n",
       "    }\n",
       "</style>\n",
       "<table border=\"1\" class=\"dataframe\">\n",
       "  <thead>\n",
       "    <tr style=\"text-align: right;\">\n",
       "      <th></th>\n",
       "      <th>negative</th>\n",
       "      <th>neutral</th>\n",
       "      <th>positive</th>\n",
       "      <th>compound</th>\n",
       "      <th>TB-polarity</th>\n",
       "      <th>TB-subjectivity</th>\n",
       "    </tr>\n",
       "  </thead>\n",
       "  <tbody>\n",
       "    <tr>\n",
       "      <th>0</th>\n",
       "      <td>0.156</td>\n",
       "      <td>0.767</td>\n",
       "      <td>0.077</td>\n",
       "      <td>-0.9191</td>\n",
       "      <td>-0.132968</td>\n",
       "      <td>0.503030</td>\n",
       "    </tr>\n",
       "    <tr>\n",
       "      <th>1</th>\n",
       "      <td>0.053</td>\n",
       "      <td>0.402</td>\n",
       "      <td>0.545</td>\n",
       "      <td>0.9424</td>\n",
       "      <td>0.048333</td>\n",
       "      <td>0.433333</td>\n",
       "    </tr>\n",
       "    <tr>\n",
       "      <th>2</th>\n",
       "      <td>0.078</td>\n",
       "      <td>0.874</td>\n",
       "      <td>0.048</td>\n",
       "      <td>-0.3869</td>\n",
       "      <td>-0.500000</td>\n",
       "      <td>0.600000</td>\n",
       "    </tr>\n",
       "    <tr>\n",
       "      <th>3</th>\n",
       "      <td>0.143</td>\n",
       "      <td>0.654</td>\n",
       "      <td>0.204</td>\n",
       "      <td>0.5496</td>\n",
       "      <td>-0.126389</td>\n",
       "      <td>0.426389</td>\n",
       "    </tr>\n",
       "    <tr>\n",
       "      <th>4</th>\n",
       "      <td>0.130</td>\n",
       "      <td>0.823</td>\n",
       "      <td>0.047</td>\n",
       "      <td>-0.9612</td>\n",
       "      <td>-0.289268</td>\n",
       "      <td>0.430177</td>\n",
       "    </tr>\n",
       "  </tbody>\n",
       "</table>\n",
       "</div>"
      ],
      "text/plain": [
       "   negative  neutral  positive  compound  TB-polarity  TB-subjectivity\n",
       "0     0.156    0.767     0.077   -0.9191    -0.132968         0.503030\n",
       "1     0.053    0.402     0.545    0.9424     0.048333         0.433333\n",
       "2     0.078    0.874     0.048   -0.3869    -0.500000         0.600000\n",
       "3     0.143    0.654     0.204    0.5496    -0.126389         0.426389\n",
       "4     0.130    0.823     0.047   -0.9612    -0.289268         0.430177"
      ]
     },
     "execution_count": 9,
     "metadata": {},
     "output_type": "execute_result"
    }
   ],
   "source": [
    "sentiment_df = pd.concat([vader_sentiment_df, TB_sentiment_df], axis = 1)\n",
    "sentiment_df.head()"
   ]
  },
  {
   "cell_type": "code",
   "execution_count": 12,
   "metadata": {},
   "outputs": [
    {
     "name": "stdout",
     "output_type": "stream",
     "text": [
      "Oh, my dear God! What is it with developers these days? i understand the fact that almost all licensed games are awful, but.. really, that awful?! It's really a torment, playing through this game. i only finished it because I didn't want to stop at the second mission. I might say I have S&amp;M tendencies, for putting myself through this. First: The graphics strike you as being 2004-ish (at best) and I don't wanna hear anyone say \"it's a console title\". That doesn't matter, there are so many other well-made games. It has no adjustable settings, besides the resolution!  The sound - horrible, The controls - outrageous (without gamepad compatibility - how is this a console port if it doesn't even have gamepad compatibility?!) The acting - pure mockery..Stupid scripting often leave the characters repeating the same line over and over again, like babbling idiots. The Gadgets and gameplay opportunities - completely wasted. I can't find one good thing to say about this; even the main menu looks horrible!  ",
      "\n",
      "\n",
      " .    .    .  ",
      "u want to have a HUGE laugh with your friends, play this game NOW! You will just laugh a lot!\n",
      "\n",
      "  007 LEGENDS IS A PIECE OF ****ING ****  ",
      "s3. it's like activision said that 007 legend on the xbox 360 and ps3 didn't **** up with people. so let's release it on the pc and make it even WORSE ! **** YOU\n",
      "\n",
      "  Previous BOND game was much betteropy of Call of Duty Modern Warfare 1 but with everything worse than in this CoD. Dont waste money for this game. Graphic almost doesnt exist, sound effects like 20 years ago, AI - none.\n",
      "\n",
      "  As previous reviewers have mentioned, the AI is just HORRIBLE.  IF you just run by the enemy they'll still be facing the opposite direction and may or may not even shoot back at you. The graphics look old and outdated (looked like a 5 year old bargain bin game),  the level designs are bad, the sound effects are bad.  ",
      "ur character will be spun around and you'll become very disoriented) -- and this is AFTER I set my mouse to the lowest DPI and turned mouse sensitivity to ZERO in the game!\n",
      "\n"
     ]
    }
   ],
   "source": [
    "for review in reviews['review'][0:5]:\n",
    "    print(review)\n",
    "    print('')"
   ]
  },
  {
   "cell_type": "code",
   "execution_count": 112,
   "metadata": {},
   "outputs": [
    {
     "data": {
      "text/html": [
       "<div>\n",
       "<style scoped>\n",
       "    .dataframe tbody tr th:only-of-type {\n",
       "        vertical-align: middle;\n",
       "    }\n",
       "\n",
       "    .dataframe tbody tr th {\n",
       "        vertical-align: top;\n",
       "    }\n",
       "\n",
       "    .dataframe thead th {\n",
       "        text-align: right;\n",
       "    }\n",
       "</style>\n",
       "<table border=\"1\" class=\"dataframe\">\n",
       "  <thead>\n",
       "    <tr style=\"text-align: right;\">\n",
       "      <th></th>\n",
       "      <th>negative</th>\n",
       "      <th>neutral</th>\n",
       "      <th>positive</th>\n",
       "      <th>compound</th>\n",
       "      <th>TB-polarity</th>\n",
       "      <th>TB-subjectivity</th>\n",
       "    </tr>\n",
       "  </thead>\n",
       "  <tbody>\n",
       "    <tr>\n",
       "      <th>negative</th>\n",
       "      <td>1.000000</td>\n",
       "      <td>-0.286450</td>\n",
       "      <td>-0.454577</td>\n",
       "      <td>-0.744712</td>\n",
       "      <td>-0.622535</td>\n",
       "      <td>0.155389</td>\n",
       "    </tr>\n",
       "    <tr>\n",
       "      <th>neutral</th>\n",
       "      <td>-0.286450</td>\n",
       "      <td>1.000000</td>\n",
       "      <td>-0.723159</td>\n",
       "      <td>-0.092881</td>\n",
       "      <td>-0.154158</td>\n",
       "      <td>-0.348041</td>\n",
       "    </tr>\n",
       "    <tr>\n",
       "      <th>positive</th>\n",
       "      <td>-0.454577</td>\n",
       "      <td>-0.723159</td>\n",
       "      <td>1.000000</td>\n",
       "      <td>0.623224</td>\n",
       "      <td>0.592198</td>\n",
       "      <td>0.211519</td>\n",
       "    </tr>\n",
       "    <tr>\n",
       "      <th>compound</th>\n",
       "      <td>-0.744712</td>\n",
       "      <td>-0.092881</td>\n",
       "      <td>0.623224</td>\n",
       "      <td>1.000000</td>\n",
       "      <td>0.585304</td>\n",
       "      <td>-0.022430</td>\n",
       "    </tr>\n",
       "    <tr>\n",
       "      <th>TB-polarity</th>\n",
       "      <td>-0.622535</td>\n",
       "      <td>-0.154158</td>\n",
       "      <td>0.592198</td>\n",
       "      <td>0.585304</td>\n",
       "      <td>1.000000</td>\n",
       "      <td>0.058578</td>\n",
       "    </tr>\n",
       "    <tr>\n",
       "      <th>TB-subjectivity</th>\n",
       "      <td>0.155389</td>\n",
       "      <td>-0.348041</td>\n",
       "      <td>0.211519</td>\n",
       "      <td>-0.022430</td>\n",
       "      <td>0.058578</td>\n",
       "      <td>1.000000</td>\n",
       "    </tr>\n",
       "  </tbody>\n",
       "</table>\n",
       "</div>"
      ],
      "text/plain": [
       "                 negative   neutral  positive  compound  TB-polarity  \\\n",
       "negative         1.000000 -0.286450 -0.454577 -0.744712    -0.622535   \n",
       "neutral         -0.286450  1.000000 -0.723159 -0.092881    -0.154158   \n",
       "positive        -0.454577 -0.723159  1.000000  0.623224     0.592198   \n",
       "compound        -0.744712 -0.092881  0.623224  1.000000     0.585304   \n",
       "TB-polarity     -0.622535 -0.154158  0.592198  0.585304     1.000000   \n",
       "TB-subjectivity  0.155389 -0.348041  0.211519 -0.022430     0.058578   \n",
       "\n",
       "                 TB-subjectivity  \n",
       "negative                0.155389  \n",
       "neutral                -0.348041  \n",
       "positive                0.211519  \n",
       "compound               -0.022430  \n",
       "TB-polarity             0.058578  \n",
       "TB-subjectivity         1.000000  "
      ]
     },
     "execution_count": 112,
     "metadata": {},
     "output_type": "execute_result"
    }
   ],
   "source": [
    "sentiment_df.corr()"
   ]
  },
  {
   "cell_type": "code",
   "execution_count": 49,
   "metadata": {},
   "outputs": [
    {
     "name": "stdout",
     "output_type": "stream",
     "text": [
      "2019-10-02 14:28:03,804 loading file /Users/Jules/.flair/models/imdb-v0.4.pt\n"
     ]
    }
   ],
   "source": [
    "import flair\n",
    "from flair.data import Sentence\n",
    "\n",
    "flair_sentiment = flair.models.TextClassifier.load('en-sentiment')"
   ]
  },
  {
   "cell_type": "code",
   "execution_count": 88,
   "metadata": {},
   "outputs": [
    {
     "name": "stdout",
     "output_type": "stream",
     "text": [
      "The only reason why we didnâ<U+0080><U+0099>t give our best vote to this game is because it is closely related to an event after which the title could lose part of its attractiveness (there are no league teams and there is no substantial change in the multiplayer mode). Other than this, the best just got better! FIFA World Cup 2010 is just a few inches from perfection.\n"
     ]
    },
    {
     "data": {
      "text/plain": [
       "[Sentence: \"The only reason why we didnâ<U+0080><U+0099>t give our best vote to this game is because it is closely related to an event after which the title could lose part of its attractiveness (there are no league teams and there is no substantial change in the multiplayer mode). Other than this, the best just got better! FIFA World Cup 2010 is just a few inches from perfection.\" - 66 Tokens]"
      ]
     },
     "execution_count": 88,
     "metadata": {},
     "output_type": "execute_result"
    }
   ],
   "source": [
    "review = reviews[reviews['grade'] > 90].iloc[12]['review']\n",
    "\n",
    "print(review)\n",
    "\n",
    "s = flair.data.Sentence(review)\n",
    "flair_sentiment.predict(s)"
   ]
  },
  {
   "cell_type": "code",
   "execution_count": 61,
   "metadata": {},
   "outputs": [
    {
     "name": "stdout",
     "output_type": "stream",
     "text": [
      "2019-10-02 14:43:39,071 https://s3.eu-central-1.amazonaws.com/alan-nlp/resources/models-v0.4/NER-conll2002-dutch/nl-ner-conll02-v0.1.pt not found in cache, downloading to /var/folders/h6/c23ktx711x517m98bmjdb8jh0000gn/T/tmp6n0clre3\n"
     ]
    },
    {
     "name": "stderr",
     "output_type": "stream",
     "text": [
      "100%|██████████| 1392544535/1392544535 [01:41<00:00, 13693478.51B/s]"
     ]
    },
    {
     "name": "stdout",
     "output_type": "stream",
     "text": [
      "2019-10-02 14:45:20,972 copying /var/folders/h6/c23ktx711x517m98bmjdb8jh0000gn/T/tmp6n0clre3 to cache at /Users/Jules/.flair/models/nl-ner-conll02-v0.1.pt\n"
     ]
    },
    {
     "name": "stderr",
     "output_type": "stream",
     "text": [
      "\n"
     ]
    },
    {
     "name": "stdout",
     "output_type": "stream",
     "text": [
      "2019-10-02 14:45:22,915 removing temp file /var/folders/h6/c23ktx711x517m98bmjdb8jh0000gn/T/tmp6n0clre3\n",
      "2019-10-02 14:45:23,022 loading file /Users/Jules/.flair/models/nl-ner-conll02-v0.1.pt\n"
     ]
    }
   ],
   "source": [
    "tagger = flair.models.SequenceTagger.load('nl-ner')"
   ]
  },
  {
   "cell_type": "code",
   "execution_count": 76,
   "metadata": {},
   "outputs": [
    {
     "data": {
      "text/plain": [
       "[Sentence: \"Eetzaal van de aan het klooster verbonden kweekschool. De meisjes die daar werden opgeleid tot onderwijzeres verbleven intern in een internaat. De enige versieringen in deze zaal bestaan uit religieuze voorstellingen, waaronder een Mariabeeld en een H. Hartbeeld.\" - 38 Tokens]"
      ]
     },
     "execution_count": 76,
     "metadata": {},
     "output_type": "execute_result"
    }
   ],
   "source": [
    "sentence = Sentence('Eetzaal van de aan het klooster verbonden kweekschool. De meisjes die daar werden opgeleid tot onderwijzeres verbleven intern in een internaat. De enige versieringen in deze zaal bestaan uit religieuze voorstellingen, waaronder een Mariabeeld en een H. Hartbeeld.')\n",
    "\n",
    "# predict NER tags\n",
    "tagger.predict(sentence)\n",
    "\n",
    "# print sentence with predicted tags\n",
    "# print(sentence.to_tagged_string())"
   ]
  },
  {
   "cell_type": "code",
   "execution_count": 77,
   "metadata": {},
   "outputs": [
    {
     "name": "stdout",
     "output_type": "stream",
     "text": [
      "MISC-span [34]: \"Mariabeeld\"\n",
      "MISC-span [37,38]: \"H. Hartbeeld.\"\n"
     ]
    }
   ],
   "source": [
    "for entity in sentence.get_spans('ner'):\n",
    "    print(entity)"
   ]
  },
  {
   "cell_type": "code",
   "execution_count": 87,
   "metadata": {},
   "outputs": [
    {
     "name": "stdout",
     "output_type": "stream",
     "text": [
      "Sentence: \"Sint-Janssingel gezien in zuidelijke richting ter hoogte van de Stationsbrug, later Wilhelminabrug\" - 12 Tokens\n",
      "LOC-span [1]: \"Sint-Janssingel\"\n",
      "LOC-span [10]: \"Stationsbrug,\"\n",
      "LOC-span [12]: \"Wilhelminabrug\"\n",
      "--------------------------------\n",
      "Sentence: \"Midden op de achtergrond de molen bij het Wilhelminapark\" - 9 Tokens\n",
      "LOC-span [9]: \"Wilhelminapark\"\n",
      "--------------------------------\n",
      "Sentence: \"Rechts de nieuwe bebouwing aan de Kloostersingel, hoek Luybenstraat\" - 9 Tokens\n",
      "LOC-span [7]: \"Kloostersingel,\"\n",
      "LOC-span [9]: \"Luybenstraat\"\n",
      "--------------------------------\n",
      "Sentence: \"De rest van de nieuwe wijk het Zand is nog onbebouwd\" - 11 Tokens\n",
      "LOC-span [8]: \"Zand\"\n",
      "--------------------------------\n",
      "Sentence: \"Achter de bebouwing is de kerk van de paters Kapucijnen te zien\" - 12 Tokens\n",
      "PER-span [10]: \"Kapucijnen\"\n",
      "--------------------------------\n",
      "Sentence: \"Links de Sint-Janssingel met daarachter het kloostercomplex van de Marienburg\" - 10 Tokens\n",
      "LOC-span [3]: \"Sint-Janssingel\"\n",
      "LOC-span [10]: \"Marienburg\"\n",
      "--------------------------------\n",
      "Sentence: \"Fotograaf is Herman de Ruijter HdR\" - 6 Tokens\n",
      "PER-span [3,4,5]: \"Herman de Ruijter\"\n",
      "--------------------------------\n"
     ]
    }
   ],
   "source": [
    "raw = \"Sint-Janssingel gezien in zuidelijke richting ter hoogte van de Stationsbrug, later Wilhelminabrug. Midden op de achtergrond de molen bij het Wilhelminapark. Rechts de nieuwe bebouwing aan de Kloostersingel, hoek Luybenstraat. De rest van de nieuwe wijk het Zand is nog onbebouwd. Achter de bebouwing is de kerk van de paters Kapucijnen te zien. Links de Sint-Janssingel met daarachter het kloostercomplex van de Marienburg. Fotograaf is Herman de Ruijter HdR\"\n",
    "\n",
    "sentences = [Sentence(sentence) for sentence in raw.split('.')]\n",
    "\n",
    "for sentence in sentences:\n",
    "    print(sentence)\n",
    "    tagger.predict(sentence)\n",
    "    \n",
    "    for entity in sentence.get_spans('ner'):\n",
    "        print(entity)\n",
    "        \n",
    "    print('--------------------------------')"
   ]
  },
  {
   "cell_type": "code",
   "execution_count": null,
   "metadata": {},
   "outputs": [],
   "source": []
  }
 ],
 "metadata": {
  "kernelspec": {
   "display_name": "Python 3",
   "language": "python",
   "name": "python3"
  },
  "language_info": {
   "codemirror_mode": {
    "name": "ipython",
    "version": 3
   },
   "file_extension": ".py",
   "mimetype": "text/x-python",
   "name": "python",
   "nbconvert_exporter": "python",
   "pygments_lexer": "ipython3",
   "version": "3.7.3"
  },
  "toc": {
   "base_numbering": 1,
   "nav_menu": {},
   "number_sections": true,
   "sideBar": true,
   "skip_h1_title": false,
   "title_cell": "Table of Contents",
   "title_sidebar": "Contents",
   "toc_cell": false,
   "toc_position": {},
   "toc_section_display": true,
   "toc_window_display": false
  }
 },
 "nbformat": 4,
 "nbformat_minor": 4
}
