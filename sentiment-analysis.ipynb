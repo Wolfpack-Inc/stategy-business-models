{
 "cells": [
  {
   "cell_type": "code",
   "execution_count": 16,
   "metadata": {},
   "outputs": [
    {
     "name": "stderr",
     "output_type": "stream",
     "text": [
      "[nltk_data] Downloading package vader_lexicon to\n",
      "[nltk_data]     /Users/Jules/nltk_data...\n",
      "[nltk_data]   Package vader_lexicon is already up-to-date!\n"
     ]
    },
    {
     "data": {
      "text/plain": [
       "True"
      ]
     },
     "execution_count": 16,
     "metadata": {},
     "output_type": "execute_result"
    }
   ],
   "source": [
    "import nltk\n",
    "\n",
    "from nltk.sentiment.vader import SentimentIntensityAnalyzer\n",
    "from toolbox import ToolBox\n",
    "from textblob import TextBlob\n",
    "\n",
    "nltk.download('vader_lexicon')"
   ]
  },
  {
   "cell_type": "code",
   "execution_count": 2,
   "metadata": {},
   "outputs": [
    {
     "data": {
      "text/plain": [
       "{'neg': 0.661, 'neu': 0.339, 'pos': 0.0, 'compound': -0.7048}"
      ]
     },
     "execution_count": 2,
     "metadata": {},
     "output_type": "execute_result"
    }
   ],
   "source": [
    "sid = SentimentIntensityAnalyzer()\n",
    "sid.polarity_scores('This is not super fun')"
   ]
  },
  {
   "cell_type": "code",
   "execution_count": 3,
   "metadata": {},
   "outputs": [],
   "source": [
    "tb = ToolBox()"
   ]
  },
  {
   "cell_type": "code",
   "execution_count": 41,
   "metadata": {},
   "outputs": [
    {
     "data": {
      "text/html": [
       "<div>\n",
       "<style scoped>\n",
       "    .dataframe tbody tr th:only-of-type {\n",
       "        vertical-align: middle;\n",
       "    }\n",
       "\n",
       "    .dataframe tbody tr th {\n",
       "        vertical-align: top;\n",
       "    }\n",
       "\n",
       "    .dataframe thead th {\n",
       "        text-align: right;\n",
       "    }\n",
       "</style>\n",
       "<table border=\"1\" class=\"dataframe\">\n",
       "  <thead>\n",
       "    <tr style=\"text-align: right;\">\n",
       "      <th></th>\n",
       "      <th>game</th>\n",
       "      <th>source</th>\n",
       "      <th>date</th>\n",
       "      <th>grade</th>\n",
       "      <th>review</th>\n",
       "      <th>lang</th>\n",
       "    </tr>\n",
       "  </thead>\n",
       "  <tbody>\n",
       "    <tr>\n",
       "      <th>0</th>\n",
       "      <td>007-legends-pc</td>\n",
       "      <td>GamingXP</td>\n",
       "      <td>2012-12-03</td>\n",
       "      <td>35.0</td>\n",
       "      <td>Unfortunately the game proves the fact, that d...</td>\n",
       "      <td>en</td>\n",
       "    </tr>\n",
       "    <tr>\n",
       "      <th>1</th>\n",
       "      <td>007-legends-pc</td>\n",
       "      <td>LEVEL (Czech Republic)</td>\n",
       "      <td>2012-12-21</td>\n",
       "      <td>30.0</td>\n",
       "      <td>The worst gift agent 007 could possibly get to...</td>\n",
       "      <td>en</td>\n",
       "    </tr>\n",
       "    <tr>\n",
       "      <th>2</th>\n",
       "      <td>007-legends-pc</td>\n",
       "      <td>PC Gamer</td>\n",
       "      <td>2013-01-05</td>\n",
       "      <td>16.0</td>\n",
       "      <td>Legends, you're the worst. [Feb 2013, p.79]</td>\n",
       "      <td>en</td>\n",
       "    </tr>\n",
       "    <tr>\n",
       "      <th>3</th>\n",
       "      <td>007-legends-pc</td>\n",
       "      <td>PC Master (Greece)</td>\n",
       "      <td>2013-02-06</td>\n",
       "      <td>28.0</td>\n",
       "      <td>Why put yourself through this ordeal, when the...</td>\n",
       "      <td>en</td>\n",
       "    </tr>\n",
       "    <tr>\n",
       "      <th>4</th>\n",
       "      <td>007-legends-pc</td>\n",
       "      <td>Riot Pixels</td>\n",
       "      <td>2013-01-29</td>\n",
       "      <td>25.0</td>\n",
       "      <td>007 Legends greets you with a warning that Act...</td>\n",
       "      <td>en</td>\n",
       "    </tr>\n",
       "  </tbody>\n",
       "</table>\n",
       "</div>"
      ],
      "text/plain": [
       "             game                  source       date  grade  \\\n",
       "0  007-legends-pc                GamingXP 2012-12-03   35.0   \n",
       "1  007-legends-pc  LEVEL (Czech Republic) 2012-12-21   30.0   \n",
       "2  007-legends-pc                PC Gamer 2013-01-05   16.0   \n",
       "3  007-legends-pc      PC Master (Greece) 2013-02-06   28.0   \n",
       "4  007-legends-pc             Riot Pixels 2013-01-29   25.0   \n",
       "\n",
       "                                              review lang  \n",
       "0  Unfortunately the game proves the fact, that d...   en  \n",
       "1  The worst gift agent 007 could possibly get to...   en  \n",
       "2        Legends, you're the worst. [Feb 2013, p.79]   en  \n",
       "3  Why put yourself through this ordeal, when the...   en  \n",
       "4  007 Legends greets you with a warning that Act...   en  "
      ]
     },
     "execution_count": 41,
     "metadata": {},
     "output_type": "execute_result"
    }
   ],
   "source": [
    "reviews = tb.load_data_sql(table='critic_reviews', where=\"lang = 'en'\", limit=1000)\n",
    "reviews.head()"
   ]
  },
  {
   "cell_type": "code",
   "execution_count": 42,
   "metadata": {},
   "outputs": [
    {
     "data": {
      "text/plain": [
       "Sentiment(polarity=0.016666666666666653, subjectivity=0.4761904761904762)"
      ]
     },
     "execution_count": 42,
     "metadata": {},
     "output_type": "execute_result"
    }
   ],
   "source": [
    "review = reviews.iloc[0]['review']\n",
    "\n",
    "TextBlob(review).sentiment"
   ]
  },
  {
   "cell_type": "code",
   "execution_count": 49,
   "metadata": {},
   "outputs": [
    {
     "name": "stdout",
     "output_type": "stream",
     "text": [
      "2019-10-02 14:28:03,804 loading file /Users/Jules/.flair/models/imdb-v0.4.pt\n"
     ]
    }
   ],
   "source": [
    "import flair\n",
    "from flair.data import Sentence\n",
    "\n",
    "flair_sentiment = flair.models.TextClassifier.load('en-sentiment')"
   ]
  },
  {
   "cell_type": "code",
   "execution_count": 88,
   "metadata": {},
   "outputs": [
    {
     "name": "stdout",
     "output_type": "stream",
     "text": [
      "The only reason why we didnâ<U+0080><U+0099>t give our best vote to this game is because it is closely related to an event after which the title could lose part of its attractiveness (there are no league teams and there is no substantial change in the multiplayer mode). Other than this, the best just got better! FIFA World Cup 2010 is just a few inches from perfection.\n"
     ]
    },
    {
     "data": {
      "text/plain": [
       "[Sentence: \"The only reason why we didnâ<U+0080><U+0099>t give our best vote to this game is because it is closely related to an event after which the title could lose part of its attractiveness (there are no league teams and there is no substantial change in the multiplayer mode). Other than this, the best just got better! FIFA World Cup 2010 is just a few inches from perfection.\" - 66 Tokens]"
      ]
     },
     "execution_count": 88,
     "metadata": {},
     "output_type": "execute_result"
    }
   ],
   "source": [
    "review = reviews[reviews['grade'] > 90].iloc[12]['review']\n",
    "\n",
    "print(review)\n",
    "\n",
    "s = flair.data.Sentence(review)\n",
    "flair_sentiment.predict(s)"
   ]
  },
  {
   "cell_type": "code",
   "execution_count": 61,
   "metadata": {},
   "outputs": [
    {
     "name": "stdout",
     "output_type": "stream",
     "text": [
      "2019-10-02 14:43:39,071 https://s3.eu-central-1.amazonaws.com/alan-nlp/resources/models-v0.4/NER-conll2002-dutch/nl-ner-conll02-v0.1.pt not found in cache, downloading to /var/folders/h6/c23ktx711x517m98bmjdb8jh0000gn/T/tmp6n0clre3\n"
     ]
    },
    {
     "name": "stderr",
     "output_type": "stream",
     "text": [
      "100%|██████████| 1392544535/1392544535 [01:41<00:00, 13693478.51B/s]"
     ]
    },
    {
     "name": "stdout",
     "output_type": "stream",
     "text": [
      "2019-10-02 14:45:20,972 copying /var/folders/h6/c23ktx711x517m98bmjdb8jh0000gn/T/tmp6n0clre3 to cache at /Users/Jules/.flair/models/nl-ner-conll02-v0.1.pt\n"
     ]
    },
    {
     "name": "stderr",
     "output_type": "stream",
     "text": [
      "\n"
     ]
    },
    {
     "name": "stdout",
     "output_type": "stream",
     "text": [
      "2019-10-02 14:45:22,915 removing temp file /var/folders/h6/c23ktx711x517m98bmjdb8jh0000gn/T/tmp6n0clre3\n",
      "2019-10-02 14:45:23,022 loading file /Users/Jules/.flair/models/nl-ner-conll02-v0.1.pt\n"
     ]
    }
   ],
   "source": [
    "tagger = flair.models.SequenceTagger.load('nl-ner')"
   ]
  },
  {
   "cell_type": "code",
   "execution_count": 76,
   "metadata": {},
   "outputs": [
    {
     "data": {
      "text/plain": [
       "[Sentence: \"Eetzaal van de aan het klooster verbonden kweekschool. De meisjes die daar werden opgeleid tot onderwijzeres verbleven intern in een internaat. De enige versieringen in deze zaal bestaan uit religieuze voorstellingen, waaronder een Mariabeeld en een H. Hartbeeld.\" - 38 Tokens]"
      ]
     },
     "execution_count": 76,
     "metadata": {},
     "output_type": "execute_result"
    }
   ],
   "source": [
    "sentence = Sentence('Eetzaal van de aan het klooster verbonden kweekschool. De meisjes die daar werden opgeleid tot onderwijzeres verbleven intern in een internaat. De enige versieringen in deze zaal bestaan uit religieuze voorstellingen, waaronder een Mariabeeld en een H. Hartbeeld.')\n",
    "\n",
    "# predict NER tags\n",
    "tagger.predict(sentence)\n",
    "\n",
    "# print sentence with predicted tags\n",
    "# print(sentence.to_tagged_string())"
   ]
  },
  {
   "cell_type": "code",
   "execution_count": 77,
   "metadata": {},
   "outputs": [
    {
     "name": "stdout",
     "output_type": "stream",
     "text": [
      "MISC-span [34]: \"Mariabeeld\"\n",
      "MISC-span [37,38]: \"H. Hartbeeld.\"\n"
     ]
    }
   ],
   "source": [
    "for entity in sentence.get_spans('ner'):\n",
    "    print(entity)"
   ]
  },
  {
   "cell_type": "code",
   "execution_count": 87,
   "metadata": {},
   "outputs": [
    {
     "name": "stdout",
     "output_type": "stream",
     "text": [
      "Sentence: \"Sint-Janssingel gezien in zuidelijke richting ter hoogte van de Stationsbrug, later Wilhelminabrug\" - 12 Tokens\n",
      "LOC-span [1]: \"Sint-Janssingel\"\n",
      "LOC-span [10]: \"Stationsbrug,\"\n",
      "LOC-span [12]: \"Wilhelminabrug\"\n",
      "--------------------------------\n",
      "Sentence: \"Midden op de achtergrond de molen bij het Wilhelminapark\" - 9 Tokens\n",
      "LOC-span [9]: \"Wilhelminapark\"\n",
      "--------------------------------\n",
      "Sentence: \"Rechts de nieuwe bebouwing aan de Kloostersingel, hoek Luybenstraat\" - 9 Tokens\n",
      "LOC-span [7]: \"Kloostersingel,\"\n",
      "LOC-span [9]: \"Luybenstraat\"\n",
      "--------------------------------\n",
      "Sentence: \"De rest van de nieuwe wijk het Zand is nog onbebouwd\" - 11 Tokens\n",
      "LOC-span [8]: \"Zand\"\n",
      "--------------------------------\n",
      "Sentence: \"Achter de bebouwing is de kerk van de paters Kapucijnen te zien\" - 12 Tokens\n",
      "PER-span [10]: \"Kapucijnen\"\n",
      "--------------------------------\n",
      "Sentence: \"Links de Sint-Janssingel met daarachter het kloostercomplex van de Marienburg\" - 10 Tokens\n",
      "LOC-span [3]: \"Sint-Janssingel\"\n",
      "LOC-span [10]: \"Marienburg\"\n",
      "--------------------------------\n",
      "Sentence: \"Fotograaf is Herman de Ruijter HdR\" - 6 Tokens\n",
      "PER-span [3,4,5]: \"Herman de Ruijter\"\n",
      "--------------------------------\n"
     ]
    }
   ],
   "source": [
    "raw = \"Sint-Janssingel gezien in zuidelijke richting ter hoogte van de Stationsbrug, later Wilhelminabrug. Midden op de achtergrond de molen bij het Wilhelminapark. Rechts de nieuwe bebouwing aan de Kloostersingel, hoek Luybenstraat. De rest van de nieuwe wijk het Zand is nog onbebouwd. Achter de bebouwing is de kerk van de paters Kapucijnen te zien. Links de Sint-Janssingel met daarachter het kloostercomplex van de Marienburg. Fotograaf is Herman de Ruijter HdR\"\n",
    "\n",
    "sentences = [Sentence(sentence) for sentence in raw.split('.')]\n",
    "\n",
    "for sentence in sentences:\n",
    "    print(sentence)\n",
    "    tagger.predict(sentence)\n",
    "    \n",
    "    for entity in sentence.get_spans('ner'):\n",
    "        print(entity)\n",
    "        \n",
    "    print('--------------------------------')"
   ]
  },
  {
   "cell_type": "code",
   "execution_count": null,
   "metadata": {},
   "outputs": [],
   "source": []
  }
 ],
 "metadata": {
  "kernelspec": {
   "display_name": "Python 3",
   "language": "python",
   "name": "python3"
  },
  "language_info": {
   "codemirror_mode": {
    "name": "ipython",
    "version": 3
   },
   "file_extension": ".py",
   "mimetype": "text/x-python",
   "name": "python",
   "nbconvert_exporter": "python",
   "pygments_lexer": "ipython3",
   "version": "3.7.1"
  }
 },
 "nbformat": 4,
 "nbformat_minor": 2
}
