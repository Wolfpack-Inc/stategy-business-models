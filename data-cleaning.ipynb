{
 "cells": [
  {
   "cell_type": "markdown",
   "metadata": {},
   "source": [
    "# Data Cleaning"
   ]
  },
  {
   "cell_type": "markdown",
   "metadata": {},
   "source": [
    "## Load the data"
   ]
  },
  {
   "cell_type": "code",
   "execution_count": 6,
   "metadata": {
    "ExecuteTime": {
     "end_time": "2019-10-08T09:26:25.450551Z",
     "start_time": "2019-10-08T09:26:24.829227Z"
    }
   },
   "outputs": [],
   "source": [
    "from toolbox import ToolBox"
   ]
  },
  {
   "cell_type": "code",
   "execution_count": 7,
   "metadata": {
    "ExecuteTime": {
     "end_time": "2019-10-08T09:26:25.486357Z",
     "start_time": "2019-10-08T09:26:25.452813Z"
    }
   },
   "outputs": [],
   "source": [
    "tb = ToolBox()"
   ]
  },
  {
   "cell_type": "code",
   "execution_count": 92,
   "metadata": {
    "ExecuteTime": {
     "end_time": "2019-10-08T09:26:48.609642Z",
     "start_time": "2019-10-08T09:26:48.575934Z"
    }
   },
   "outputs": [
    {
     "name": "stdout",
     "output_type": "stream",
     "text": [
      "Loaded from cache\n"
     ]
    },
    {
     "data": {
      "text/html": [
       "<div>\n",
       "<style scoped>\n",
       "    .dataframe tbody tr th:only-of-type {\n",
       "        vertical-align: middle;\n",
       "    }\n",
       "\n",
       "    .dataframe tbody tr th {\n",
       "        vertical-align: top;\n",
       "    }\n",
       "\n",
       "    .dataframe thead th {\n",
       "        text-align: right;\n",
       "    }\n",
       "</style>\n",
       "<table border=\"1\" class=\"dataframe\">\n",
       "  <thead>\n",
       "    <tr style=\"text-align: right;\">\n",
       "      <th></th>\n",
       "      <th>game</th>\n",
       "      <th>username</th>\n",
       "      <th>date</th>\n",
       "      <th>grade</th>\n",
       "      <th>review</th>\n",
       "      <th>lang</th>\n",
       "      <th>helpful_nb</th>\n",
       "      <th>helpful_nb_total</th>\n",
       "    </tr>\n",
       "  </thead>\n",
       "  <tbody>\n",
       "    <tr>\n",
       "      <th>0</th>\n",
       "      <td>007-legends-pc</td>\n",
       "      <td>Bughyman1000</td>\n",
       "      <td>2013-01-19</td>\n",
       "      <td>30</td>\n",
       "      <td>Oh, my dear God! What is it with developers th...</td>\n",
       "      <td>en</td>\n",
       "      <td>0</td>\n",
       "      <td>0</td>\n",
       "    </tr>\n",
       "    <tr>\n",
       "      <th>1</th>\n",
       "      <td>007-legends-pc</td>\n",
       "      <td>DiabloZiri</td>\n",
       "      <td>2014-06-23</td>\n",
       "      <td>30</td>\n",
       "      <td>Seriously if you want to have a HUGE laugh wit...</td>\n",
       "      <td>en</td>\n",
       "      <td>0</td>\n",
       "      <td>0</td>\n",
       "    </tr>\n",
       "    <tr>\n",
       "      <th>2</th>\n",
       "      <td>007-legends-pc</td>\n",
       "      <td>DrugsMeazureTim</td>\n",
       "      <td>2014-12-11</td>\n",
       "      <td>0</td>\n",
       "      <td>godawful port of the xbox 360 version and ps3....</td>\n",
       "      <td>en</td>\n",
       "      <td>0</td>\n",
       "      <td>0</td>\n",
       "    </tr>\n",
       "    <tr>\n",
       "      <th>3</th>\n",
       "      <td>007-legends-pc</td>\n",
       "      <td>DustEater</td>\n",
       "      <td>2012-11-03</td>\n",
       "      <td>0</td>\n",
       "      <td>Agree. Worst game ever. Its a full copy of Cal...</td>\n",
       "      <td>en</td>\n",
       "      <td>8</td>\n",
       "      <td>8</td>\n",
       "    </tr>\n",
       "    <tr>\n",
       "      <th>4</th>\n",
       "      <td>007-legends-pc</td>\n",
       "      <td>evry1isacritic</td>\n",
       "      <td>2012-11-04</td>\n",
       "      <td>0</td>\n",
       "      <td>DO NOT BUY THIS GAME for the PC (or for any ot...</td>\n",
       "      <td>en</td>\n",
       "      <td>2</td>\n",
       "      <td>2</td>\n",
       "    </tr>\n",
       "  </tbody>\n",
       "</table>\n",
       "</div>"
      ],
      "text/plain": [
       "             game         username       date  grade  \\\n",
       "0  007-legends-pc     Bughyman1000 2013-01-19     30   \n",
       "1  007-legends-pc       DiabloZiri 2014-06-23     30   \n",
       "2  007-legends-pc  DrugsMeazureTim 2014-12-11      0   \n",
       "3  007-legends-pc        DustEater 2012-11-03      0   \n",
       "4  007-legends-pc   evry1isacritic 2012-11-04      0   \n",
       "\n",
       "                                              review lang  helpful_nb  \\\n",
       "0  Oh, my dear God! What is it with developers th...   en           0   \n",
       "1  Seriously if you want to have a HUGE laugh wit...   en           0   \n",
       "2  godawful port of the xbox 360 version and ps3....   en           0   \n",
       "3  Agree. Worst game ever. Its a full copy of Cal...   en           8   \n",
       "4  DO NOT BUY THIS GAME for the PC (or for any ot...   en           2   \n",
       "\n",
       "   helpful_nb_total  \n",
       "0                 0  \n",
       "1                 0  \n",
       "2                 0  \n",
       "3                 8  \n",
       "4                 2  "
      ]
     },
     "execution_count": 92,
     "metadata": {},
     "output_type": "execute_result"
    }
   ],
   "source": [
    "df = tb.load_data_sql(table='user_reviews', where=\"lang = 'en'\", use_cache=True)\n",
    "df = df[~df['review'].isnull()]\n",
    "df.head()"
   ]
  },
  {
   "cell_type": "code",
   "execution_count": 56,
   "metadata": {},
   "outputs": [
    {
     "name": "stdout",
     "output_type": "stream",
     "text": [
      "Amount of reviews in English:  211773\n"
     ]
    }
   ],
   "source": [
    "print('Amount of reviews in English: ', df.shape[0])"
   ]
  },
  {
   "cell_type": "markdown",
   "metadata": {},
   "source": [
    "## Pre-processing\n",
    "* Removing invalid records: docs with less than 200 characters.\n",
    "* Removing invalid records: docts that do not correspond to our sample.\n",
    "* Cleaning: special characters, numbers, emojis, URLs, email adresses, words in other languages, words with less than three characters.\n",
    "* Stopwords\n",
    "* Normalization\n",
    "* Tokenize\n",
    "* Sparse terms"
   ]
  },
  {
   "cell_type": "markdown",
   "metadata": {},
   "source": [
    "### Count characters of review"
   ]
  },
  {
   "cell_type": "code",
   "execution_count": 28,
   "metadata": {},
   "outputs": [],
   "source": [
    "def add_character_count_to_df(dataframe):\n",
    "    '''\n",
    "    Add extra column with amount of characters.\n",
    "    '''\n",
    "    \n",
    "    new_df = dataframe\n",
    "    new_df['characters'] = df['review'].str.len()\n",
    "    return new_df\n",
    "\n",
    "new_df = add_character_count_to_df(df)"
   ]
  },
  {
   "cell_type": "markdown",
   "metadata": {},
   "source": [
    "### Remove special characters\n",
    "* Emojis\n",
    "* `<U+0080>` ==> Impact of 0.001 on 2/46 reviews, but nothing on the compound."
   ]
  },
  {
   "cell_type": "markdown",
   "metadata": {},
   "source": [
    "### Filter reviews with X amount of characters"
   ]
  },
  {
   "cell_type": "code",
   "execution_count": null,
   "metadata": {},
   "outputs": [],
   "source": [
    "def review_with_x_amount_characters(dataframe, column, maximum, minimum=0):\n",
    "    bins = [minimum, maximum]\n",
    "    temporary_df = dataframe\n",
    "    temporary_df[column + '_character_count'] = temporary_df[column].str.len()\n",
    "    temporary_df = temporary_df[(temporary_df[column + '_character_count'] > minimum) & (temporary_df[column + '_character_count'] < maximum)]\n",
    "    \n",
    "    return temporary_df"
   ]
  },
  {
   "cell_type": "code",
   "execution_count": null,
   "metadata": {},
   "outputs": [],
   "source": [
    "my_new_df = review_with_x_amount_characters(df, 'review', minimum=0, maximum=50)\n",
    "check = [review for review in my_new_df['review']]\n",
    "check"
   ]
  },
  {
   "cell_type": "code",
   "execution_count": 104,
   "metadata": {},
   "outputs": [
    {
     "data": {
      "text/plain": [
       "(38593, 9)"
      ]
     },
     "execution_count": 104,
     "metadata": {},
     "output_type": "execute_result"
    }
   ],
   "source": [
    "my_new_df.shape"
   ]
  },
  {
   "cell_type": "code",
   "execution_count": null,
   "metadata": {},
   "outputs": [],
   "source": []
  },
  {
   "cell_type": "code",
   "execution_count": null,
   "metadata": {},
   "outputs": [],
   "source": []
  },
  {
   "cell_type": "code",
   "execution_count": null,
   "metadata": {},
   "outputs": [],
   "source": []
  },
  {
   "cell_type": "code",
   "execution_count": null,
   "metadata": {},
   "outputs": [],
   "source": []
  }
 ],
 "metadata": {
  "kernelspec": {
   "display_name": "Python 3",
   "language": "python",
   "name": "python3"
  },
  "language_info": {
   "codemirror_mode": {
    "name": "ipython",
    "version": 3
   },
   "file_extension": ".py",
   "mimetype": "text/x-python",
   "name": "python",
   "nbconvert_exporter": "python",
   "pygments_lexer": "ipython3",
   "version": "3.7.3"
  }
 },
 "nbformat": 4,
 "nbformat_minor": 4
}
