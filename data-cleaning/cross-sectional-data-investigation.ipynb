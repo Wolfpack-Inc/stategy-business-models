{
 "cells": [
  {
   "cell_type": "markdown",
   "metadata": {},
   "source": [
    "# Analysis cross-sectional data"
   ]
  },
  {
   "cell_type": "code",
   "execution_count": 67,
   "metadata": {},
   "outputs": [],
   "source": [
    "# global imports\n",
    "import pandas as pd\n",
    "import matplotlib.pyplot as plt\n",
    "import numpy as np"
   ]
  },
  {
   "cell_type": "markdown",
   "metadata": {},
   "source": [
    "## Load cross-sectional data"
   ]
  },
  {
   "cell_type": "code",
   "execution_count": 49,
   "metadata": {},
   "outputs": [],
   "source": [
    "df = pd.read_csv('cross-sectional-data-with-control-variables.csv', index_col=0)"
   ]
  },
  {
   "cell_type": "code",
   "execution_count": 51,
   "metadata": {},
   "outputs": [
    {
     "data": {
      "text/html": [
       "<div>\n",
       "<style scoped>\n",
       "    .dataframe tbody tr th:only-of-type {\n",
       "        vertical-align: middle;\n",
       "    }\n",
       "\n",
       "    .dataframe tbody tr th {\n",
       "        vertical-align: top;\n",
       "    }\n",
       "\n",
       "    .dataframe thead th {\n",
       "        text-align: right;\n",
       "    }\n",
       "</style>\n",
       "<table border=\"1\" class=\"dataframe\">\n",
       "  <thead>\n",
       "    <tr style=\"text-align: right;\">\n",
       "      <th></th>\n",
       "      <th>game</th>\n",
       "      <th>2weeks</th>\n",
       "      <th>nr_reviews</th>\n",
       "      <th>user_avg_grade</th>\n",
       "      <th>user_sentiment_var</th>\n",
       "      <th>critic_avg_grade</th>\n",
       "      <th>critic_sentiment_var</th>\n",
       "      <th>critic_volume</th>\n",
       "      <th>genre</th>\n",
       "      <th>console</th>\n",
       "    </tr>\n",
       "  </thead>\n",
       "  <tbody>\n",
       "    <tr>\n",
       "      <th>0</th>\n",
       "      <td>007-legends-pc</td>\n",
       "      <td>1</td>\n",
       "      <td>1</td>\n",
       "      <td>1.428571</td>\n",
       "      <td>0.549131</td>\n",
       "      <td>26.800000</td>\n",
       "      <td>0.351563</td>\n",
       "      <td>5.0</td>\n",
       "      <td>Action</td>\n",
       "      <td>pc</td>\n",
       "    </tr>\n",
       "    <tr>\n",
       "      <th>1</th>\n",
       "      <td>007-legends-playstation-3</td>\n",
       "      <td>1</td>\n",
       "      <td>3</td>\n",
       "      <td>25.000000</td>\n",
       "      <td>0.177060</td>\n",
       "      <td>42.318182</td>\n",
       "      <td>0.619410</td>\n",
       "      <td>22.0</td>\n",
       "      <td>Action</td>\n",
       "      <td>playstation-3</td>\n",
       "    </tr>\n",
       "    <tr>\n",
       "      <th>2</th>\n",
       "      <td>007-legends-wii-u</td>\n",
       "      <td>1</td>\n",
       "      <td>0</td>\n",
       "      <td>40.000000</td>\n",
       "      <td>NaN</td>\n",
       "      <td>40.666667</td>\n",
       "      <td>0.080168</td>\n",
       "      <td>3.0</td>\n",
       "      <td>Action</td>\n",
       "      <td>wii-u</td>\n",
       "    </tr>\n",
       "    <tr>\n",
       "      <th>3</th>\n",
       "      <td>007-legends-xbox-360</td>\n",
       "      <td>1</td>\n",
       "      <td>1</td>\n",
       "      <td>38.750000</td>\n",
       "      <td>0.741715</td>\n",
       "      <td>46.448980</td>\n",
       "      <td>0.669014</td>\n",
       "      <td>49.0</td>\n",
       "      <td>Action</td>\n",
       "      <td>xbox-360</td>\n",
       "    </tr>\n",
       "    <tr>\n",
       "      <th>4</th>\n",
       "      <td>007-quantum-of-solace-pc</td>\n",
       "      <td>1</td>\n",
       "      <td>0</td>\n",
       "      <td>30.000000</td>\n",
       "      <td>0.933805</td>\n",
       "      <td>70.833333</td>\n",
       "      <td>0.542889</td>\n",
       "      <td>18.0</td>\n",
       "      <td>Action</td>\n",
       "      <td>pc</td>\n",
       "    </tr>\n",
       "  </tbody>\n",
       "</table>\n",
       "</div>"
      ],
      "text/plain": [
       "                        game  2weeks  nr_reviews  user_avg_grade  \\\n",
       "0             007-legends-pc       1           1        1.428571   \n",
       "1  007-legends-playstation-3       1           3       25.000000   \n",
       "2          007-legends-wii-u       1           0       40.000000   \n",
       "3       007-legends-xbox-360       1           1       38.750000   \n",
       "4   007-quantum-of-solace-pc       1           0       30.000000   \n",
       "\n",
       "   user_sentiment_var  critic_avg_grade  critic_sentiment_var  critic_volume  \\\n",
       "0            0.549131         26.800000              0.351563            5.0   \n",
       "1            0.177060         42.318182              0.619410           22.0   \n",
       "2                 NaN         40.666667              0.080168            3.0   \n",
       "3            0.741715         46.448980              0.669014           49.0   \n",
       "4            0.933805         70.833333              0.542889           18.0   \n",
       "\n",
       "    genre        console  \n",
       "0  Action             pc  \n",
       "1  Action  playstation-3  \n",
       "2  Action          wii-u  \n",
       "3  Action       xbox-360  \n",
       "4  Action             pc  "
      ]
     },
     "execution_count": 51,
     "metadata": {},
     "output_type": "execute_result"
    }
   ],
   "source": [
    "df.head()"
   ]
  },
  {
   "cell_type": "markdown",
   "metadata": {},
   "source": [
    "### Check control variables genre & console"
   ]
  },
  {
   "cell_type": "code",
   "execution_count": 52,
   "metadata": {},
   "outputs": [
    {
     "data": {
      "text/plain": [
       "Action              4898\n",
       "General             2597\n",
       "Role-Playing        1066\n",
       "Sports               927\n",
       "Action Adventure     926\n",
       "Miscellaneous        713\n",
       "Simulation           591\n",
       "Strategy             409\n",
       "Arcade               341\n",
       "Adventure            265\n",
       "Racing               155\n",
       "Driving               45\n",
       "Puzzle                43\n",
       "Name: genre, dtype: int64"
      ]
     },
     "execution_count": 52,
     "metadata": {},
     "output_type": "execute_result"
    }
   ],
   "source": [
    "df.genre.value_counts()"
   ]
  },
  {
   "cell_type": "code",
   "execution_count": 53,
   "metadata": {},
   "outputs": [],
   "source": [
    "# Only keep instances with a genre that is not null\n",
    "df = df[~df.genre.isnull()]"
   ]
  },
  {
   "cell_type": "code",
   "execution_count": 54,
   "metadata": {},
   "outputs": [
    {
     "data": {
      "text/plain": [
       "12976"
      ]
     },
     "execution_count": 54,
     "metadata": {},
     "output_type": "execute_result"
    }
   ],
   "source": [
    "len(df)"
   ]
  },
  {
   "cell_type": "code",
   "execution_count": 60,
   "metadata": {},
   "outputs": [],
   "source": [
    "df.to_csv('cross-sectional-data-with-control-variables.csv', index=False)"
   ]
  },
  {
   "cell_type": "code",
   "execution_count": 55,
   "metadata": {},
   "outputs": [
    {
     "data": {
      "text/plain": [
       "pc                  4212\n",
       "playstation-4       1086\n",
       "xbox-360             999\n",
       "playstation-3        953\n",
       "playstation-2        938\n",
       "xbox-one             735\n",
       "switch               644\n",
       "wii                  595\n",
       "ds                   471\n",
       "3ds                  348\n",
       "psp                  339\n",
       "playstation-vita     314\n",
       "gamecube             313\n",
       "xbox                 291\n",
       "game-boy-advance     253\n",
       "wii-u                193\n",
       "playstation          146\n",
       "nintendo-64           77\n",
       "dreamcast             47\n",
       "ios                   22\n",
       "Name: console, dtype: int64"
      ]
     },
     "execution_count": 55,
     "metadata": {},
     "output_type": "execute_result"
    }
   ],
   "source": [
    "df.console.value_counts()"
   ]
  },
  {
   "cell_type": "markdown",
   "metadata": {},
   "source": [
    "### Summary statistics & visualization"
   ]
  },
  {
   "cell_type": "code",
   "execution_count": 56,
   "metadata": {},
   "outputs": [
    {
     "data": {
      "text/html": [
       "<div>\n",
       "<style scoped>\n",
       "    .dataframe tbody tr th:only-of-type {\n",
       "        vertical-align: middle;\n",
       "    }\n",
       "\n",
       "    .dataframe tbody tr th {\n",
       "        vertical-align: top;\n",
       "    }\n",
       "\n",
       "    .dataframe thead th {\n",
       "        text-align: right;\n",
       "    }\n",
       "</style>\n",
       "<table border=\"1\" class=\"dataframe\">\n",
       "  <thead>\n",
       "    <tr style=\"text-align: right;\">\n",
       "      <th></th>\n",
       "      <th>2weeks</th>\n",
       "      <th>nr_reviews</th>\n",
       "      <th>user_avg_grade</th>\n",
       "      <th>user_sentiment_var</th>\n",
       "      <th>critic_avg_grade</th>\n",
       "      <th>critic_sentiment_var</th>\n",
       "      <th>critic_volume</th>\n",
       "    </tr>\n",
       "  </thead>\n",
       "  <tbody>\n",
       "    <tr>\n",
       "      <th>count</th>\n",
       "      <td>12976.0</td>\n",
       "      <td>12976.000000</td>\n",
       "      <td>12976.000000</td>\n",
       "      <td>4570.000000</td>\n",
       "      <td>11764.000000</td>\n",
       "      <td>11263.000000</td>\n",
       "      <td>11769.000000</td>\n",
       "    </tr>\n",
       "    <tr>\n",
       "      <th>mean</th>\n",
       "      <td>1.0</td>\n",
       "      <td>0.856119</td>\n",
       "      <td>71.090629</td>\n",
       "      <td>0.500059</td>\n",
       "      <td>69.978286</td>\n",
       "      <td>0.477436</td>\n",
       "      <td>22.633444</td>\n",
       "    </tr>\n",
       "    <tr>\n",
       "      <th>std</th>\n",
       "      <td>0.0</td>\n",
       "      <td>2.633069</td>\n",
       "      <td>26.136245</td>\n",
       "      <td>0.350025</td>\n",
       "      <td>14.067252</td>\n",
       "      <td>0.138891</td>\n",
       "      <td>19.843273</td>\n",
       "    </tr>\n",
       "    <tr>\n",
       "      <th>min</th>\n",
       "      <td>1.0</td>\n",
       "      <td>0.000000</td>\n",
       "      <td>0.000000</td>\n",
       "      <td>0.000000</td>\n",
       "      <td>0.000000</td>\n",
       "      <td>0.000000</td>\n",
       "      <td>1.000000</td>\n",
       "    </tr>\n",
       "    <tr>\n",
       "      <th>25%</th>\n",
       "      <td>1.0</td>\n",
       "      <td>0.000000</td>\n",
       "      <td>60.000000</td>\n",
       "      <td>0.138597</td>\n",
       "      <td>62.400000</td>\n",
       "      <td>0.404349</td>\n",
       "      <td>7.000000</td>\n",
       "    </tr>\n",
       "    <tr>\n",
       "      <th>50%</th>\n",
       "      <td>1.0</td>\n",
       "      <td>0.000000</td>\n",
       "      <td>80.000000</td>\n",
       "      <td>0.549141</td>\n",
       "      <td>72.333333</td>\n",
       "      <td>0.489386</td>\n",
       "      <td>17.000000</td>\n",
       "    </tr>\n",
       "    <tr>\n",
       "      <th>75%</th>\n",
       "      <td>1.0</td>\n",
       "      <td>1.000000</td>\n",
       "      <td>90.000000</td>\n",
       "      <td>0.760725</td>\n",
       "      <td>80.000000</td>\n",
       "      <td>0.562532</td>\n",
       "      <td>32.000000</td>\n",
       "    </tr>\n",
       "    <tr>\n",
       "      <th>max</th>\n",
       "      <td>1.0</td>\n",
       "      <td>146.000000</td>\n",
       "      <td>100.000000</td>\n",
       "      <td>1.409759</td>\n",
       "      <td>100.000000</td>\n",
       "      <td>1.310481</td>\n",
       "      <td>129.000000</td>\n",
       "    </tr>\n",
       "  </tbody>\n",
       "</table>\n",
       "</div>"
      ],
      "text/plain": [
       "        2weeks    nr_reviews  user_avg_grade  user_sentiment_var  \\\n",
       "count  12976.0  12976.000000    12976.000000         4570.000000   \n",
       "mean       1.0      0.856119       71.090629            0.500059   \n",
       "std        0.0      2.633069       26.136245            0.350025   \n",
       "min        1.0      0.000000        0.000000            0.000000   \n",
       "25%        1.0      0.000000       60.000000            0.138597   \n",
       "50%        1.0      0.000000       80.000000            0.549141   \n",
       "75%        1.0      1.000000       90.000000            0.760725   \n",
       "max        1.0    146.000000      100.000000            1.409759   \n",
       "\n",
       "       critic_avg_grade  critic_sentiment_var  critic_volume  \n",
       "count      11764.000000          11263.000000   11769.000000  \n",
       "mean          69.978286              0.477436      22.633444  \n",
       "std           14.067252              0.138891      19.843273  \n",
       "min            0.000000              0.000000       1.000000  \n",
       "25%           62.400000              0.404349       7.000000  \n",
       "50%           72.333333              0.489386      17.000000  \n",
       "75%           80.000000              0.562532      32.000000  \n",
       "max          100.000000              1.310481     129.000000  "
      ]
     },
     "execution_count": 56,
     "metadata": {},
     "output_type": "execute_result"
    }
   ],
   "source": [
    "df.describe()"
   ]
  },
  {
   "cell_type": "code",
   "execution_count": 57,
   "metadata": {},
   "outputs": [],
   "source": [
    "counts = df.nr_reviews.value_counts().sort_index()"
   ]
  },
  {
   "cell_type": "code",
   "execution_count": 59,
   "metadata": {},
   "outputs": [
    {
     "data": {
      "image/png": "[encoded data removed]",
      "text/plain": [
       "<Figure size 720x576 with 1 Axes>"
      ]
     },
     "metadata": {
      "needs_background": "light"
     },
     "output_type": "display_data"
    }
   ],
   "source": [
    "plt.bar(counts.index[:25], counts[:25])\n",
    "plt.title('Distribution of nr of reviews')\n",
    "plt.xlabel('nr of reviews')\n",
    "plt.ylabel('nr of games')\n",
    "plt.show()"
   ]
  },
  {
   "cell_type": "code",
   "execution_count": 72,
   "metadata": {},
   "outputs": [
    {
     "data": {
      "image/png": "[encoded data removed]",
      "text/plain": [
       "<Figure size 720x576 with 1 Axes>"
      ]
     },
     "metadata": {
      "needs_background": "light"
     },
     "output_type": "display_data"
    }
   ],
   "source": [
    "values = ['0', '> 0']\n",
    "y_pos = np.arange(len(values))\n",
    "\n",
    "plt.bar(y_pos, (counts[0], sum(counts[counts.index > 0])))\n",
    "plt.xticks(y_pos, values)\n",
    "plt.title('Games with zero vs games with more than zero reviews')\n",
    "plt.xlabel('nr of reviews')\n",
    "plt.ylabel('nr of games')\n",
    "plt.show()"
   ]
  }
 ],
 "metadata": {
  "kernelspec": {
   "display_name": "Python 3",
   "language": "python",
   "name": "python3"
  },
  "language_info": {
   "codemirror_mode": {
    "name": "ipython",
    "version": 3
   },
   "file_extension": ".py",
   "mimetype": "text/x-python",
   "name": "python",
   "nbconvert_exporter": "python",
   "pygments_lexer": "ipython3",
   "version": "3.7.3"
  }
 },
 "nbformat": 4,
 "nbformat_minor": 2
}
