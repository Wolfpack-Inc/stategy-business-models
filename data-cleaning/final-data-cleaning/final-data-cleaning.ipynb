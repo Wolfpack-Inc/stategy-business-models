{
 "cells": [
  {
   "cell_type": "markdown",
   "metadata": {},
   "source": [
    "# Data preparation for regression analysis"
   ]
  },
  {
   "cell_type": "code",
   "execution_count": 1,
   "metadata": {},
   "outputs": [],
   "source": [
    "from toolbox import ToolBox\n",
    "from tqdm import tqdm\n",
    "\n",
    "from models import *\n",
    "\n",
    "tqdm.pandas()"
   ]
  },
  {
   "cell_type": "code",
   "execution_count": 2,
   "metadata": {},
   "outputs": [],
   "source": [
    "import pandas as pd\n",
    "import numpy as np\n",
    "import datetime\n",
    "from dateutil.relativedelta import relativedelta\n",
    "from datetime import date\n",
    "import math\n",
    "import matplotlib.pyplot as plt\n",
    "import seaborn as sns"
   ]
  },
  {
   "cell_type": "code",
   "execution_count": 7,
   "metadata": {},
   "outputs": [],
   "source": [
    "tb = ToolBox()"
   ]
  },
  {
   "cell_type": "markdown",
   "metadata": {},
   "source": [
    "## Load user review data from database"
   ]
  },
  {
   "cell_type": "code",
   "execution_count": 8,
   "metadata": {},
   "outputs": [
    {
     "name": "stdout",
     "output_type": "stream",
     "text": [
      "Loaded from cache\n"
     ]
    },
    {
     "data": {
      "text/html": [
       "<div>\n",
       "<style scoped>\n",
       "    .dataframe tbody tr th:only-of-type {\n",
       "        vertical-align: middle;\n",
       "    }\n",
       "\n",
       "    .dataframe tbody tr th {\n",
       "        vertical-align: top;\n",
       "    }\n",
       "\n",
       "    .dataframe thead th {\n",
       "        text-align: right;\n",
       "    }\n",
       "</style>\n",
       "<table border=\"1\" class=\"dataframe\">\n",
       "  <thead>\n",
       "    <tr style=\"text-align: right;\">\n",
       "      <th></th>\n",
       "      <th>id</th>\n",
       "      <th>date</th>\n",
       "      <th>grade</th>\n",
       "      <th>game</th>\n",
       "      <th>review</th>\n",
       "      <th>sentiment</th>\n",
       "    </tr>\n",
       "  </thead>\n",
       "  <tbody>\n",
       "    <tr>\n",
       "      <th>0</th>\n",
       "      <td>128002</td>\n",
       "      <td>2013-01-19</td>\n",
       "      <td>30</td>\n",
       "      <td>007-legends-pc</td>\n",
       "      <td>Oh, my dear God! What is it with developers th...</td>\n",
       "      <td>-0.9191</td>\n",
       "    </tr>\n",
       "    <tr>\n",
       "      <th>1</th>\n",
       "      <td>128003</td>\n",
       "      <td>2014-06-23</td>\n",
       "      <td>30</td>\n",
       "      <td>007-legends-pc</td>\n",
       "      <td>Seriously if you want to have a HUGE laugh wit...</td>\n",
       "      <td>0.9424</td>\n",
       "    </tr>\n",
       "    <tr>\n",
       "      <th>2</th>\n",
       "      <td>128004</td>\n",
       "      <td>2014-12-11</td>\n",
       "      <td>0</td>\n",
       "      <td>007-legends-pc</td>\n",
       "      <td>godawful port of the xbox 360 version and ps3....</td>\n",
       "      <td>-0.3869</td>\n",
       "    </tr>\n",
       "    <tr>\n",
       "      <th>3</th>\n",
       "      <td>128005</td>\n",
       "      <td>2012-11-03</td>\n",
       "      <td>0</td>\n",
       "      <td>007-legends-pc</td>\n",
       "      <td>Agree. Worst game ever. Its a full copy of Cal...</td>\n",
       "      <td>0.5496</td>\n",
       "    </tr>\n",
       "    <tr>\n",
       "      <th>4</th>\n",
       "      <td>128006</td>\n",
       "      <td>2012-11-04</td>\n",
       "      <td>0</td>\n",
       "      <td>007-legends-pc</td>\n",
       "      <td>DO NOT BUY THIS GAME for the PC (or for any ot...</td>\n",
       "      <td>-0.9612</td>\n",
       "    </tr>\n",
       "  </tbody>\n",
       "</table>\n",
       "</div>"
      ],
      "text/plain": [
       "       id       date  grade            game  \\\n",
       "0  128002 2013-01-19     30  007-legends-pc   \n",
       "1  128003 2014-06-23     30  007-legends-pc   \n",
       "2  128004 2014-12-11      0  007-legends-pc   \n",
       "3  128005 2012-11-03      0  007-legends-pc   \n",
       "4  128006 2012-11-04      0  007-legends-pc   \n",
       "\n",
       "                                              review  sentiment  \n",
       "0  Oh, my dear God! What is it with developers th...    -0.9191  \n",
       "1  Seriously if you want to have a HUGE laugh wit...     0.9424  \n",
       "2  godawful port of the xbox 360 version and ps3....    -0.3869  \n",
       "3  Agree. Worst game ever. Its a full copy of Cal...     0.5496  \n",
       "4  DO NOT BUY THIS GAME for the PC (or for any ot...    -0.9612  "
      ]
     },
     "execution_count": 8,
     "metadata": {},
     "output_type": "execute_result"
    }
   ],
   "source": [
    "df = tb.load_data_sql(table='user_reviews_clean', use_cache=True)\n",
    "df = df[~df['review'].isnull()]\n",
    "df.head()"
   ]
  },
  {
   "cell_type": "code",
   "execution_count": 9,
   "metadata": {},
   "outputs": [
    {
     "data": {
      "text/plain": [
       "211773"
      ]
     },
     "execution_count": 9,
     "metadata": {},
     "output_type": "execute_result"
    }
   ],
   "source": [
    "len(df)"
   ]
  },
  {
   "cell_type": "markdown",
   "metadata": {},
   "source": [
    "### User review df processing"
   ]
  },
  {
   "cell_type": "code",
   "execution_count": 10,
   "metadata": {},
   "outputs": [],
   "source": [
    "# getting the minimum review data of a game as proxy for release date\n",
    "min_dates = pd.DataFrame(df.groupby('game', as_index=False).agg({'date': 'min'}))\n",
    "min_dates.rename(columns={'date':'release_date'}, inplace=True)"
   ]
  },
  {
   "cell_type": "code",
   "execution_count": 11,
   "metadata": {},
   "outputs": [
    {
     "data": {
      "text/html": [
       "<div>\n",
       "<style scoped>\n",
       "    .dataframe tbody tr th:only-of-type {\n",
       "        vertical-align: middle;\n",
       "    }\n",
       "\n",
       "    .dataframe tbody tr th {\n",
       "        vertical-align: top;\n",
       "    }\n",
       "\n",
       "    .dataframe thead th {\n",
       "        text-align: right;\n",
       "    }\n",
       "</style>\n",
       "<table border=\"1\" class=\"dataframe\">\n",
       "  <thead>\n",
       "    <tr style=\"text-align: right;\">\n",
       "      <th></th>\n",
       "      <th>game</th>\n",
       "      <th>release_date</th>\n",
       "    </tr>\n",
       "  </thead>\n",
       "  <tbody>\n",
       "    <tr>\n",
       "      <th>0</th>\n",
       "      <td>007-legends-pc</td>\n",
       "      <td>2012-11-03</td>\n",
       "    </tr>\n",
       "    <tr>\n",
       "      <th>1</th>\n",
       "      <td>007-legends-playstation-3</td>\n",
       "      <td>2012-10-16</td>\n",
       "    </tr>\n",
       "    <tr>\n",
       "      <th>2</th>\n",
       "      <td>007-legends-wii-u</td>\n",
       "      <td>2013-01-04</td>\n",
       "    </tr>\n",
       "    <tr>\n",
       "      <th>3</th>\n",
       "      <td>007-legends-xbox-360</td>\n",
       "      <td>2012-10-16</td>\n",
       "    </tr>\n",
       "    <tr>\n",
       "      <th>4</th>\n",
       "      <td>007-quantum-of-solace-pc</td>\n",
       "      <td>2011-06-22</td>\n",
       "    </tr>\n",
       "  </tbody>\n",
       "</table>\n",
       "</div>"
      ],
      "text/plain": [
       "                        game release_date\n",
       "0             007-legends-pc   2012-11-03\n",
       "1  007-legends-playstation-3   2012-10-16\n",
       "2          007-legends-wii-u   2013-01-04\n",
       "3       007-legends-xbox-360   2012-10-16\n",
       "4   007-quantum-of-solace-pc   2011-06-22"
      ]
     },
     "execution_count": 11,
     "metadata": {},
     "output_type": "execute_result"
    }
   ],
   "source": [
    "min_dates.head()"
   ]
  },
  {
   "cell_type": "code",
   "execution_count": 12,
   "metadata": {},
   "outputs": [],
   "source": [
    "# merge release date with df\n",
    "df = pd.merge(df, min_dates, on='game')"
   ]
  },
  {
   "cell_type": "code",
   "execution_count": 13,
   "metadata": {},
   "outputs": [
    {
     "data": {
      "text/html": [
       "<div>\n",
       "<style scoped>\n",
       "    .dataframe tbody tr th:only-of-type {\n",
       "        vertical-align: middle;\n",
       "    }\n",
       "\n",
       "    .dataframe tbody tr th {\n",
       "        vertical-align: top;\n",
       "    }\n",
       "\n",
       "    .dataframe thead th {\n",
       "        text-align: right;\n",
       "    }\n",
       "</style>\n",
       "<table border=\"1\" class=\"dataframe\">\n",
       "  <thead>\n",
       "    <tr style=\"text-align: right;\">\n",
       "      <th></th>\n",
       "      <th>id</th>\n",
       "      <th>date</th>\n",
       "      <th>grade</th>\n",
       "      <th>game</th>\n",
       "      <th>review</th>\n",
       "      <th>sentiment</th>\n",
       "      <th>release_date</th>\n",
       "    </tr>\n",
       "  </thead>\n",
       "  <tbody>\n",
       "    <tr>\n",
       "      <th>0</th>\n",
       "      <td>128002</td>\n",
       "      <td>2013-01-19</td>\n",
       "      <td>30</td>\n",
       "      <td>007-legends-pc</td>\n",
       "      <td>Oh, my dear God! What is it with developers th...</td>\n",
       "      <td>-0.9191</td>\n",
       "      <td>2012-11-03</td>\n",
       "    </tr>\n",
       "    <tr>\n",
       "      <th>1</th>\n",
       "      <td>128003</td>\n",
       "      <td>2014-06-23</td>\n",
       "      <td>30</td>\n",
       "      <td>007-legends-pc</td>\n",
       "      <td>Seriously if you want to have a HUGE laugh wit...</td>\n",
       "      <td>0.9424</td>\n",
       "      <td>2012-11-03</td>\n",
       "    </tr>\n",
       "    <tr>\n",
       "      <th>2</th>\n",
       "      <td>128004</td>\n",
       "      <td>2014-12-11</td>\n",
       "      <td>0</td>\n",
       "      <td>007-legends-pc</td>\n",
       "      <td>godawful port of the xbox 360 version and ps3....</td>\n",
       "      <td>-0.3869</td>\n",
       "      <td>2012-11-03</td>\n",
       "    </tr>\n",
       "    <tr>\n",
       "      <th>3</th>\n",
       "      <td>128005</td>\n",
       "      <td>2012-11-03</td>\n",
       "      <td>0</td>\n",
       "      <td>007-legends-pc</td>\n",
       "      <td>Agree. Worst game ever. Its a full copy of Cal...</td>\n",
       "      <td>0.5496</td>\n",
       "      <td>2012-11-03</td>\n",
       "    </tr>\n",
       "    <tr>\n",
       "      <th>4</th>\n",
       "      <td>128006</td>\n",
       "      <td>2012-11-04</td>\n",
       "      <td>0</td>\n",
       "      <td>007-legends-pc</td>\n",
       "      <td>DO NOT BUY THIS GAME for the PC (or for any ot...</td>\n",
       "      <td>-0.9612</td>\n",
       "      <td>2012-11-03</td>\n",
       "    </tr>\n",
       "  </tbody>\n",
       "</table>\n",
       "</div>"
      ],
      "text/plain": [
       "       id       date  grade            game  \\\n",
       "0  128002 2013-01-19     30  007-legends-pc   \n",
       "1  128003 2014-06-23     30  007-legends-pc   \n",
       "2  128004 2014-12-11      0  007-legends-pc   \n",
       "3  128005 2012-11-03      0  007-legends-pc   \n",
       "4  128006 2012-11-04      0  007-legends-pc   \n",
       "\n",
       "                                              review  sentiment release_date  \n",
       "0  Oh, my dear God! What is it with developers th...    -0.9191   2012-11-03  \n",
       "1  Seriously if you want to have a HUGE laugh wit...     0.9424   2012-11-03  \n",
       "2  godawful port of the xbox 360 version and ps3....    -0.3869   2012-11-03  \n",
       "3  Agree. Worst game ever. Its a full copy of Cal...     0.5496   2012-11-03  \n",
       "4  DO NOT BUY THIS GAME for the PC (or for any ot...    -0.9612   2012-11-03  "
      ]
     },
     "execution_count": 13,
     "metadata": {},
     "output_type": "execute_result"
    }
   ],
   "source": [
    "df.head()"
   ]
  },
  {
   "cell_type": "code",
   "execution_count": 14,
   "metadata": {},
   "outputs": [],
   "source": [
    "# define a function to calculate difference in weeks between release date and review date\n",
    "def difference_weeks(date, release_date):\n",
    "    date_dif=date-release_date\n",
    "    weeks = math.floor(date_dif/np.timedelta64(1,'W'))\n",
    "    return weeks"
   ]
  },
  {
   "cell_type": "code",
   "execution_count": 15,
   "metadata": {},
   "outputs": [],
   "source": [
    "# apply function on each row in df\n",
    "df['week'] = df.apply(lambda row: difference_weeks(row['date'], row['release_date']), axis=1)"
   ]
  },
  {
   "cell_type": "code",
   "execution_count": 16,
   "metadata": {},
   "outputs": [
    {
     "data": {
      "text/html": [
       "<div>\n",
       "<style scoped>\n",
       "    .dataframe tbody tr th:only-of-type {\n",
       "        vertical-align: middle;\n",
       "    }\n",
       "\n",
       "    .dataframe tbody tr th {\n",
       "        vertical-align: top;\n",
       "    }\n",
       "\n",
       "    .dataframe thead th {\n",
       "        text-align: right;\n",
       "    }\n",
       "</style>\n",
       "<table border=\"1\" class=\"dataframe\">\n",
       "  <thead>\n",
       "    <tr style=\"text-align: right;\">\n",
       "      <th></th>\n",
       "      <th>id</th>\n",
       "      <th>date</th>\n",
       "      <th>grade</th>\n",
       "      <th>game</th>\n",
       "      <th>review</th>\n",
       "      <th>sentiment</th>\n",
       "      <th>release_date</th>\n",
       "      <th>week</th>\n",
       "    </tr>\n",
       "  </thead>\n",
       "  <tbody>\n",
       "    <tr>\n",
       "      <th>0</th>\n",
       "      <td>128002</td>\n",
       "      <td>2013-01-19</td>\n",
       "      <td>30</td>\n",
       "      <td>007-legends-pc</td>\n",
       "      <td>Oh, my dear God! What is it with developers th...</td>\n",
       "      <td>-0.9191</td>\n",
       "      <td>2012-11-03</td>\n",
       "      <td>11</td>\n",
       "    </tr>\n",
       "    <tr>\n",
       "      <th>1</th>\n",
       "      <td>128003</td>\n",
       "      <td>2014-06-23</td>\n",
       "      <td>30</td>\n",
       "      <td>007-legends-pc</td>\n",
       "      <td>Seriously if you want to have a HUGE laugh wit...</td>\n",
       "      <td>0.9424</td>\n",
       "      <td>2012-11-03</td>\n",
       "      <td>85</td>\n",
       "    </tr>\n",
       "    <tr>\n",
       "      <th>2</th>\n",
       "      <td>128004</td>\n",
       "      <td>2014-12-11</td>\n",
       "      <td>0</td>\n",
       "      <td>007-legends-pc</td>\n",
       "      <td>godawful port of the xbox 360 version and ps3....</td>\n",
       "      <td>-0.3869</td>\n",
       "      <td>2012-11-03</td>\n",
       "      <td>109</td>\n",
       "    </tr>\n",
       "    <tr>\n",
       "      <th>3</th>\n",
       "      <td>128005</td>\n",
       "      <td>2012-11-03</td>\n",
       "      <td>0</td>\n",
       "      <td>007-legends-pc</td>\n",
       "      <td>Agree. Worst game ever. Its a full copy of Cal...</td>\n",
       "      <td>0.5496</td>\n",
       "      <td>2012-11-03</td>\n",
       "      <td>0</td>\n",
       "    </tr>\n",
       "    <tr>\n",
       "      <th>4</th>\n",
       "      <td>128006</td>\n",
       "      <td>2012-11-04</td>\n",
       "      <td>0</td>\n",
       "      <td>007-legends-pc</td>\n",
       "      <td>DO NOT BUY THIS GAME for the PC (or for any ot...</td>\n",
       "      <td>-0.9612</td>\n",
       "      <td>2012-11-03</td>\n",
       "      <td>0</td>\n",
       "    </tr>\n",
       "  </tbody>\n",
       "</table>\n",
       "</div>"
      ],
      "text/plain": [
       "       id       date  grade            game  \\\n",
       "0  128002 2013-01-19     30  007-legends-pc   \n",
       "1  128003 2014-06-23     30  007-legends-pc   \n",
       "2  128004 2014-12-11      0  007-legends-pc   \n",
       "3  128005 2012-11-03      0  007-legends-pc   \n",
       "4  128006 2012-11-04      0  007-legends-pc   \n",
       "\n",
       "                                              review  sentiment release_date  \\\n",
       "0  Oh, my dear God! What is it with developers th...    -0.9191   2012-11-03   \n",
       "1  Seriously if you want to have a HUGE laugh wit...     0.9424   2012-11-03   \n",
       "2  godawful port of the xbox 360 version and ps3....    -0.3869   2012-11-03   \n",
       "3  Agree. Worst game ever. Its a full copy of Cal...     0.5496   2012-11-03   \n",
       "4  DO NOT BUY THIS GAME for the PC (or for any ot...    -0.9612   2012-11-03   \n",
       "\n",
       "   week  \n",
       "0    11  \n",
       "1    85  \n",
       "2   109  \n",
       "3     0  \n",
       "4     0  "
      ]
     },
     "execution_count": 16,
     "metadata": {},
     "output_type": "execute_result"
    }
   ],
   "source": [
    "df.head()"
   ]
  },
  {
   "cell_type": "markdown",
   "metadata": {},
   "source": [
    "#### Check how user reviews are distributed over the weeks after release"
   ]
  },
  {
   "cell_type": "code",
   "execution_count": 17,
   "metadata": {},
   "outputs": [
    {
     "data": {
      "image/png": "[encoded data removed]",
      "text/plain": [
       "<Figure size 432x288 with 1 Axes>"
      ]
     },
     "metadata": {
      "needs_background": "light"
     },
     "output_type": "display_data"
    }
   ],
   "source": [
    "sns.distplot(df.week, kde=False);\n",
    "plt.title('Distribution of reviews over weeks after release')\n",
    "plt.show()"
   ]
  },
  {
   "cell_type": "markdown",
   "metadata": {},
   "source": [
    "### Further preprocessing - defining timeframes"
   ]
  },
  {
   "cell_type": "code",
   "execution_count": 18,
   "metadata": {},
   "outputs": [],
   "source": [
    "# Create timeframes of 3 weeks\n",
    "df['timeframe'] = df['week'].apply(lambda week: week//3)"
   ]
  },
  {
   "cell_type": "code",
   "execution_count": 19,
   "metadata": {},
   "outputs": [
    {
     "data": {
      "text/html": [
       "<div>\n",
       "<style scoped>\n",
       "    .dataframe tbody tr th:only-of-type {\n",
       "        vertical-align: middle;\n",
       "    }\n",
       "\n",
       "    .dataframe tbody tr th {\n",
       "        vertical-align: top;\n",
       "    }\n",
       "\n",
       "    .dataframe thead th {\n",
       "        text-align: right;\n",
       "    }\n",
       "</style>\n",
       "<table border=\"1\" class=\"dataframe\">\n",
       "  <thead>\n",
       "    <tr style=\"text-align: right;\">\n",
       "      <th></th>\n",
       "      <th>id</th>\n",
       "      <th>date</th>\n",
       "      <th>grade</th>\n",
       "      <th>game</th>\n",
       "      <th>review</th>\n",
       "      <th>sentiment</th>\n",
       "      <th>release_date</th>\n",
       "      <th>week</th>\n",
       "      <th>timeframe</th>\n",
       "    </tr>\n",
       "  </thead>\n",
       "  <tbody>\n",
       "    <tr>\n",
       "      <th>0</th>\n",
       "      <td>128002</td>\n",
       "      <td>2013-01-19</td>\n",
       "      <td>30</td>\n",
       "      <td>007-legends-pc</td>\n",
       "      <td>Oh, my dear God! What is it with developers th...</td>\n",
       "      <td>-0.9191</td>\n",
       "      <td>2012-11-03</td>\n",
       "      <td>11</td>\n",
       "      <td>5</td>\n",
       "    </tr>\n",
       "    <tr>\n",
       "      <th>1</th>\n",
       "      <td>128003</td>\n",
       "      <td>2014-06-23</td>\n",
       "      <td>30</td>\n",
       "      <td>007-legends-pc</td>\n",
       "      <td>Seriously if you want to have a HUGE laugh wit...</td>\n",
       "      <td>0.9424</td>\n",
       "      <td>2012-11-03</td>\n",
       "      <td>85</td>\n",
       "      <td>42</td>\n",
       "    </tr>\n",
       "    <tr>\n",
       "      <th>2</th>\n",
       "      <td>128004</td>\n",
       "      <td>2014-12-11</td>\n",
       "      <td>0</td>\n",
       "      <td>007-legends-pc</td>\n",
       "      <td>godawful port of the xbox 360 version and ps3....</td>\n",
       "      <td>-0.3869</td>\n",
       "      <td>2012-11-03</td>\n",
       "      <td>109</td>\n",
       "      <td>54</td>\n",
       "    </tr>\n",
       "    <tr>\n",
       "      <th>3</th>\n",
       "      <td>128005</td>\n",
       "      <td>2012-11-03</td>\n",
       "      <td>0</td>\n",
       "      <td>007-legends-pc</td>\n",
       "      <td>Agree. Worst game ever. Its a full copy of Cal...</td>\n",
       "      <td>0.5496</td>\n",
       "      <td>2012-11-03</td>\n",
       "      <td>0</td>\n",
       "      <td>0</td>\n",
       "    </tr>\n",
       "    <tr>\n",
       "      <th>4</th>\n",
       "      <td>128006</td>\n",
       "      <td>2012-11-04</td>\n",
       "      <td>0</td>\n",
       "      <td>007-legends-pc</td>\n",
       "      <td>DO NOT BUY THIS GAME for the PC (or for any ot...</td>\n",
       "      <td>-0.9612</td>\n",
       "      <td>2012-11-03</td>\n",
       "      <td>0</td>\n",
       "      <td>0</td>\n",
       "    </tr>\n",
       "  </tbody>\n",
       "</table>\n",
       "</div>"
      ],
      "text/plain": [
       "       id       date  grade            game  \\\n",
       "0  128002 2013-01-19     30  007-legends-pc   \n",
       "1  128003 2014-06-23     30  007-legends-pc   \n",
       "2  128004 2014-12-11      0  007-legends-pc   \n",
       "3  128005 2012-11-03      0  007-legends-pc   \n",
       "4  128006 2012-11-04      0  007-legends-pc   \n",
       "\n",
       "                                              review  sentiment release_date  \\\n",
       "0  Oh, my dear God! What is it with developers th...    -0.9191   2012-11-03   \n",
       "1  Seriously if you want to have a HUGE laugh wit...     0.9424   2012-11-03   \n",
       "2  godawful port of the xbox 360 version and ps3....    -0.3869   2012-11-03   \n",
       "3  Agree. Worst game ever. Its a full copy of Cal...     0.5496   2012-11-03   \n",
       "4  DO NOT BUY THIS GAME for the PC (or for any ot...    -0.9612   2012-11-03   \n",
       "\n",
       "   week  timeframe  \n",
       "0    11          5  \n",
       "1    85         42  \n",
       "2   109         54  \n",
       "3     0          0  \n",
       "4     0          0  "
      ]
     },
     "execution_count": 19,
     "metadata": {},
     "output_type": "execute_result"
    }
   ],
   "source": [
    "df.head()"
   ]
  },
  {
   "cell_type": "markdown",
   "metadata": {},
   "source": [
    "#### Calculate nr of reviews per timeframe"
   ]
  },
  {
   "cell_type": "code",
   "execution_count": 41,
   "metadata": {},
   "outputs": [],
   "source": [
    "# empty matrix to define nr of reviews per timeframe  \n",
    "reviews_per_timeframe = pd.DataFrame(np.zeros((len(df.groupby('game')), 2), dtype=np.int8), index=df.game.unique())\n",
    "\n",
    "# enter reviews\n",
    "for index, row in df[df['timeframe']<=1].iterrows():\n",
    "    reviews_per_timeframe.loc[row['game'], row['timeframe']] += 1\n",
    "\n",
    "reviews_per_timeframe.reset_index(inplace=True)\n",
    "reviews_per_timeframe.rename(columns={'index': 'game'}, inplace=True)\n",
    "    \n",
    "# create cross-sectional dataset from matrix\n",
    "#reviews_per_timeframe = reviews_per_timeframe.melt(id_vars=['game'], var_name='timeframe', value_name='nr_reviews')\n",
    "#reviews_per_timeframe.sort_values(['game', 'timeframe'], inplace=True)"
   ]
  },
  {
   "cell_type": "code",
   "execution_count": 42,
   "metadata": {},
   "outputs": [
    {
     "data": {
      "text/html": [
       "<div>\n",
       "<style scoped>\n",
       "    .dataframe tbody tr th:only-of-type {\n",
       "        vertical-align: middle;\n",
       "    }\n",
       "\n",
       "    .dataframe tbody tr th {\n",
       "        vertical-align: top;\n",
       "    }\n",
       "\n",
       "    .dataframe thead th {\n",
       "        text-align: right;\n",
       "    }\n",
       "</style>\n",
       "<table border=\"1\" class=\"dataframe\">\n",
       "  <thead>\n",
       "    <tr style=\"text-align: right;\">\n",
       "      <th></th>\n",
       "      <th>game</th>\n",
       "      <th>0</th>\n",
       "      <th>1</th>\n",
       "    </tr>\n",
       "  </thead>\n",
       "  <tbody>\n",
       "    <tr>\n",
       "      <th>0</th>\n",
       "      <td>007-legends-pc</td>\n",
       "      <td>7</td>\n",
       "      <td>1</td>\n",
       "    </tr>\n",
       "    <tr>\n",
       "      <th>1</th>\n",
       "      <td>007-legends-playstation-3</td>\n",
       "      <td>2</td>\n",
       "      <td>3</td>\n",
       "    </tr>\n",
       "    <tr>\n",
       "      <th>2</th>\n",
       "      <td>007-legends-wii-u</td>\n",
       "      <td>1</td>\n",
       "      <td>0</td>\n",
       "    </tr>\n",
       "    <tr>\n",
       "      <th>3</th>\n",
       "      <td>007-legends-xbox-360</td>\n",
       "      <td>8</td>\n",
       "      <td>1</td>\n",
       "    </tr>\n",
       "    <tr>\n",
       "      <th>4</th>\n",
       "      <td>007-quantum-of-solace-pc</td>\n",
       "      <td>2</td>\n",
       "      <td>0</td>\n",
       "    </tr>\n",
       "  </tbody>\n",
       "</table>\n",
       "</div>"
      ],
      "text/plain": [
       "                        game  0  1\n",
       "0             007-legends-pc  7  1\n",
       "1  007-legends-playstation-3  2  3\n",
       "2          007-legends-wii-u  1  0\n",
       "3       007-legends-xbox-360  8  1\n",
       "4   007-quantum-of-solace-pc  2  0"
      ]
     },
     "execution_count": 42,
     "metadata": {},
     "output_type": "execute_result"
    }
   ],
   "source": [
    "reviews_per_timeframe.head()"
   ]
  },
  {
   "cell_type": "code",
   "execution_count": 43,
   "metadata": {},
   "outputs": [
    {
     "data": {
      "text/html": [
       "<div>\n",
       "<style scoped>\n",
       "    .dataframe tbody tr th:only-of-type {\n",
       "        vertical-align: middle;\n",
       "    }\n",
       "\n",
       "    .dataframe tbody tr th {\n",
       "        vertical-align: top;\n",
       "    }\n",
       "\n",
       "    .dataframe thead th {\n",
       "        text-align: right;\n",
       "    }\n",
       "</style>\n",
       "<table border=\"1\" class=\"dataframe\">\n",
       "  <thead>\n",
       "    <tr style=\"text-align: right;\">\n",
       "      <th></th>\n",
       "      <th>0</th>\n",
       "      <th>1</th>\n",
       "    </tr>\n",
       "  </thead>\n",
       "  <tbody>\n",
       "    <tr>\n",
       "      <th>0</th>\n",
       "      <td>1.000000</td>\n",
       "      <td>0.654468</td>\n",
       "    </tr>\n",
       "    <tr>\n",
       "      <th>1</th>\n",
       "      <td>0.654468</td>\n",
       "      <td>1.000000</td>\n",
       "    </tr>\n",
       "  </tbody>\n",
       "</table>\n",
       "</div>"
      ],
      "text/plain": [
       "          0         1\n",
       "0  1.000000  0.654468\n",
       "1  0.654468  1.000000"
      ]
     },
     "execution_count": 43,
     "metadata": {},
     "output_type": "execute_result"
    }
   ],
   "source": [
    "reviews_per_timeframe.corr()"
   ]
  },
  {
   "cell_type": "code",
   "execution_count": 22,
   "metadata": {},
   "outputs": [],
   "source": [
    "# calculate variables average grade and sentiment per timeframe\n",
    "reviews_grouped = df.groupby(['game', 'timeframe'], as_index=False).agg({'grade': 'mean', 'sentiment': 'std'})\n",
    "reviews_grouped.rename(columns={'grade': 'user_avg_grade', 'sentiment': 'user_sentiment_var'}, inplace=True)"
   ]
  },
  {
   "cell_type": "code",
   "execution_count": 23,
   "metadata": {},
   "outputs": [
    {
     "data": {
      "text/html": [
       "<div>\n",
       "<style scoped>\n",
       "    .dataframe tbody tr th:only-of-type {\n",
       "        vertical-align: middle;\n",
       "    }\n",
       "\n",
       "    .dataframe tbody tr th {\n",
       "        vertical-align: top;\n",
       "    }\n",
       "\n",
       "    .dataframe thead th {\n",
       "        text-align: right;\n",
       "    }\n",
       "</style>\n",
       "<table border=\"1\" class=\"dataframe\">\n",
       "  <thead>\n",
       "    <tr style=\"text-align: right;\">\n",
       "      <th></th>\n",
       "      <th>game</th>\n",
       "      <th>timeframe</th>\n",
       "      <th>user_avg_grade</th>\n",
       "      <th>user_sentiment_var</th>\n",
       "    </tr>\n",
       "  </thead>\n",
       "  <tbody>\n",
       "    <tr>\n",
       "      <th>0</th>\n",
       "      <td>007-legends-pc</td>\n",
       "      <td>0</td>\n",
       "      <td>1.428571</td>\n",
       "      <td>0.549131</td>\n",
       "    </tr>\n",
       "    <tr>\n",
       "      <th>1</th>\n",
       "      <td>007-legends-pc</td>\n",
       "      <td>1</td>\n",
       "      <td>100.000000</td>\n",
       "      <td>NaN</td>\n",
       "    </tr>\n",
       "    <tr>\n",
       "      <th>2</th>\n",
       "      <td>007-legends-pc</td>\n",
       "      <td>3</td>\n",
       "      <td>70.000000</td>\n",
       "      <td>NaN</td>\n",
       "    </tr>\n",
       "    <tr>\n",
       "      <th>3</th>\n",
       "      <td>007-legends-pc</td>\n",
       "      <td>5</td>\n",
       "      <td>30.000000</td>\n",
       "      <td>NaN</td>\n",
       "    </tr>\n",
       "    <tr>\n",
       "      <th>4</th>\n",
       "      <td>007-legends-pc</td>\n",
       "      <td>7</td>\n",
       "      <td>60.000000</td>\n",
       "      <td>NaN</td>\n",
       "    </tr>\n",
       "  </tbody>\n",
       "</table>\n",
       "</div>"
      ],
      "text/plain": [
       "             game  timeframe  user_avg_grade  user_sentiment_var\n",
       "0  007-legends-pc          0        1.428571            0.549131\n",
       "1  007-legends-pc          1      100.000000                 NaN\n",
       "2  007-legends-pc          3       70.000000                 NaN\n",
       "3  007-legends-pc          5       30.000000                 NaN\n",
       "4  007-legends-pc          7       60.000000                 NaN"
      ]
     },
     "execution_count": 23,
     "metadata": {},
     "output_type": "execute_result"
    }
   ],
   "source": [
    "reviews_grouped.head()"
   ]
  },
  {
   "cell_type": "code",
   "execution_count": 24,
   "metadata": {},
   "outputs": [],
   "source": [
    "# create cross-sectional dataset including average grade and sentiment per timeframe\n",
    "user_reviews = pd.merge(reviews_per_timeframe, reviews_grouped, how='left', on=['game', 'timeframe'])"
   ]
  },
  {
   "cell_type": "code",
   "execution_count": 25,
   "metadata": {},
   "outputs": [
    {
     "data": {
      "text/html": [
       "<div>\n",
       "<style scoped>\n",
       "    .dataframe tbody tr th:only-of-type {\n",
       "        vertical-align: middle;\n",
       "    }\n",
       "\n",
       "    .dataframe tbody tr th {\n",
       "        vertical-align: top;\n",
       "    }\n",
       "\n",
       "    .dataframe thead th {\n",
       "        text-align: right;\n",
       "    }\n",
       "</style>\n",
       "<table border=\"1\" class=\"dataframe\">\n",
       "  <thead>\n",
       "    <tr style=\"text-align: right;\">\n",
       "      <th></th>\n",
       "      <th>game</th>\n",
       "      <th>timeframe</th>\n",
       "      <th>nr_reviews</th>\n",
       "      <th>user_avg_grade</th>\n",
       "      <th>user_sentiment_var</th>\n",
       "    </tr>\n",
       "  </thead>\n",
       "  <tbody>\n",
       "    <tr>\n",
       "      <th>0</th>\n",
       "      <td>007-legends-pc</td>\n",
       "      <td>0</td>\n",
       "      <td>7</td>\n",
       "      <td>1.428571</td>\n",
       "      <td>0.549131</td>\n",
       "    </tr>\n",
       "    <tr>\n",
       "      <th>1</th>\n",
       "      <td>007-legends-pc</td>\n",
       "      <td>1</td>\n",
       "      <td>1</td>\n",
       "      <td>100.000000</td>\n",
       "      <td>NaN</td>\n",
       "    </tr>\n",
       "    <tr>\n",
       "      <th>2</th>\n",
       "      <td>007-legends-playstation-3</td>\n",
       "      <td>0</td>\n",
       "      <td>2</td>\n",
       "      <td>25.000000</td>\n",
       "      <td>0.177060</td>\n",
       "    </tr>\n",
       "    <tr>\n",
       "      <th>3</th>\n",
       "      <td>007-legends-playstation-3</td>\n",
       "      <td>1</td>\n",
       "      <td>3</td>\n",
       "      <td>33.333333</td>\n",
       "      <td>0.820714</td>\n",
       "    </tr>\n",
       "    <tr>\n",
       "      <th>4</th>\n",
       "      <td>007-legends-wii-u</td>\n",
       "      <td>0</td>\n",
       "      <td>1</td>\n",
       "      <td>40.000000</td>\n",
       "      <td>NaN</td>\n",
       "    </tr>\n",
       "  </tbody>\n",
       "</table>\n",
       "</div>"
      ],
      "text/plain": [
       "                        game timeframe  nr_reviews  user_avg_grade  \\\n",
       "0             007-legends-pc         0           7        1.428571   \n",
       "1             007-legends-pc         1           1      100.000000   \n",
       "2  007-legends-playstation-3         0           2       25.000000   \n",
       "3  007-legends-playstation-3         1           3       33.333333   \n",
       "4          007-legends-wii-u         0           1       40.000000   \n",
       "\n",
       "   user_sentiment_var  \n",
       "0            0.549131  \n",
       "1                 NaN  \n",
       "2            0.177060  \n",
       "3            0.820714  \n",
       "4                 NaN  "
      ]
     },
     "execution_count": 25,
     "metadata": {},
     "output_type": "execute_result"
    }
   ],
   "source": [
    "user_reviews.head()"
   ]
  },
  {
   "cell_type": "code",
   "execution_count": 36,
   "metadata": {},
   "outputs": [],
   "source": [
    "test = user_reviews[user_reviews['timeframe']==0]\n",
    "test = test[test['nr_reviews']>1]"
   ]
  },
  {
   "cell_type": "code",
   "execution_count": 40,
   "metadata": {},
   "outputs": [
    {
     "data": {
      "text/plain": [
       "nr_reviews             5.000000\n",
       "user_avg_grade        76.666667\n",
       "user_sentiment_var     0.550783\n",
       "dtype: float64"
      ]
     },
     "execution_count": 40,
     "metadata": {},
     "output_type": "execute_result"
    }
   ],
   "source": [
    "test.median()"
   ]
  },
  {
   "cell_type": "code",
   "execution_count": 22,
   "metadata": {},
   "outputs": [],
   "source": [
    "# create a lag of time variant independent variables\n",
    "user_reviews_lagged = user_reviews\n",
    "user_reviews_lagged[['user_avg_grade', 'user_sentiment_var']] = user_reviews.groupby(['game'])['user_avg_grade', 'user_sentiment_var'].shift(1)"
   ]
  },
  {
   "cell_type": "code",
   "execution_count": 23,
   "metadata": {},
   "outputs": [
    {
     "data": {
      "text/html": [
       "<div>\n",
       "<style scoped>\n",
       "    .dataframe tbody tr th:only-of-type {\n",
       "        vertical-align: middle;\n",
       "    }\n",
       "\n",
       "    .dataframe tbody tr th {\n",
       "        vertical-align: top;\n",
       "    }\n",
       "\n",
       "    .dataframe thead th {\n",
       "        text-align: right;\n",
       "    }\n",
       "</style>\n",
       "<table border=\"1\" class=\"dataframe\">\n",
       "  <thead>\n",
       "    <tr style=\"text-align: right;\">\n",
       "      <th></th>\n",
       "      <th>game</th>\n",
       "      <th>timeframe</th>\n",
       "      <th>nr_reviews</th>\n",
       "      <th>user_avg_grade</th>\n",
       "      <th>user_sentiment_var</th>\n",
       "    </tr>\n",
       "  </thead>\n",
       "  <tbody>\n",
       "    <tr>\n",
       "      <th>0</th>\n",
       "      <td>007-legends-pc</td>\n",
       "      <td>0</td>\n",
       "      <td>7</td>\n",
       "      <td>NaN</td>\n",
       "      <td>NaN</td>\n",
       "    </tr>\n",
       "    <tr>\n",
       "      <th>1</th>\n",
       "      <td>007-legends-pc</td>\n",
       "      <td>1</td>\n",
       "      <td>1</td>\n",
       "      <td>1.428571</td>\n",
       "      <td>0.549131</td>\n",
       "    </tr>\n",
       "    <tr>\n",
       "      <th>2</th>\n",
       "      <td>007-legends-playstation-3</td>\n",
       "      <td>0</td>\n",
       "      <td>2</td>\n",
       "      <td>NaN</td>\n",
       "      <td>NaN</td>\n",
       "    </tr>\n",
       "    <tr>\n",
       "      <th>3</th>\n",
       "      <td>007-legends-playstation-3</td>\n",
       "      <td>1</td>\n",
       "      <td>3</td>\n",
       "      <td>25.000000</td>\n",
       "      <td>0.177060</td>\n",
       "    </tr>\n",
       "    <tr>\n",
       "      <th>4</th>\n",
       "      <td>007-legends-wii-u</td>\n",
       "      <td>0</td>\n",
       "      <td>1</td>\n",
       "      <td>NaN</td>\n",
       "      <td>NaN</td>\n",
       "    </tr>\n",
       "  </tbody>\n",
       "</table>\n",
       "</div>"
      ],
      "text/plain": [
       "                        game timeframe  nr_reviews  user_avg_grade  \\\n",
       "0             007-legends-pc         0           7             NaN   \n",
       "1             007-legends-pc         1           1        1.428571   \n",
       "2  007-legends-playstation-3         0           2             NaN   \n",
       "3  007-legends-playstation-3         1           3       25.000000   \n",
       "4          007-legends-wii-u         0           1             NaN   \n",
       "\n",
       "   user_sentiment_var  \n",
       "0                 NaN  \n",
       "1            0.549131  \n",
       "2                 NaN  \n",
       "3            0.177060  \n",
       "4                 NaN  "
      ]
     },
     "execution_count": 23,
     "metadata": {},
     "output_type": "execute_result"
    }
   ],
   "source": [
    "user_reviews_lagged.head()"
   ]
  },
  {
   "cell_type": "markdown",
   "metadata": {},
   "source": [
    "## Critic review df preprocessing"
   ]
  },
  {
   "cell_type": "code",
   "execution_count": 24,
   "metadata": {},
   "outputs": [],
   "source": [
    "critics = pd.read_pickle('../../datasets/critic_review_clean.pkl')"
   ]
  },
  {
   "cell_type": "code",
   "execution_count": 25,
   "metadata": {},
   "outputs": [
    {
     "data": {
      "text/html": [
       "<div>\n",
       "<style scoped>\n",
       "    .dataframe tbody tr th:only-of-type {\n",
       "        vertical-align: middle;\n",
       "    }\n",
       "\n",
       "    .dataframe tbody tr th {\n",
       "        vertical-align: top;\n",
       "    }\n",
       "\n",
       "    .dataframe thead th {\n",
       "        text-align: right;\n",
       "    }\n",
       "</style>\n",
       "<table border=\"1\" class=\"dataframe\">\n",
       "  <thead>\n",
       "    <tr style=\"text-align: right;\">\n",
       "      <th></th>\n",
       "      <th>game</th>\n",
       "      <th>date</th>\n",
       "      <th>grade</th>\n",
       "      <th>review</th>\n",
       "      <th>sentiment</th>\n",
       "    </tr>\n",
       "  </thead>\n",
       "  <tbody>\n",
       "    <tr>\n",
       "      <th>0</th>\n",
       "      <td>007-legends-pc</td>\n",
       "      <td>2012-12-03</td>\n",
       "      <td>35.0</td>\n",
       "      <td>Unfortunately the game proves the fact, that d...</td>\n",
       "      <td>-0.3400</td>\n",
       "    </tr>\n",
       "    <tr>\n",
       "      <th>1</th>\n",
       "      <td>007-legends-pc</td>\n",
       "      <td>2012-12-21</td>\n",
       "      <td>30.0</td>\n",
       "      <td>The worst gift agent 007 could possibly get to...</td>\n",
       "      <td>-0.6399</td>\n",
       "    </tr>\n",
       "    <tr>\n",
       "      <th>2</th>\n",
       "      <td>007-legends-pc</td>\n",
       "      <td>2013-01-05</td>\n",
       "      <td>16.0</td>\n",
       "      <td>Legends, you're the worst. [Feb 2013, p.79]</td>\n",
       "      <td>-0.6249</td>\n",
       "    </tr>\n",
       "    <tr>\n",
       "      <th>3</th>\n",
       "      <td>007-legends-pc</td>\n",
       "      <td>2013-02-06</td>\n",
       "      <td>28.0</td>\n",
       "      <td>Why put yourself through this ordeal, when the...</td>\n",
       "      <td>0.0972</td>\n",
       "    </tr>\n",
       "    <tr>\n",
       "      <th>4</th>\n",
       "      <td>007-legends-pc</td>\n",
       "      <td>2013-01-29</td>\n",
       "      <td>25.0</td>\n",
       "      <td>007 Legends greets you with a warning that Act...</td>\n",
       "      <td>-0.7916</td>\n",
       "    </tr>\n",
       "  </tbody>\n",
       "</table>\n",
       "</div>"
      ],
      "text/plain": [
       "             game       date  grade  \\\n",
       "0  007-legends-pc 2012-12-03   35.0   \n",
       "1  007-legends-pc 2012-12-21   30.0   \n",
       "2  007-legends-pc 2013-01-05   16.0   \n",
       "3  007-legends-pc 2013-02-06   28.0   \n",
       "4  007-legends-pc 2013-01-29   25.0   \n",
       "\n",
       "                                              review  sentiment  \n",
       "0  Unfortunately the game proves the fact, that d...    -0.3400  \n",
       "1  The worst gift agent 007 could possibly get to...    -0.6399  \n",
       "2        Legends, you're the worst. [Feb 2013, p.79]    -0.6249  \n",
       "3  Why put yourself through this ordeal, when the...     0.0972  \n",
       "4  007 Legends greets you with a warning that Act...    -0.7916  "
      ]
     },
     "execution_count": 25,
     "metadata": {},
     "output_type": "execute_result"
    }
   ],
   "source": [
    "critics.head()"
   ]
  },
  {
   "cell_type": "code",
   "execution_count": 26,
   "metadata": {},
   "outputs": [],
   "source": [
    "def critic_preprocessing(df):\n",
    "    # create aggregated variables for each game\n",
    "    reviews_grouped = df.groupby(['game'], as_index=False).agg({'grade': 'mean', \n",
    "                                                                'sentiment': 'std', \n",
    "                                                                'review': 'count'\n",
    "                                                               })\n",
    "    \n",
    "    reviews_grouped.rename({'grade': 'critic_avg_grade', \n",
    "                            'sentiment': 'critic_sentiment_var',\n",
    "                            'review': 'critic_volume'\n",
    "                           }, inplace=True, axis=1)\n",
    "    \n",
    "    return reviews_grouped"
   ]
  },
  {
   "cell_type": "code",
   "execution_count": 27,
   "metadata": {},
   "outputs": [],
   "source": [
    "critic_reviews = critic_preprocessing(critics)"
   ]
  },
  {
   "cell_type": "code",
   "execution_count": 28,
   "metadata": {},
   "outputs": [
    {
     "data": {
      "text/html": [
       "<div>\n",
       "<style scoped>\n",
       "    .dataframe tbody tr th:only-of-type {\n",
       "        vertical-align: middle;\n",
       "    }\n",
       "\n",
       "    .dataframe tbody tr th {\n",
       "        vertical-align: top;\n",
       "    }\n",
       "\n",
       "    .dataframe thead th {\n",
       "        text-align: right;\n",
       "    }\n",
       "</style>\n",
       "<table border=\"1\" class=\"dataframe\">\n",
       "  <thead>\n",
       "    <tr style=\"text-align: right;\">\n",
       "      <th></th>\n",
       "      <th>game</th>\n",
       "      <th>critic_avg_grade</th>\n",
       "      <th>critic_sentiment_var</th>\n",
       "      <th>critic_volume</th>\n",
       "    </tr>\n",
       "  </thead>\n",
       "  <tbody>\n",
       "    <tr>\n",
       "      <th>0</th>\n",
       "      <td>007-legends-pc</td>\n",
       "      <td>26.800000</td>\n",
       "      <td>0.351563</td>\n",
       "      <td>5</td>\n",
       "    </tr>\n",
       "    <tr>\n",
       "      <th>1</th>\n",
       "      <td>007-legends-playstation-3</td>\n",
       "      <td>42.318182</td>\n",
       "      <td>0.619410</td>\n",
       "      <td>22</td>\n",
       "    </tr>\n",
       "    <tr>\n",
       "      <th>2</th>\n",
       "      <td>007-legends-wii-u</td>\n",
       "      <td>40.666667</td>\n",
       "      <td>0.080168</td>\n",
       "      <td>3</td>\n",
       "    </tr>\n",
       "    <tr>\n",
       "      <th>3</th>\n",
       "      <td>007-legends-xbox-360</td>\n",
       "      <td>46.448980</td>\n",
       "      <td>0.669014</td>\n",
       "      <td>49</td>\n",
       "    </tr>\n",
       "    <tr>\n",
       "      <th>4</th>\n",
       "      <td>007-quantum-of-solace-ds</td>\n",
       "      <td>64.300000</td>\n",
       "      <td>0.411520</td>\n",
       "      <td>10</td>\n",
       "    </tr>\n",
       "  </tbody>\n",
       "</table>\n",
       "</div>"
      ],
      "text/plain": [
       "                        game  critic_avg_grade  critic_sentiment_var  \\\n",
       "0             007-legends-pc         26.800000              0.351563   \n",
       "1  007-legends-playstation-3         42.318182              0.619410   \n",
       "2          007-legends-wii-u         40.666667              0.080168   \n",
       "3       007-legends-xbox-360         46.448980              0.669014   \n",
       "4   007-quantum-of-solace-ds         64.300000              0.411520   \n",
       "\n",
       "   critic_volume  \n",
       "0              5  \n",
       "1             22  \n",
       "2              3  \n",
       "3             49  \n",
       "4             10  "
      ]
     },
     "execution_count": 28,
     "metadata": {},
     "output_type": "execute_result"
    }
   ],
   "source": [
    "critic_reviews.head()"
   ]
  },
  {
   "cell_type": "code",
   "execution_count": 29,
   "metadata": {},
   "outputs": [
    {
     "data": {
      "text/plain": [
       "16865"
      ]
     },
     "execution_count": 29,
     "metadata": {},
     "output_type": "execute_result"
    }
   ],
   "source": [
    "len(critic_reviews)"
   ]
  },
  {
   "cell_type": "markdown",
   "metadata": {},
   "source": [
    "## Control variables: genre and console"
   ]
  },
  {
   "cell_type": "code",
   "execution_count": 30,
   "metadata": {},
   "outputs": [],
   "source": [
    "fields = ['game', 'genre', 'console']\n",
    "genre_console = pd.read_csv('../../datasets/cross-sectional-data-with-control-variables.csv', usecols=fields)"
   ]
  },
  {
   "cell_type": "code",
   "execution_count": 31,
   "metadata": {},
   "outputs": [
    {
     "data": {
      "text/html": [
       "<div>\n",
       "<style scoped>\n",
       "    .dataframe tbody tr th:only-of-type {\n",
       "        vertical-align: middle;\n",
       "    }\n",
       "\n",
       "    .dataframe tbody tr th {\n",
       "        vertical-align: top;\n",
       "    }\n",
       "\n",
       "    .dataframe thead th {\n",
       "        text-align: right;\n",
       "    }\n",
       "</style>\n",
       "<table border=\"1\" class=\"dataframe\">\n",
       "  <thead>\n",
       "    <tr style=\"text-align: right;\">\n",
       "      <th></th>\n",
       "      <th>game</th>\n",
       "      <th>genre</th>\n",
       "      <th>console</th>\n",
       "    </tr>\n",
       "  </thead>\n",
       "  <tbody>\n",
       "    <tr>\n",
       "      <th>0</th>\n",
       "      <td>007-legends-pc</td>\n",
       "      <td>Action</td>\n",
       "      <td>pc</td>\n",
       "    </tr>\n",
       "    <tr>\n",
       "      <th>1</th>\n",
       "      <td>007-legends-playstation-3</td>\n",
       "      <td>Action</td>\n",
       "      <td>playstation-3</td>\n",
       "    </tr>\n",
       "    <tr>\n",
       "      <th>2</th>\n",
       "      <td>007-legends-wii-u</td>\n",
       "      <td>Action</td>\n",
       "      <td>wii-u</td>\n",
       "    </tr>\n",
       "    <tr>\n",
       "      <th>3</th>\n",
       "      <td>007-legends-xbox-360</td>\n",
       "      <td>Action</td>\n",
       "      <td>xbox-360</td>\n",
       "    </tr>\n",
       "    <tr>\n",
       "      <th>4</th>\n",
       "      <td>007-quantum-of-solace-pc</td>\n",
       "      <td>Action</td>\n",
       "      <td>pc</td>\n",
       "    </tr>\n",
       "  </tbody>\n",
       "</table>\n",
       "</div>"
      ],
      "text/plain": [
       "                        game   genre        console\n",
       "0             007-legends-pc  Action             pc\n",
       "1  007-legends-playstation-3  Action  playstation-3\n",
       "2          007-legends-wii-u  Action          wii-u\n",
       "3       007-legends-xbox-360  Action       xbox-360\n",
       "4   007-quantum-of-solace-pc  Action             pc"
      ]
     },
     "execution_count": 31,
     "metadata": {},
     "output_type": "execute_result"
    }
   ],
   "source": [
    "genre_console.head()"
   ]
  },
  {
   "cell_type": "markdown",
   "metadata": {},
   "source": [
    "## Create final cross sectional dataframe - Count Models"
   ]
  },
  {
   "cell_type": "code",
   "execution_count": 32,
   "metadata": {},
   "outputs": [],
   "source": [
    "# merge user and critic review dataframe\n",
    "user_critics_cs = pd.merge(user_reviews_lagged, critic_reviews, how='left', on='game')"
   ]
  },
  {
   "cell_type": "code",
   "execution_count": 33,
   "metadata": {},
   "outputs": [
    {
     "data": {
      "text/plain": [
       "26136"
      ]
     },
     "execution_count": 33,
     "metadata": {},
     "output_type": "execute_result"
    }
   ],
   "source": [
    "len(user_critics_cs)"
   ]
  },
  {
   "cell_type": "code",
   "execution_count": 34,
   "metadata": {},
   "outputs": [
    {
     "data": {
      "text/html": [
       "<div>\n",
       "<style scoped>\n",
       "    .dataframe tbody tr th:only-of-type {\n",
       "        vertical-align: middle;\n",
       "    }\n",
       "\n",
       "    .dataframe tbody tr th {\n",
       "        vertical-align: top;\n",
       "    }\n",
       "\n",
       "    .dataframe thead th {\n",
       "        text-align: right;\n",
       "    }\n",
       "</style>\n",
       "<table border=\"1\" class=\"dataframe\">\n",
       "  <thead>\n",
       "    <tr style=\"text-align: right;\">\n",
       "      <th></th>\n",
       "      <th>nr_reviews</th>\n",
       "      <th>user_avg_grade</th>\n",
       "      <th>user_sentiment_var</th>\n",
       "      <th>critic_avg_grade</th>\n",
       "      <th>critic_sentiment_var</th>\n",
       "      <th>critic_volume</th>\n",
       "    </tr>\n",
       "  </thead>\n",
       "  <tbody>\n",
       "    <tr>\n",
       "      <th>count</th>\n",
       "      <td>26136.000000</td>\n",
       "      <td>13068.000000</td>\n",
       "      <td>4637.000000</td>\n",
       "      <td>23710.000000</td>\n",
       "      <td>22706.000000</td>\n",
       "      <td>23720.000000</td>\n",
       "    </tr>\n",
       "    <tr>\n",
       "      <th>mean</th>\n",
       "      <td>2.436180</td>\n",
       "      <td>71.083674</td>\n",
       "      <td>0.501503</td>\n",
       "      <td>70.004170</td>\n",
       "      <td>0.477669</td>\n",
       "      <td>22.776644</td>\n",
       "    </tr>\n",
       "    <tr>\n",
       "      <th>std</th>\n",
       "      <td>6.369977</td>\n",
       "      <td>26.111579</td>\n",
       "      <td>0.349388</td>\n",
       "      <td>14.067486</td>\n",
       "      <td>0.138779</td>\n",
       "      <td>19.947884</td>\n",
       "    </tr>\n",
       "    <tr>\n",
       "      <th>min</th>\n",
       "      <td>0.000000</td>\n",
       "      <td>0.000000</td>\n",
       "      <td>0.000000</td>\n",
       "      <td>0.000000</td>\n",
       "      <td>0.000000</td>\n",
       "      <td>1.000000</td>\n",
       "    </tr>\n",
       "    <tr>\n",
       "      <th>25%</th>\n",
       "      <td>0.000000</td>\n",
       "      <td>60.000000</td>\n",
       "      <td>0.140447</td>\n",
       "      <td>62.422932</td>\n",
       "      <td>0.404505</td>\n",
       "      <td>7.000000</td>\n",
       "    </tr>\n",
       "    <tr>\n",
       "      <th>50%</th>\n",
       "      <td>1.000000</td>\n",
       "      <td>80.000000</td>\n",
       "      <td>0.550783</td>\n",
       "      <td>72.354167</td>\n",
       "      <td>0.489651</td>\n",
       "      <td>17.000000</td>\n",
       "    </tr>\n",
       "    <tr>\n",
       "      <th>75%</th>\n",
       "      <td>2.000000</td>\n",
       "      <td>90.000000</td>\n",
       "      <td>0.760859</td>\n",
       "      <td>80.000000</td>\n",
       "      <td>0.562654</td>\n",
       "      <td>32.000000</td>\n",
       "    </tr>\n",
       "    <tr>\n",
       "      <th>max</th>\n",
       "      <td>191.000000</td>\n",
       "      <td>100.000000</td>\n",
       "      <td>1.409759</td>\n",
       "      <td>100.000000</td>\n",
       "      <td>1.310481</td>\n",
       "      <td>129.000000</td>\n",
       "    </tr>\n",
       "  </tbody>\n",
       "</table>\n",
       "</div>"
      ],
      "text/plain": [
       "         nr_reviews  user_avg_grade  user_sentiment_var  critic_avg_grade  \\\n",
       "count  26136.000000    13068.000000         4637.000000      23710.000000   \n",
       "mean       2.436180       71.083674            0.501503         70.004170   \n",
       "std        6.369977       26.111579            0.349388         14.067486   \n",
       "min        0.000000        0.000000            0.000000          0.000000   \n",
       "25%        0.000000       60.000000            0.140447         62.422932   \n",
       "50%        1.000000       80.000000            0.550783         72.354167   \n",
       "75%        2.000000       90.000000            0.760859         80.000000   \n",
       "max      191.000000      100.000000            1.409759        100.000000   \n",
       "\n",
       "       critic_sentiment_var  critic_volume  \n",
       "count          22706.000000   23720.000000  \n",
       "mean               0.477669      22.776644  \n",
       "std                0.138779      19.947884  \n",
       "min                0.000000       1.000000  \n",
       "25%                0.404505       7.000000  \n",
       "50%                0.489651      17.000000  \n",
       "75%                0.562654      32.000000  \n",
       "max                1.310481     129.000000  "
      ]
     },
     "execution_count": 34,
     "metadata": {},
     "output_type": "execute_result"
    }
   ],
   "source": [
    "user_critics_cs.describe()"
   ]
  },
  {
   "cell_type": "code",
   "execution_count": 35,
   "metadata": {},
   "outputs": [],
   "source": [
    "# merge review dataframe with control variables genre and console\n",
    "df_cs = pd.merge(user_critics_cs, genre_console, how='left', on='game')"
   ]
  },
  {
   "cell_type": "code",
   "execution_count": 36,
   "metadata": {},
   "outputs": [
    {
     "data": {
      "text/html": [
       "<div>\n",
       "<style scoped>\n",
       "    .dataframe tbody tr th:only-of-type {\n",
       "        vertical-align: middle;\n",
       "    }\n",
       "\n",
       "    .dataframe tbody tr th {\n",
       "        vertical-align: top;\n",
       "    }\n",
       "\n",
       "    .dataframe thead th {\n",
       "        text-align: right;\n",
       "    }\n",
       "</style>\n",
       "<table border=\"1\" class=\"dataframe\">\n",
       "  <thead>\n",
       "    <tr style=\"text-align: right;\">\n",
       "      <th></th>\n",
       "      <th>game</th>\n",
       "      <th>timeframe</th>\n",
       "      <th>nr_reviews</th>\n",
       "      <th>user_avg_grade</th>\n",
       "      <th>user_sentiment_var</th>\n",
       "      <th>critic_avg_grade</th>\n",
       "      <th>critic_sentiment_var</th>\n",
       "      <th>critic_volume</th>\n",
       "      <th>genre</th>\n",
       "      <th>console</th>\n",
       "    </tr>\n",
       "  </thead>\n",
       "  <tbody>\n",
       "    <tr>\n",
       "      <th>0</th>\n",
       "      <td>007-legends-pc</td>\n",
       "      <td>0</td>\n",
       "      <td>8</td>\n",
       "      <td>NaN</td>\n",
       "      <td>NaN</td>\n",
       "      <td>26.800000</td>\n",
       "      <td>0.351563</td>\n",
       "      <td>5.0</td>\n",
       "      <td>Action</td>\n",
       "      <td>pc</td>\n",
       "    </tr>\n",
       "    <tr>\n",
       "      <th>1</th>\n",
       "      <td>007-legends-pc</td>\n",
       "      <td>1</td>\n",
       "      <td>0</td>\n",
       "      <td>13.75</td>\n",
       "      <td>0.744573</td>\n",
       "      <td>26.800000</td>\n",
       "      <td>0.351563</td>\n",
       "      <td>5.0</td>\n",
       "      <td>Action</td>\n",
       "      <td>pc</td>\n",
       "    </tr>\n",
       "    <tr>\n",
       "      <th>2</th>\n",
       "      <td>007-legends-playstation-3</td>\n",
       "      <td>0</td>\n",
       "      <td>3</td>\n",
       "      <td>NaN</td>\n",
       "      <td>NaN</td>\n",
       "      <td>42.318182</td>\n",
       "      <td>0.619410</td>\n",
       "      <td>22.0</td>\n",
       "      <td>Action</td>\n",
       "      <td>playstation-3</td>\n",
       "    </tr>\n",
       "    <tr>\n",
       "      <th>3</th>\n",
       "      <td>007-legends-playstation-3</td>\n",
       "      <td>1</td>\n",
       "      <td>2</td>\n",
       "      <td>40.00</td>\n",
       "      <td>0.950803</td>\n",
       "      <td>42.318182</td>\n",
       "      <td>0.619410</td>\n",
       "      <td>22.0</td>\n",
       "      <td>Action</td>\n",
       "      <td>playstation-3</td>\n",
       "    </tr>\n",
       "    <tr>\n",
       "      <th>4</th>\n",
       "      <td>007-legends-wii-u</td>\n",
       "      <td>0</td>\n",
       "      <td>1</td>\n",
       "      <td>NaN</td>\n",
       "      <td>NaN</td>\n",
       "      <td>40.666667</td>\n",
       "      <td>0.080168</td>\n",
       "      <td>3.0</td>\n",
       "      <td>Action</td>\n",
       "      <td>wii-u</td>\n",
       "    </tr>\n",
       "  </tbody>\n",
       "</table>\n",
       "</div>"
      ],
      "text/plain": [
       "                        game timeframe  nr_reviews  user_avg_grade  \\\n",
       "0             007-legends-pc         0           8             NaN   \n",
       "1             007-legends-pc         1           0           13.75   \n",
       "2  007-legends-playstation-3         0           3             NaN   \n",
       "3  007-legends-playstation-3         1           2           40.00   \n",
       "4          007-legends-wii-u         0           1             NaN   \n",
       "\n",
       "   user_sentiment_var  critic_avg_grade  critic_sentiment_var  critic_volume  \\\n",
       "0                 NaN         26.800000              0.351563            5.0   \n",
       "1            0.744573         26.800000              0.351563            5.0   \n",
       "2                 NaN         42.318182              0.619410           22.0   \n",
       "3            0.950803         42.318182              0.619410           22.0   \n",
       "4                 NaN         40.666667              0.080168            3.0   \n",
       "\n",
       "    genre        console  \n",
       "0  Action             pc  \n",
       "1  Action             pc  \n",
       "2  Action  playstation-3  \n",
       "3  Action  playstation-3  \n",
       "4  Action          wii-u  "
      ]
     },
     "execution_count": 36,
     "metadata": {},
     "output_type": "execute_result"
    }
   ],
   "source": [
    "df_cs.head()"
   ]
  },
  {
   "cell_type": "code",
   "execution_count": 37,
   "metadata": {},
   "outputs": [],
   "source": [
    "df_cs_count_models = df_cs[df_cs['timeframe']==1].drop(columns='timeframe')"
   ]
  },
  {
   "cell_type": "code",
   "execution_count": 38,
   "metadata": {},
   "outputs": [
    {
     "data": {
      "text/html": [
       "<div>\n",
       "<style scoped>\n",
       "    .dataframe tbody tr th:only-of-type {\n",
       "        vertical-align: middle;\n",
       "    }\n",
       "\n",
       "    .dataframe tbody tr th {\n",
       "        vertical-align: top;\n",
       "    }\n",
       "\n",
       "    .dataframe thead th {\n",
       "        text-align: right;\n",
       "    }\n",
       "</style>\n",
       "<table border=\"1\" class=\"dataframe\">\n",
       "  <thead>\n",
       "    <tr style=\"text-align: right;\">\n",
       "      <th></th>\n",
       "      <th>game</th>\n",
       "      <th>nr_reviews</th>\n",
       "      <th>user_avg_grade</th>\n",
       "      <th>user_sentiment_var</th>\n",
       "      <th>critic_avg_grade</th>\n",
       "      <th>critic_sentiment_var</th>\n",
       "      <th>critic_volume</th>\n",
       "      <th>genre</th>\n",
       "      <th>console</th>\n",
       "    </tr>\n",
       "  </thead>\n",
       "  <tbody>\n",
       "    <tr>\n",
       "      <th>1</th>\n",
       "      <td>007-legends-pc</td>\n",
       "      <td>0</td>\n",
       "      <td>13.750000</td>\n",
       "      <td>0.744573</td>\n",
       "      <td>26.800000</td>\n",
       "      <td>0.351563</td>\n",
       "      <td>5.0</td>\n",
       "      <td>Action</td>\n",
       "      <td>pc</td>\n",
       "    </tr>\n",
       "    <tr>\n",
       "      <th>3</th>\n",
       "      <td>007-legends-playstation-3</td>\n",
       "      <td>2</td>\n",
       "      <td>40.000000</td>\n",
       "      <td>0.950803</td>\n",
       "      <td>42.318182</td>\n",
       "      <td>0.619410</td>\n",
       "      <td>22.0</td>\n",
       "      <td>Action</td>\n",
       "      <td>playstation-3</td>\n",
       "    </tr>\n",
       "    <tr>\n",
       "      <th>5</th>\n",
       "      <td>007-legends-wii-u</td>\n",
       "      <td>0</td>\n",
       "      <td>40.000000</td>\n",
       "      <td>NaN</td>\n",
       "      <td>40.666667</td>\n",
       "      <td>0.080168</td>\n",
       "      <td>3.0</td>\n",
       "      <td>Action</td>\n",
       "      <td>wii-u</td>\n",
       "    </tr>\n",
       "    <tr>\n",
       "      <th>7</th>\n",
       "      <td>007-legends-xbox-360</td>\n",
       "      <td>2</td>\n",
       "      <td>37.777778</td>\n",
       "      <td>0.707120</td>\n",
       "      <td>46.448980</td>\n",
       "      <td>0.669014</td>\n",
       "      <td>49.0</td>\n",
       "      <td>Action</td>\n",
       "      <td>xbox-360</td>\n",
       "    </tr>\n",
       "    <tr>\n",
       "      <th>9</th>\n",
       "      <td>007-quantum-of-solace-pc</td>\n",
       "      <td>1</td>\n",
       "      <td>30.000000</td>\n",
       "      <td>0.933805</td>\n",
       "      <td>70.833333</td>\n",
       "      <td>0.542889</td>\n",
       "      <td>18.0</td>\n",
       "      <td>Action</td>\n",
       "      <td>pc</td>\n",
       "    </tr>\n",
       "  </tbody>\n",
       "</table>\n",
       "</div>"
      ],
      "text/plain": [
       "                        game  nr_reviews  user_avg_grade  user_sentiment_var  \\\n",
       "1             007-legends-pc           0       13.750000            0.744573   \n",
       "3  007-legends-playstation-3           2       40.000000            0.950803   \n",
       "5          007-legends-wii-u           0       40.000000                 NaN   \n",
       "7       007-legends-xbox-360           2       37.777778            0.707120   \n",
       "9   007-quantum-of-solace-pc           1       30.000000            0.933805   \n",
       "\n",
       "   critic_avg_grade  critic_sentiment_var  critic_volume   genre  \\\n",
       "1         26.800000              0.351563            5.0  Action   \n",
       "3         42.318182              0.619410           22.0  Action   \n",
       "5         40.666667              0.080168            3.0  Action   \n",
       "7         46.448980              0.669014           49.0  Action   \n",
       "9         70.833333              0.542889           18.0  Action   \n",
       "\n",
       "         console  \n",
       "1             pc  \n",
       "3  playstation-3  \n",
       "5          wii-u  \n",
       "7       xbox-360  \n",
       "9             pc  "
      ]
     },
     "execution_count": 38,
     "metadata": {},
     "output_type": "execute_result"
    }
   ],
   "source": [
    "df_cs_count_models.head()"
   ]
  },
  {
   "cell_type": "code",
   "execution_count": 39,
   "metadata": {},
   "outputs": [],
   "source": [
    "df_cs_count_models.dropna(how='any', inplace=True)"
   ]
  },
  {
   "cell_type": "code",
   "execution_count": 40,
   "metadata": {},
   "outputs": [
    {
     "data": {
      "text/plain": [
       "4610"
      ]
     },
     "execution_count": 40,
     "metadata": {},
     "output_type": "execute_result"
    }
   ],
   "source": [
    "len(df_cs_count_models)"
   ]
  },
  {
   "cell_type": "code",
   "execution_count": 54,
   "metadata": {},
   "outputs": [],
   "source": [
    "df_cs_count_models.to_csv('../../datasets/final-df-count-models.csv', index=False)"
   ]
  },
  {
   "cell_type": "markdown",
   "metadata": {},
   "source": [
    "## Dataframe for cross-sectional approach with minimum of 10 reviews per timeframe"
   ]
  },
  {
   "cell_type": "code",
   "execution_count": 43,
   "metadata": {},
   "outputs": [
    {
     "data": {
      "text/html": [
       "<div>\n",
       "<style scoped>\n",
       "    .dataframe tbody tr th:only-of-type {\n",
       "        vertical-align: middle;\n",
       "    }\n",
       "\n",
       "    .dataframe tbody tr th {\n",
       "        vertical-align: top;\n",
       "    }\n",
       "\n",
       "    .dataframe thead th {\n",
       "        text-align: right;\n",
       "    }\n",
       "</style>\n",
       "<table border=\"1\" class=\"dataframe\">\n",
       "  <thead>\n",
       "    <tr style=\"text-align: right;\">\n",
       "      <th></th>\n",
       "      <th>game</th>\n",
       "      <th>min_reviews</th>\n",
       "    </tr>\n",
       "  </thead>\n",
       "  <tbody>\n",
       "    <tr>\n",
       "      <th>0</th>\n",
       "      <td>007-legends-pc</td>\n",
       "      <td>0</td>\n",
       "    </tr>\n",
       "    <tr>\n",
       "      <th>1</th>\n",
       "      <td>007-legends-playstation-3</td>\n",
       "      <td>2</td>\n",
       "    </tr>\n",
       "    <tr>\n",
       "      <th>2</th>\n",
       "      <td>007-legends-wii-u</td>\n",
       "      <td>0</td>\n",
       "    </tr>\n",
       "    <tr>\n",
       "      <th>3</th>\n",
       "      <td>007-legends-xbox-360</td>\n",
       "      <td>2</td>\n",
       "    </tr>\n",
       "    <tr>\n",
       "      <th>4</th>\n",
       "      <td>007-quantum-of-solace-pc</td>\n",
       "      <td>1</td>\n",
       "    </tr>\n",
       "  </tbody>\n",
       "</table>\n",
       "</div>"
      ],
      "text/plain": [
       "                        game  min_reviews\n",
       "0             007-legends-pc            0\n",
       "1  007-legends-playstation-3            2\n",
       "2          007-legends-wii-u            0\n",
       "3       007-legends-xbox-360            2\n",
       "4   007-quantum-of-solace-pc            1"
      ]
     },
     "execution_count": 43,
     "metadata": {},
     "output_type": "execute_result"
    }
   ],
   "source": [
    "# check minimum number of reviews over all periods for each game\n",
    "games_min_reviews = df_cs.groupby(['game'], as_index=False).agg({'nr_reviews': 'min'})\n",
    "games_min_reviews.rename(columns={'nr_reviews': 'min_reviews'}, inplace=True)\n",
    "games_min_reviews.head()"
   ]
  },
  {
   "cell_type": "code",
   "execution_count": 46,
   "metadata": {},
   "outputs": [
    {
     "data": {
      "text/plain": [
       "208"
      ]
     },
     "execution_count": 46,
     "metadata": {},
     "output_type": "execute_result"
    }
   ],
   "source": [
    "games_10_reviews = list(games_min_reviews[games_min_reviews['min_reviews']>=10]['game'])\n",
    "len(games_10_reviews)"
   ]
  },
  {
   "cell_type": "code",
   "execution_count": 47,
   "metadata": {},
   "outputs": [],
   "source": [
    "# filter all games with more than 10 reviews in each timeframe\n",
    "df_cs_10_reviews = df_cs[df_cs['game'].isin(games_10_reviews)]"
   ]
  },
  {
   "cell_type": "code",
   "execution_count": 50,
   "metadata": {},
   "outputs": [],
   "source": [
    "df_cs_10_reviews = df_cs_10_reviews[df_cs_10_reviews['timeframe']==1].drop(columns='timeframe')"
   ]
  },
  {
   "cell_type": "code",
   "execution_count": 51,
   "metadata": {},
   "outputs": [
    {
     "data": {
      "text/html": [
       "<div>\n",
       "<style scoped>\n",
       "    .dataframe tbody tr th:only-of-type {\n",
       "        vertical-align: middle;\n",
       "    }\n",
       "\n",
       "    .dataframe tbody tr th {\n",
       "        vertical-align: top;\n",
       "    }\n",
       "\n",
       "    .dataframe thead th {\n",
       "        text-align: right;\n",
       "    }\n",
       "</style>\n",
       "<table border=\"1\" class=\"dataframe\">\n",
       "  <thead>\n",
       "    <tr style=\"text-align: right;\">\n",
       "      <th></th>\n",
       "      <th>game</th>\n",
       "      <th>nr_reviews</th>\n",
       "      <th>user_avg_grade</th>\n",
       "      <th>user_sentiment_var</th>\n",
       "      <th>critic_avg_grade</th>\n",
       "      <th>critic_sentiment_var</th>\n",
       "      <th>critic_volume</th>\n",
       "      <th>genre</th>\n",
       "      <th>console</th>\n",
       "    </tr>\n",
       "  </thead>\n",
       "  <tbody>\n",
       "    <tr>\n",
       "      <th>199</th>\n",
       "      <td>a-hat-in-time-pc</td>\n",
       "      <td>11</td>\n",
       "      <td>90.416667</td>\n",
       "      <td>0.567230</td>\n",
       "      <td>79.282051</td>\n",
       "      <td>0.466825</td>\n",
       "      <td>41.0</td>\n",
       "      <td>Action</td>\n",
       "      <td>pc</td>\n",
       "    </tr>\n",
       "    <tr>\n",
       "      <th>217</th>\n",
       "      <td>a-plague-tale-innocence-pc</td>\n",
       "      <td>14</td>\n",
       "      <td>89.056604</td>\n",
       "      <td>0.459017</td>\n",
       "      <td>80.843750</td>\n",
       "      <td>0.552898</td>\n",
       "      <td>33.0</td>\n",
       "      <td>General</td>\n",
       "      <td>pc</td>\n",
       "    </tr>\n",
       "    <tr>\n",
       "      <th>219</th>\n",
       "      <td>a-plague-tale-innocence-playstation-4</td>\n",
       "      <td>12</td>\n",
       "      <td>86.610169</td>\n",
       "      <td>0.531837</td>\n",
       "      <td>82.491525</td>\n",
       "      <td>0.472003</td>\n",
       "      <td>63.0</td>\n",
       "      <td>General</td>\n",
       "      <td>playstation-4</td>\n",
       "    </tr>\n",
       "    <tr>\n",
       "      <th>695</th>\n",
       "      <td>aliens-colonial-marines-xbox-360</td>\n",
       "      <td>13</td>\n",
       "      <td>42.250000</td>\n",
       "      <td>0.811619</td>\n",
       "      <td>48.234043</td>\n",
       "      <td>0.639638</td>\n",
       "      <td>47.0</td>\n",
       "      <td>Action</td>\n",
       "      <td>xbox-360</td>\n",
       "    </tr>\n",
       "    <tr>\n",
       "      <th>813</th>\n",
       "      <td>amnesia-a-machine-for-pigs-pc</td>\n",
       "      <td>14</td>\n",
       "      <td>55.000000</td>\n",
       "      <td>0.793005</td>\n",
       "      <td>71.593220</td>\n",
       "      <td>0.607532</td>\n",
       "      <td>59.0</td>\n",
       "      <td>Action Adventure</td>\n",
       "      <td>pc</td>\n",
       "    </tr>\n",
       "  </tbody>\n",
       "</table>\n",
       "</div>"
      ],
      "text/plain": [
       "                                      game  nr_reviews  user_avg_grade  \\\n",
       "199                       a-hat-in-time-pc          11       90.416667   \n",
       "217             a-plague-tale-innocence-pc          14       89.056604   \n",
       "219  a-plague-tale-innocence-playstation-4          12       86.610169   \n",
       "695       aliens-colonial-marines-xbox-360          13       42.250000   \n",
       "813          amnesia-a-machine-for-pigs-pc          14       55.000000   \n",
       "\n",
       "     user_sentiment_var  critic_avg_grade  critic_sentiment_var  \\\n",
       "199            0.567230         79.282051              0.466825   \n",
       "217            0.459017         80.843750              0.552898   \n",
       "219            0.531837         82.491525              0.472003   \n",
       "695            0.811619         48.234043              0.639638   \n",
       "813            0.793005         71.593220              0.607532   \n",
       "\n",
       "     critic_volume             genre        console  \n",
       "199           41.0            Action             pc  \n",
       "217           33.0           General             pc  \n",
       "219           63.0           General  playstation-4  \n",
       "695           47.0            Action       xbox-360  \n",
       "813           59.0  Action Adventure             pc  "
      ]
     },
     "execution_count": 51,
     "metadata": {},
     "output_type": "execute_result"
    }
   ],
   "source": [
    "df_cs_10_reviews.head()"
   ]
  },
  {
   "cell_type": "code",
   "execution_count": 56,
   "metadata": {},
   "outputs": [],
   "source": [
    "df_cs_10_reviews.to_csv('../../datasets/final-df-cs-10-reviews.csv', index=False)"
   ]
  }
 ],
 "metadata": {
  "kernelspec": {
   "display_name": "Python 3",
   "language": "python",
   "name": "python3"
  },
  "language_info": {
   "codemirror_mode": {
    "name": "ipython",
    "version": 3
   },
   "file_extension": ".py",
   "mimetype": "text/x-python",
   "name": "python",
   "nbconvert_exporter": "python",
   "pygments_lexer": "ipython3",
   "version": "3.7.3"
  }
 },
 "nbformat": 4,
 "nbformat_minor": 4
}
