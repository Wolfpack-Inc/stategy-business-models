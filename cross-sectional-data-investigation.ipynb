{
 "cells": [
  {
   "cell_type": "markdown",
   "metadata": {},
   "source": [
    "# Analysis cross-sectional data"
   ]
  },
  {
   "cell_type": "code",
   "execution_count": 16,
   "metadata": {},
   "outputs": [],
   "source": [
    "# global imports\n",
    "import pandas as pd\n",
    "import matplotlib.pyplot as plt"
   ]
  },
  {
   "cell_type": "markdown",
   "metadata": {},
   "source": [
    "## Load cross-sectional data"
   ]
  },
  {
   "cell_type": "code",
   "execution_count": 9,
   "metadata": {},
   "outputs": [],
   "source": [
    "df = pd.read_csv('cross-sectional-data-with-control-variables.csv', index_col=0)"
   ]
  },
  {
   "cell_type": "code",
   "execution_count": 10,
   "metadata": {},
   "outputs": [
    {
     "data": {
      "text/html": [
       "<div>\n",
       "<style scoped>\n",
       "    .dataframe tbody tr th:only-of-type {\n",
       "        vertical-align: middle;\n",
       "    }\n",
       "\n",
       "    .dataframe tbody tr th {\n",
       "        vertical-align: top;\n",
       "    }\n",
       "\n",
       "    .dataframe thead th {\n",
       "        text-align: right;\n",
       "    }\n",
       "</style>\n",
       "<table border=\"1\" class=\"dataframe\">\n",
       "  <thead>\n",
       "    <tr style=\"text-align: right;\">\n",
       "      <th></th>\n",
       "      <th>game</th>\n",
       "      <th>2weeks</th>\n",
       "      <th>nr_reviews</th>\n",
       "      <th>user_avg_grade</th>\n",
       "      <th>user_sentiment_var</th>\n",
       "      <th>critic_avg_grade</th>\n",
       "      <th>critic_sentiment_var</th>\n",
       "      <th>critic_volume</th>\n",
       "      <th>genre</th>\n",
       "      <th>console</th>\n",
       "    </tr>\n",
       "  </thead>\n",
       "  <tbody>\n",
       "    <tr>\n",
       "      <th>0</th>\n",
       "      <td>007-legends-pc</td>\n",
       "      <td>1</td>\n",
       "      <td>1</td>\n",
       "      <td>1.428571</td>\n",
       "      <td>0.549131</td>\n",
       "      <td>26.800000</td>\n",
       "      <td>0.351563</td>\n",
       "      <td>5.0</td>\n",
       "      <td>Action</td>\n",
       "      <td>pc</td>\n",
       "    </tr>\n",
       "    <tr>\n",
       "      <th>1</th>\n",
       "      <td>007-legends-playstation-3</td>\n",
       "      <td>1</td>\n",
       "      <td>3</td>\n",
       "      <td>25.000000</td>\n",
       "      <td>0.177060</td>\n",
       "      <td>42.318182</td>\n",
       "      <td>0.619410</td>\n",
       "      <td>22.0</td>\n",
       "      <td>Action</td>\n",
       "      <td>playstation-3</td>\n",
       "    </tr>\n",
       "    <tr>\n",
       "      <th>2</th>\n",
       "      <td>007-legends-wii-u</td>\n",
       "      <td>1</td>\n",
       "      <td>0</td>\n",
       "      <td>40.000000</td>\n",
       "      <td>NaN</td>\n",
       "      <td>40.666667</td>\n",
       "      <td>0.080168</td>\n",
       "      <td>3.0</td>\n",
       "      <td>Action</td>\n",
       "      <td>wii-u</td>\n",
       "    </tr>\n",
       "    <tr>\n",
       "      <th>3</th>\n",
       "      <td>007-legends-xbox-360</td>\n",
       "      <td>1</td>\n",
       "      <td>1</td>\n",
       "      <td>38.750000</td>\n",
       "      <td>0.741715</td>\n",
       "      <td>46.448980</td>\n",
       "      <td>0.669014</td>\n",
       "      <td>49.0</td>\n",
       "      <td>Action</td>\n",
       "      <td>xbox-360</td>\n",
       "    </tr>\n",
       "    <tr>\n",
       "      <th>4</th>\n",
       "      <td>007-quantum-of-solace-pc</td>\n",
       "      <td>1</td>\n",
       "      <td>0</td>\n",
       "      <td>30.000000</td>\n",
       "      <td>0.933805</td>\n",
       "      <td>70.833333</td>\n",
       "      <td>0.542889</td>\n",
       "      <td>18.0</td>\n",
       "      <td>Action</td>\n",
       "      <td>pc</td>\n",
       "    </tr>\n",
       "  </tbody>\n",
       "</table>\n",
       "</div>"
      ],
      "text/plain": [
       "                        game  2weeks  nr_reviews  user_avg_grade  \\\n",
       "0             007-legends-pc       1           1        1.428571   \n",
       "1  007-legends-playstation-3       1           3       25.000000   \n",
       "2          007-legends-wii-u       1           0       40.000000   \n",
       "3       007-legends-xbox-360       1           1       38.750000   \n",
       "4   007-quantum-of-solace-pc       1           0       30.000000   \n",
       "\n",
       "   user_sentiment_var  critic_avg_grade  critic_sentiment_var  critic_volume  \\\n",
       "0            0.549131         26.800000              0.351563            5.0   \n",
       "1            0.177060         42.318182              0.619410           22.0   \n",
       "2                 NaN         40.666667              0.080168            3.0   \n",
       "3            0.741715         46.448980              0.669014           49.0   \n",
       "4            0.933805         70.833333              0.542889           18.0   \n",
       "\n",
       "    genre        console  \n",
       "0  Action             pc  \n",
       "1  Action  playstation-3  \n",
       "2  Action          wii-u  \n",
       "3  Action       xbox-360  \n",
       "4  Action             pc  "
      ]
     },
     "execution_count": 10,
     "metadata": {},
     "output_type": "execute_result"
    }
   ],
   "source": [
    "df.head()"
   ]
  },
  {
   "cell_type": "markdown",
   "metadata": {},
   "source": [
    "### Check control variables genre & console"
   ]
  },
  {
   "cell_type": "code",
   "execution_count": 13,
   "metadata": {},
   "outputs": [
    {
     "data": {
      "text/plain": [
       "Action              4898\n",
       "General             2597\n",
       "Role-Playing        1066\n",
       "Sports               927\n",
       "Action Adventure     926\n",
       "Miscellaneous        713\n",
       "Simulation           591\n",
       "Strategy             409\n",
       "Arcade               341\n",
       "Adventure            265\n",
       "Racing               155\n",
       "Driving               45\n",
       "Puzzle                43\n",
       "Name: genre, dtype: int64"
      ]
     },
     "execution_count": 13,
     "metadata": {},
     "output_type": "execute_result"
    }
   ],
   "source": [
    "df.genre.value_counts()"
   ]
  },
  {
   "cell_type": "code",
   "execution_count": 14,
   "metadata": {},
   "outputs": [
    {
     "data": {
      "text/plain": [
       "pc                  4231\n",
       "playstation-4       1092\n",
       "xbox-360            1021\n",
       "playstation-3        983\n",
       "playstation-2        940\n",
       "xbox-one             742\n",
       "switch               644\n",
       "wii                  597\n",
       "ds                   472\n",
       "3ds                  349\n",
       "psp                  339\n",
       "playstation-vita     315\n",
       "gamecube             313\n",
       "xbox                 291\n",
       "game-boy-advance     253\n",
       "wii-u                194\n",
       "playstation          146\n",
       "nintendo-64           77\n",
       "dreamcast             47\n",
       "ios                   22\n",
       "Name: console, dtype: int64"
      ]
     },
     "execution_count": 14,
     "metadata": {},
     "output_type": "execute_result"
    }
   ],
   "source": [
    "df.console.value_counts()"
   ]
  },
  {
   "cell_type": "markdown",
   "metadata": {},
   "source": [
    "### Summary statistics & visualization"
   ]
  },
  {
   "cell_type": "code",
   "execution_count": 15,
   "metadata": {},
   "outputs": [
    {
     "data": {
      "text/html": [
       "<div>\n",
       "<style scoped>\n",
       "    .dataframe tbody tr th:only-of-type {\n",
       "        vertical-align: middle;\n",
       "    }\n",
       "\n",
       "    .dataframe tbody tr th {\n",
       "        vertical-align: top;\n",
       "    }\n",
       "\n",
       "    .dataframe thead th {\n",
       "        text-align: right;\n",
       "    }\n",
       "</style>\n",
       "<table border=\"1\" class=\"dataframe\">\n",
       "  <thead>\n",
       "    <tr style=\"text-align: right;\">\n",
       "      <th></th>\n",
       "      <th>2weeks</th>\n",
       "      <th>nr_reviews</th>\n",
       "      <th>user_avg_grade</th>\n",
       "      <th>user_sentiment_var</th>\n",
       "      <th>critic_avg_grade</th>\n",
       "      <th>critic_sentiment_var</th>\n",
       "      <th>critic_volume</th>\n",
       "    </tr>\n",
       "  </thead>\n",
       "  <tbody>\n",
       "    <tr>\n",
       "      <th>count</th>\n",
       "      <td>13068.0</td>\n",
       "      <td>13068.000000</td>\n",
       "      <td>13068.000000</td>\n",
       "      <td>4637.000000</td>\n",
       "      <td>11855.000000</td>\n",
       "      <td>11353.000000</td>\n",
       "      <td>11860.000000</td>\n",
       "    </tr>\n",
       "    <tr>\n",
       "      <th>mean</th>\n",
       "      <td>1.0</td>\n",
       "      <td>0.868993</td>\n",
       "      <td>71.083674</td>\n",
       "      <td>0.501503</td>\n",
       "      <td>70.004170</td>\n",
       "      <td>0.477669</td>\n",
       "      <td>22.776644</td>\n",
       "    </tr>\n",
       "    <tr>\n",
       "      <th>std</th>\n",
       "      <td>0.0</td>\n",
       "      <td>2.641796</td>\n",
       "      <td>26.111579</td>\n",
       "      <td>0.349388</td>\n",
       "      <td>14.067783</td>\n",
       "      <td>0.138782</td>\n",
       "      <td>19.948304</td>\n",
       "    </tr>\n",
       "    <tr>\n",
       "      <th>min</th>\n",
       "      <td>1.0</td>\n",
       "      <td>0.000000</td>\n",
       "      <td>0.000000</td>\n",
       "      <td>0.000000</td>\n",
       "      <td>0.000000</td>\n",
       "      <td>0.000000</td>\n",
       "      <td>1.000000</td>\n",
       "    </tr>\n",
       "    <tr>\n",
       "      <th>25%</th>\n",
       "      <td>1.0</td>\n",
       "      <td>0.000000</td>\n",
       "      <td>60.000000</td>\n",
       "      <td>0.140447</td>\n",
       "      <td>62.424812</td>\n",
       "      <td>0.404505</td>\n",
       "      <td>7.000000</td>\n",
       "    </tr>\n",
       "    <tr>\n",
       "      <th>50%</th>\n",
       "      <td>1.0</td>\n",
       "      <td>0.000000</td>\n",
       "      <td>80.000000</td>\n",
       "      <td>0.550783</td>\n",
       "      <td>72.354167</td>\n",
       "      <td>0.489651</td>\n",
       "      <td>17.000000</td>\n",
       "    </tr>\n",
       "    <tr>\n",
       "      <th>75%</th>\n",
       "      <td>1.0</td>\n",
       "      <td>1.000000</td>\n",
       "      <td>90.000000</td>\n",
       "      <td>0.760859</td>\n",
       "      <td>80.000000</td>\n",
       "      <td>0.562654</td>\n",
       "      <td>32.000000</td>\n",
       "    </tr>\n",
       "    <tr>\n",
       "      <th>max</th>\n",
       "      <td>1.0</td>\n",
       "      <td>146.000000</td>\n",
       "      <td>100.000000</td>\n",
       "      <td>1.409759</td>\n",
       "      <td>100.000000</td>\n",
       "      <td>1.310481</td>\n",
       "      <td>129.000000</td>\n",
       "    </tr>\n",
       "  </tbody>\n",
       "</table>\n",
       "</div>"
      ],
      "text/plain": [
       "        2weeks    nr_reviews  user_avg_grade  user_sentiment_var  \\\n",
       "count  13068.0  13068.000000    13068.000000         4637.000000   \n",
       "mean       1.0      0.868993       71.083674            0.501503   \n",
       "std        0.0      2.641796       26.111579            0.349388   \n",
       "min        1.0      0.000000        0.000000            0.000000   \n",
       "25%        1.0      0.000000       60.000000            0.140447   \n",
       "50%        1.0      0.000000       80.000000            0.550783   \n",
       "75%        1.0      1.000000       90.000000            0.760859   \n",
       "max        1.0    146.000000      100.000000            1.409759   \n",
       "\n",
       "       critic_avg_grade  critic_sentiment_var  critic_volume  \n",
       "count      11855.000000          11353.000000   11860.000000  \n",
       "mean          70.004170              0.477669      22.776644  \n",
       "std           14.067783              0.138782      19.948304  \n",
       "min            0.000000              0.000000       1.000000  \n",
       "25%           62.424812              0.404505       7.000000  \n",
       "50%           72.354167              0.489651      17.000000  \n",
       "75%           80.000000              0.562654      32.000000  \n",
       "max          100.000000              1.310481     129.000000  "
      ]
     },
     "execution_count": 15,
     "metadata": {},
     "output_type": "execute_result"
    }
   ],
   "source": [
    "df.describe()"
   ]
  },
  {
   "cell_type": "code",
   "execution_count": 25,
   "metadata": {},
   "outputs": [],
   "source": [
    "counts = df.nr_reviews.value_counts().sort_index()"
   ]
  },
  {
   "cell_type": "code",
   "execution_count": 27,
   "metadata": {},
   "outputs": [
    {
     "data": {
      "text/plain": [
       "0      9659\n",
       "1      1388\n",
       "2       616\n",
       "3       386\n",
       "4       249\n",
       "5       174\n",
       "6       155\n",
       "7        87\n",
       "8        91\n",
       "9        63\n",
       "10       48\n",
       "11       39\n",
       "12       25\n",
       "13       19\n",
       "14       18\n",
       "15        9\n",
       "16        7\n",
       "17        8\n",
       "18        2\n",
       "19        4\n",
       "20        4\n",
       "21        3\n",
       "22        1\n",
       "23        1\n",
       "25        3\n",
       "26        1\n",
       "27        2\n",
       "30        1\n",
       "31        1\n",
       "32        1\n",
       "40        1\n",
       "53        1\n",
       "146       1\n",
       "Name: nr_reviews, dtype: int64"
      ]
     },
     "execution_count": 27,
     "metadata": {},
     "output_type": "execute_result"
    }
   ],
   "source": [
    "counts"
   ]
  },
  {
   "cell_type": "code",
   "execution_count": 32,
   "metadata": {},
   "outputs": [
    {
     "data": {
      "image/png": "[encoded data removed]",
      "text/plain": [
       "<Figure size 432x288 with 1 Axes>"
      ]
     },
     "metadata": {
      "needs_background": "light"
     },
     "output_type": "display_data"
    }
   ],
   "source": [
    "plt.plot(counts)\n",
    "plt.title('Distribution of nr of reviews')\n",
    "plt.xlabel('nr of reviews')\n",
    "plt.ylabel('nr of games')\n",
    "plt.show()"
   ]
  }
 ],
 "metadata": {
  "kernelspec": {
   "display_name": "Python 3",
   "language": "python",
   "name": "python3"
  },
  "language_info": {
   "codemirror_mode": {
    "name": "ipython",
    "version": 3
   },
   "file_extension": ".py",
   "mimetype": "text/x-python",
   "name": "python",
   "nbconvert_exporter": "python",
   "pygments_lexer": "ipython3",
   "version": "3.7.3"
  }
 },
 "nbformat": 4,
 "nbformat_minor": 2
}
