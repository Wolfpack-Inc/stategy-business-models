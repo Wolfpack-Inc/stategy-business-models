{
 "cells": [
  {
   "cell_type": "code",
   "execution_count": 1,
   "metadata": {
    "ExecuteTime": {
     "end_time": "2019-10-08T09:26:25.450551Z",
     "start_time": "2019-10-08T09:26:24.829227Z"
    }
   },
   "outputs": [],
   "source": [
    "from toolbox import ToolBox"
   ]
  },
  {
   "cell_type": "code",
   "execution_count": 2,
   "metadata": {
    "ExecuteTime": {
     "end_time": "2019-10-08T09:26:25.486357Z",
     "start_time": "2019-10-08T09:26:25.452813Z"
    }
   },
   "outputs": [],
   "source": [
    "tb = ToolBox()"
   ]
  },
  {
   "cell_type": "code",
   "execution_count": 3,
   "metadata": {
    "ExecuteTime": {
     "end_time": "2019-10-08T09:26:48.609642Z",
     "start_time": "2019-10-08T09:26:48.575934Z"
    }
   },
   "outputs": [
    {
     "name": "stdout",
     "output_type": "stream",
     "text": [
      "Loading from database\n"
     ]
    },
    {
     "data": {
      "text/html": [
       "<div>\n",
       "<style scoped>\n",
       "    .dataframe tbody tr th:only-of-type {\n",
       "        vertical-align: middle;\n",
       "    }\n",
       "\n",
       "    .dataframe tbody tr th {\n",
       "        vertical-align: top;\n",
       "    }\n",
       "\n",
       "    .dataframe thead th {\n",
       "        text-align: right;\n",
       "    }\n",
       "</style>\n",
       "<table border=\"1\" class=\"dataframe\">\n",
       "  <thead>\n",
       "    <tr style=\"text-align: right;\">\n",
       "      <th></th>\n",
       "      <th>game</th>\n",
       "      <th>username</th>\n",
       "      <th>date</th>\n",
       "      <th>grade</th>\n",
       "      <th>review</th>\n",
       "      <th>lang</th>\n",
       "      <th>helpful_nb</th>\n",
       "      <th>helpful_nb_total</th>\n",
       "    </tr>\n",
       "  </thead>\n",
       "  <tbody>\n",
       "    <tr>\n",
       "      <th>0</th>\n",
       "      <td>007-legends-pc</td>\n",
       "      <td>Bughyman1000</td>\n",
       "      <td>2013-01-19</td>\n",
       "      <td>30</td>\n",
       "      <td>Oh, my dear God! What is it with developers th...</td>\n",
       "      <td>en</td>\n",
       "      <td>0</td>\n",
       "      <td>0</td>\n",
       "    </tr>\n",
       "    <tr>\n",
       "      <th>1</th>\n",
       "      <td>007-legends-pc</td>\n",
       "      <td>DiabloZiri</td>\n",
       "      <td>2014-06-23</td>\n",
       "      <td>30</td>\n",
       "      <td>Seriously if you want to have a HUGE laugh wit...</td>\n",
       "      <td>en</td>\n",
       "      <td>0</td>\n",
       "      <td>0</td>\n",
       "    </tr>\n",
       "    <tr>\n",
       "      <th>2</th>\n",
       "      <td>007-legends-pc</td>\n",
       "      <td>DrugsMeazureTim</td>\n",
       "      <td>2014-12-11</td>\n",
       "      <td>0</td>\n",
       "      <td>godawful port of the xbox 360 version and ps3....</td>\n",
       "      <td>en</td>\n",
       "      <td>0</td>\n",
       "      <td>0</td>\n",
       "    </tr>\n",
       "    <tr>\n",
       "      <th>3</th>\n",
       "      <td>007-legends-pc</td>\n",
       "      <td>DustEater</td>\n",
       "      <td>2012-11-03</td>\n",
       "      <td>0</td>\n",
       "      <td>Agree. Worst game ever. Its a full copy of Cal...</td>\n",
       "      <td>en</td>\n",
       "      <td>8</td>\n",
       "      <td>8</td>\n",
       "    </tr>\n",
       "    <tr>\n",
       "      <th>4</th>\n",
       "      <td>007-legends-pc</td>\n",
       "      <td>evry1isacritic</td>\n",
       "      <td>2012-11-04</td>\n",
       "      <td>0</td>\n",
       "      <td>DO NOT BUY THIS GAME for the PC (or for any ot...</td>\n",
       "      <td>en</td>\n",
       "      <td>2</td>\n",
       "      <td>2</td>\n",
       "    </tr>\n",
       "  </tbody>\n",
       "</table>\n",
       "</div>"
      ],
      "text/plain": [
       "             game         username       date  grade  \\\n",
       "0  007-legends-pc     Bughyman1000 2013-01-19     30   \n",
       "1  007-legends-pc       DiabloZiri 2014-06-23     30   \n",
       "2  007-legends-pc  DrugsMeazureTim 2014-12-11      0   \n",
       "3  007-legends-pc        DustEater 2012-11-03      0   \n",
       "4  007-legends-pc   evry1isacritic 2012-11-04      0   \n",
       "\n",
       "                                              review lang  helpful_nb  \\\n",
       "0  Oh, my dear God! What is it with developers th...   en           0   \n",
       "1  Seriously if you want to have a HUGE laugh wit...   en           0   \n",
       "2  godawful port of the xbox 360 version and ps3....   en           0   \n",
       "3  Agree. Worst game ever. Its a full copy of Cal...   en           8   \n",
       "4  DO NOT BUY THIS GAME for the PC (or for any ot...   en           2   \n",
       "\n",
       "   helpful_nb_total  \n",
       "0                 0  \n",
       "1                 0  \n",
       "2                 0  \n",
       "3                 8  \n",
       "4                 2  "
      ]
     },
     "execution_count": 3,
     "metadata": {},
     "output_type": "execute_result"
    }
   ],
   "source": [
    "df = tb.load_data_sql(table='user_reviews', where=\"lang = 'en'\", limit=10000, use_cache=True)\n",
    "df = df[~df['review'].isnull()]\n",
    "df.head()"
   ]
  },
  {
   "cell_type": "code",
   "execution_count": 11,
   "metadata": {
    "ExecuteTime": {
     "end_time": "2019-10-08T09:26:52.148348Z",
     "start_time": "2019-10-08T09:26:52.144445Z"
    }
   },
   "outputs": [
    {
     "data": {
      "text/plain": [
       "(10000, 8)"
      ]
     },
     "execution_count": 11,
     "metadata": {},
     "output_type": "execute_result"
    }
   ],
   "source": [
    "df.shape"
   ]
  },
  {
   "cell_type": "code",
   "execution_count": null,
   "metadata": {},
   "outputs": [],
   "source": []
  }
 ],
 "metadata": {
  "kernelspec": {
   "display_name": "Python 3",
   "language": "python",
   "name": "python3"
  },
  "language_info": {
   "codemirror_mode": {
    "name": "ipython",
    "version": 3
   },
   "file_extension": ".py",
   "mimetype": "text/x-python",
   "name": "python",
   "nbconvert_exporter": "python",
   "pygments_lexer": "ipython3",
   "version": "3.7.3"
  },
  "toc": {
   "base_numbering": 1,
   "nav_menu": {},
   "number_sections": true,
   "sideBar": true,
   "skip_h1_title": false,
   "title_cell": "Table of Contents",
   "title_sidebar": "Contents",
   "toc_cell": false,
   "toc_position": {},
   "toc_section_display": true,
   "toc_window_display": false
  }
 },
 "nbformat": 4,
 "nbformat_minor": 4
}
