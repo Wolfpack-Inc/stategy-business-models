{
 "cells": [
  {
   "cell_type": "code",
   "execution_count": 1,
   "metadata": {},
   "outputs": [],
   "source": [
    "from toolbox import ToolBox\n",
    "from tqdm import tqdm\n",
    "\n",
    "import langid\n",
    "from models import *\n",
    "\n",
    "tqdm.pandas()"
   ]
  },
  {
   "cell_type": "code",
   "execution_count": 2,
   "metadata": {},
   "outputs": [],
   "source": [
    "tb = ToolBox()"
   ]
  },
  {
   "cell_type": "code",
   "execution_count": 3,
   "metadata": {},
   "outputs": [
    {
     "data": {
      "text/html": [
       "<div>\n",
       "<style scoped>\n",
       "    .dataframe tbody tr th:only-of-type {\n",
       "        vertical-align: middle;\n",
       "    }\n",
       "\n",
       "    .dataframe tbody tr th {\n",
       "        vertical-align: top;\n",
       "    }\n",
       "\n",
       "    .dataframe thead th {\n",
       "        text-align: right;\n",
       "    }\n",
       "</style>\n",
       "<table border=\"1\" class=\"dataframe\">\n",
       "  <thead>\n",
       "    <tr style=\"text-align: right;\">\n",
       "      <th></th>\n",
       "      <th>game</th>\n",
       "      <th>source</th>\n",
       "      <th>date</th>\n",
       "      <th>grade</th>\n",
       "      <th>review</th>\n",
       "      <th>lang</th>\n",
       "    </tr>\n",
       "  </thead>\n",
       "  <tbody>\n",
       "    <tr>\n",
       "      <th>0</th>\n",
       "      <td>007-legends-pc</td>\n",
       "      <td>GamingXP</td>\n",
       "      <td>2012-12-03</td>\n",
       "      <td>35.0</td>\n",
       "      <td>Unfortunately the game proves the fact, that d...</td>\n",
       "      <td>None</td>\n",
       "    </tr>\n",
       "    <tr>\n",
       "      <th>1</th>\n",
       "      <td>007-legends-pc</td>\n",
       "      <td>LEVEL (Czech Republic)</td>\n",
       "      <td>2012-12-21</td>\n",
       "      <td>30.0</td>\n",
       "      <td>The worst gift agent 007 could possibly get to...</td>\n",
       "      <td>None</td>\n",
       "    </tr>\n",
       "    <tr>\n",
       "      <th>2</th>\n",
       "      <td>007-legends-pc</td>\n",
       "      <td>PC Gamer</td>\n",
       "      <td>2013-01-05</td>\n",
       "      <td>16.0</td>\n",
       "      <td>Legends, you're the worst. [Feb 2013, p.79]</td>\n",
       "      <td>None</td>\n",
       "    </tr>\n",
       "    <tr>\n",
       "      <th>3</th>\n",
       "      <td>007-legends-pc</td>\n",
       "      <td>PC Master (Greece)</td>\n",
       "      <td>2013-02-06</td>\n",
       "      <td>28.0</td>\n",
       "      <td>Why put yourself through this ordeal, when the...</td>\n",
       "      <td>None</td>\n",
       "    </tr>\n",
       "    <tr>\n",
       "      <th>4</th>\n",
       "      <td>007-legends-pc</td>\n",
       "      <td>Riot Pixels</td>\n",
       "      <td>2013-01-29</td>\n",
       "      <td>25.0</td>\n",
       "      <td>007 Legends greets you with a warning that Act...</td>\n",
       "      <td>None</td>\n",
       "    </tr>\n",
       "  </tbody>\n",
       "</table>\n",
       "</div>"
      ],
      "text/plain": [
       "             game                  source       date  grade  \\\n",
       "0  007-legends-pc                GamingXP 2012-12-03   35.0   \n",
       "1  007-legends-pc  LEVEL (Czech Republic) 2012-12-21   30.0   \n",
       "2  007-legends-pc                PC Gamer 2013-01-05   16.0   \n",
       "3  007-legends-pc      PC Master (Greece) 2013-02-06   28.0   \n",
       "4  007-legends-pc             Riot Pixels 2013-01-29   25.0   \n",
       "\n",
       "                                              review  lang  \n",
       "0  Unfortunately the game proves the fact, that d...  None  \n",
       "1  The worst gift agent 007 could possibly get to...  None  \n",
       "2        Legends, you're the worst. [Feb 2013, p.79]  None  \n",
       "3  Why put yourself through this ordeal, when the...  None  \n",
       "4  007 Legends greets you with a warning that Act...  None  "
      ]
     },
     "execution_count": 3,
     "metadata": {},
     "output_type": "execute_result"
    }
   ],
   "source": [
    "df = tb.load_data_sql(table='user_reviews')\n",
    "df = df[~df['review'].isnull()]\n",
    "df.head()"
   ]
  },
  {
   "cell_type": "code",
   "execution_count": 4,
   "metadata": {},
   "outputs": [
    {
     "data": {
      "text/plain": [
       "(322070, 6)"
      ]
     },
     "execution_count": 4,
     "metadata": {},
     "output_type": "execute_result"
    }
   ],
   "source": [
    "df.shape"
   ]
  },
  {
   "cell_type": "code",
   "execution_count": 5,
   "metadata": {
    "scrolled": false
   },
   "outputs": [
    {
     "name": "stderr",
     "output_type": "stream",
     "text": [
      "100%|██████████| 322070/322070 [04:20<00:00, 1234.04it/s]\n"
     ]
    },
    {
     "data": {
      "text/html": [
       "<div>\n",
       "<style scoped>\n",
       "    .dataframe tbody tr th:only-of-type {\n",
       "        vertical-align: middle;\n",
       "    }\n",
       "\n",
       "    .dataframe tbody tr th {\n",
       "        vertical-align: top;\n",
       "    }\n",
       "\n",
       "    .dataframe thead th {\n",
       "        text-align: right;\n",
       "    }\n",
       "</style>\n",
       "<table border=\"1\" class=\"dataframe\">\n",
       "  <thead>\n",
       "    <tr style=\"text-align: right;\">\n",
       "      <th></th>\n",
       "      <th>game</th>\n",
       "      <th>source</th>\n",
       "      <th>date</th>\n",
       "      <th>grade</th>\n",
       "      <th>review</th>\n",
       "      <th>lang</th>\n",
       "    </tr>\n",
       "  </thead>\n",
       "  <tbody>\n",
       "    <tr>\n",
       "      <th>0</th>\n",
       "      <td>007-legends-pc</td>\n",
       "      <td>GamingXP</td>\n",
       "      <td>2012-12-03</td>\n",
       "      <td>35.0</td>\n",
       "      <td>Unfortunately the game proves the fact, that d...</td>\n",
       "      <td>en</td>\n",
       "    </tr>\n",
       "    <tr>\n",
       "      <th>1</th>\n",
       "      <td>007-legends-pc</td>\n",
       "      <td>LEVEL (Czech Republic)</td>\n",
       "      <td>2012-12-21</td>\n",
       "      <td>30.0</td>\n",
       "      <td>The worst gift agent 007 could possibly get to...</td>\n",
       "      <td>en</td>\n",
       "    </tr>\n",
       "    <tr>\n",
       "      <th>2</th>\n",
       "      <td>007-legends-pc</td>\n",
       "      <td>PC Gamer</td>\n",
       "      <td>2013-01-05</td>\n",
       "      <td>16.0</td>\n",
       "      <td>Legends, you're the worst. [Feb 2013, p.79]</td>\n",
       "      <td>en</td>\n",
       "    </tr>\n",
       "    <tr>\n",
       "      <th>3</th>\n",
       "      <td>007-legends-pc</td>\n",
       "      <td>PC Master (Greece)</td>\n",
       "      <td>2013-02-06</td>\n",
       "      <td>28.0</td>\n",
       "      <td>Why put yourself through this ordeal, when the...</td>\n",
       "      <td>en</td>\n",
       "    </tr>\n",
       "    <tr>\n",
       "      <th>4</th>\n",
       "      <td>007-legends-pc</td>\n",
       "      <td>Riot Pixels</td>\n",
       "      <td>2013-01-29</td>\n",
       "      <td>25.0</td>\n",
       "      <td>007 Legends greets you with a warning that Act...</td>\n",
       "      <td>en</td>\n",
       "    </tr>\n",
       "  </tbody>\n",
       "</table>\n",
       "</div>"
      ],
      "text/plain": [
       "             game                  source       date  grade  \\\n",
       "0  007-legends-pc                GamingXP 2012-12-03   35.0   \n",
       "1  007-legends-pc  LEVEL (Czech Republic) 2012-12-21   30.0   \n",
       "2  007-legends-pc                PC Gamer 2013-01-05   16.0   \n",
       "3  007-legends-pc      PC Master (Greece) 2013-02-06   28.0   \n",
       "4  007-legends-pc             Riot Pixels 2013-01-29   25.0   \n",
       "\n",
       "                                              review lang  \n",
       "0  Unfortunately the game proves the fact, that d...   en  \n",
       "1  The worst gift agent 007 could possibly get to...   en  \n",
       "2        Legends, you're the worst. [Feb 2013, p.79]   en  \n",
       "3  Why put yourself through this ordeal, when the...   en  \n",
       "4  007 Legends greets you with a warning that Act...   en  "
      ]
     },
     "execution_count": 5,
     "metadata": {},
     "output_type": "execute_result"
    }
   ],
   "source": [
    "def detect_language(review):\n",
    "    return langid.classify(review)[0]\n",
    "\n",
    "df['lang'] = df['review'].progress_apply(detect_language)\n",
    "\n",
    "df.head()"
   ]
  },
  {
   "cell_type": "code",
   "execution_count": 59,
   "metadata": {},
   "outputs": [
    {
     "name": "stderr",
     "output_type": "stream",
     "text": [
      "100%|██████████| 228445/228445 [1:58:38<00:00, 32.09it/s]   \n"
     ]
    }
   ],
   "source": [
    "def update_lang(review):\n",
    "    (UserReviews\n",
    "        .update(lang = review['lang'])\n",
    "        .where(\n",
    "            (UserReviews.game == review['game']) & \n",
    "            (UserReviews.username == review['username'])).execute())\n",
    "\n",
    "df.progress_apply(update_lang, axis=1);"
   ]
  }
 ],
 "metadata": {
  "kernelspec": {
   "display_name": "Python 3",
   "language": "python",
   "name": "python3"
  },
  "language_info": {
   "codemirror_mode": {
    "name": "ipython",
    "version": 3
   },
   "file_extension": ".py",
   "mimetype": "text/x-python",
   "name": "python",
   "nbconvert_exporter": "python",
   "pygments_lexer": "ipython3",
   "version": "3.7.1"
  }
 },
 "nbformat": 4,
 "nbformat_minor": 2
}
