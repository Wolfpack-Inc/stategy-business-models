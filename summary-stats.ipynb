{
 "cells": [
  {
   "cell_type": "code",
   "execution_count": 108,
   "metadata": {
    "ExecuteTime": {
     "end_time": "2019-11-13T09:15:14.891148Z",
     "start_time": "2019-11-13T09:15:14.887814Z"
    }
   },
   "outputs": [],
   "source": [
    "import pandas as pd\n",
    "import numpy as np\n",
    "import matplotlib.pyplot as plt\n",
    "import seaborn as sns\n",
    "from toolbox import ToolBox"
   ]
  },
  {
   "cell_type": "code",
   "execution_count": 47,
   "metadata": {
    "ExecuteTime": {
     "end_time": "2019-11-13T08:43:05.155979Z",
     "start_time": "2019-11-13T08:43:05.049580Z"
    }
   },
   "outputs": [],
   "source": [
    "tb = ToolBox()"
   ]
  },
  {
   "cell_type": "code",
   "execution_count": 55,
   "metadata": {
    "ExecuteTime": {
     "end_time": "2019-11-13T08:46:19.270223Z",
     "start_time": "2019-11-13T08:46:09.998111Z"
    }
   },
   "outputs": [
    {
     "name": "stdout",
     "output_type": "stream",
     "text": [
      "Loading from database\n"
     ]
    },
    {
     "data": {
      "text/html": [
       "<div>\n",
       "<style scoped>\n",
       "    .dataframe tbody tr th:only-of-type {\n",
       "        vertical-align: middle;\n",
       "    }\n",
       "\n",
       "    .dataframe tbody tr th {\n",
       "        vertical-align: top;\n",
       "    }\n",
       "\n",
       "    .dataframe thead th {\n",
       "        text-align: right;\n",
       "    }\n",
       "</style>\n",
       "<table border=\"1\" class=\"dataframe\">\n",
       "  <thead>\n",
       "    <tr style=\"text-align: right;\">\n",
       "      <th></th>\n",
       "      <th>game</th>\n",
       "      <th>source</th>\n",
       "      <th>date</th>\n",
       "      <th>grade</th>\n",
       "      <th>review</th>\n",
       "      <th>lang</th>\n",
       "      <th>sentiment</th>\n",
       "    </tr>\n",
       "  </thead>\n",
       "  <tbody>\n",
       "    <tr>\n",
       "      <th>0</th>\n",
       "      <td>007-legends-pc</td>\n",
       "      <td>GamingXP</td>\n",
       "      <td>2012-12-03</td>\n",
       "      <td>35.0</td>\n",
       "      <td>Unfortunately the game proves the fact, that d...</td>\n",
       "      <td>en</td>\n",
       "      <td>None</td>\n",
       "    </tr>\n",
       "    <tr>\n",
       "      <th>1</th>\n",
       "      <td>007-legends-pc</td>\n",
       "      <td>LEVEL (Czech Republic)</td>\n",
       "      <td>2012-12-21</td>\n",
       "      <td>30.0</td>\n",
       "      <td>The worst gift agent 007 could possibly get to...</td>\n",
       "      <td>en</td>\n",
       "      <td>None</td>\n",
       "    </tr>\n",
       "    <tr>\n",
       "      <th>2</th>\n",
       "      <td>007-legends-pc</td>\n",
       "      <td>PC Gamer</td>\n",
       "      <td>2013-01-05</td>\n",
       "      <td>16.0</td>\n",
       "      <td>Legends, you're the worst. [Feb 2013, p.79]</td>\n",
       "      <td>en</td>\n",
       "      <td>None</td>\n",
       "    </tr>\n",
       "    <tr>\n",
       "      <th>3</th>\n",
       "      <td>007-legends-pc</td>\n",
       "      <td>PC Master (Greece)</td>\n",
       "      <td>2013-02-06</td>\n",
       "      <td>28.0</td>\n",
       "      <td>Why put yourself through this ordeal, when the...</td>\n",
       "      <td>en</td>\n",
       "      <td>None</td>\n",
       "    </tr>\n",
       "    <tr>\n",
       "      <th>4</th>\n",
       "      <td>007-legends-pc</td>\n",
       "      <td>Riot Pixels</td>\n",
       "      <td>2013-01-29</td>\n",
       "      <td>25.0</td>\n",
       "      <td>007 Legends greets you with a warning that Act...</td>\n",
       "      <td>en</td>\n",
       "      <td>None</td>\n",
       "    </tr>\n",
       "  </tbody>\n",
       "</table>\n",
       "</div>"
      ],
      "text/plain": [
       "             game                  source       date  grade  \\\n",
       "0  007-legends-pc                GamingXP 2012-12-03   35.0   \n",
       "1  007-legends-pc  LEVEL (Czech Republic) 2012-12-21   30.0   \n",
       "2  007-legends-pc                PC Gamer 2013-01-05   16.0   \n",
       "3  007-legends-pc      PC Master (Greece) 2013-02-06   28.0   \n",
       "4  007-legends-pc             Riot Pixels 2013-01-29   25.0   \n",
       "\n",
       "                                              review lang sentiment  \n",
       "0  Unfortunately the game proves the fact, that d...   en      None  \n",
       "1  The worst gift agent 007 could possibly get to...   en      None  \n",
       "2        Legends, you're the worst. [Feb 2013, p.79]   en      None  \n",
       "3  Why put yourself through this ordeal, when the...   en      None  \n",
       "4  007 Legends greets you with a warning that Act...   en      None  "
      ]
     },
     "execution_count": 55,
     "metadata": {},
     "output_type": "execute_result"
    }
   ],
   "source": [
    "df = tb.load_data_sql(table='critic_reviews', use_cache=True)\n",
    "df = df[~df['review'].isnull()]\n",
    "df.head()"
   ]
  },
  {
   "cell_type": "code",
   "execution_count": 56,
   "metadata": {
    "ExecuteTime": {
     "end_time": "2019-11-13T08:46:26.216523Z",
     "start_time": "2019-11-13T08:46:26.212860Z"
    }
   },
   "outputs": [
    {
     "data": {
      "text/plain": [
       "(322070, 7)"
      ]
     },
     "execution_count": 56,
     "metadata": {},
     "output_type": "execute_result"
    }
   ],
   "source": [
    "df.shape"
   ]
  },
  {
   "cell_type": "code",
   "execution_count": 95,
   "metadata": {
    "ExecuteTime": {
     "end_time": "2019-11-13T09:12:19.454412Z",
     "start_time": "2019-11-13T09:12:19.062521Z"
    }
   },
   "outputs": [
    {
     "name": "stdout",
     "output_type": "stream",
     "text": [
      "Loaded from cache\n"
     ]
    },
    {
     "data": {
      "text/html": [
       "<div>\n",
       "<style scoped>\n",
       "    .dataframe tbody tr th:only-of-type {\n",
       "        vertical-align: middle;\n",
       "    }\n",
       "\n",
       "    .dataframe tbody tr th {\n",
       "        vertical-align: top;\n",
       "    }\n",
       "\n",
       "    .dataframe thead th {\n",
       "        text-align: right;\n",
       "    }\n",
       "</style>\n",
       "<table border=\"1\" class=\"dataframe\">\n",
       "  <thead>\n",
       "    <tr style=\"text-align: right;\">\n",
       "      <th></th>\n",
       "      <th>id</th>\n",
       "      <th>date</th>\n",
       "      <th>grade</th>\n",
       "      <th>game</th>\n",
       "      <th>review</th>\n",
       "      <th>sentiment</th>\n",
       "    </tr>\n",
       "  </thead>\n",
       "  <tbody>\n",
       "    <tr>\n",
       "      <th>0</th>\n",
       "      <td>128002</td>\n",
       "      <td>2013-01-19</td>\n",
       "      <td>30</td>\n",
       "      <td>007-legends-pc</td>\n",
       "      <td>Oh, my dear God! What is it with developers th...</td>\n",
       "      <td>-0.9191</td>\n",
       "    </tr>\n",
       "    <tr>\n",
       "      <th>1</th>\n",
       "      <td>128003</td>\n",
       "      <td>2014-06-23</td>\n",
       "      <td>30</td>\n",
       "      <td>007-legends-pc</td>\n",
       "      <td>Seriously if you want to have a HUGE laugh wit...</td>\n",
       "      <td>0.9424</td>\n",
       "    </tr>\n",
       "    <tr>\n",
       "      <th>2</th>\n",
       "      <td>128004</td>\n",
       "      <td>2014-12-11</td>\n",
       "      <td>0</td>\n",
       "      <td>007-legends-pc</td>\n",
       "      <td>godawful port of the xbox 360 version and ps3....</td>\n",
       "      <td>-0.3869</td>\n",
       "    </tr>\n",
       "    <tr>\n",
       "      <th>3</th>\n",
       "      <td>128005</td>\n",
       "      <td>2012-11-03</td>\n",
       "      <td>0</td>\n",
       "      <td>007-legends-pc</td>\n",
       "      <td>Agree. Worst game ever. Its a full copy of Cal...</td>\n",
       "      <td>0.5496</td>\n",
       "    </tr>\n",
       "    <tr>\n",
       "      <th>4</th>\n",
       "      <td>128006</td>\n",
       "      <td>2012-11-04</td>\n",
       "      <td>0</td>\n",
       "      <td>007-legends-pc</td>\n",
       "      <td>DO NOT BUY THIS GAME for the PC (or for any ot...</td>\n",
       "      <td>-0.9612</td>\n",
       "    </tr>\n",
       "  </tbody>\n",
       "</table>\n",
       "</div>"
      ],
      "text/plain": [
       "       id       date  grade            game  \\\n",
       "0  128002 2013-01-19     30  007-legends-pc   \n",
       "1  128003 2014-06-23     30  007-legends-pc   \n",
       "2  128004 2014-12-11      0  007-legends-pc   \n",
       "3  128005 2012-11-03      0  007-legends-pc   \n",
       "4  128006 2012-11-04      0  007-legends-pc   \n",
       "\n",
       "                                              review  sentiment  \n",
       "0  Oh, my dear God! What is it with developers th...    -0.9191  \n",
       "1  Seriously if you want to have a HUGE laugh wit...     0.9424  \n",
       "2  godawful port of the xbox 360 version and ps3....    -0.3869  \n",
       "3  Agree. Worst game ever. Its a full copy of Cal...     0.5496  \n",
       "4  DO NOT BUY THIS GAME for the PC (or for any ot...    -0.9612  "
      ]
     },
     "execution_count": 95,
     "metadata": {},
     "output_type": "execute_result"
    }
   ],
   "source": [
    "df = tb.load_data_sql(table='user_reviews_clean', use_cache=True)\n",
    "df = df[~df['review'].isnull()]\n",
    "df.head()"
   ]
  },
  {
   "cell_type": "code",
   "execution_count": 96,
   "metadata": {
    "ExecuteTime": {
     "end_time": "2019-11-13T09:12:19.464148Z",
     "start_time": "2019-11-13T09:12:19.460268Z"
    }
   },
   "outputs": [
    {
     "data": {
      "text/plain": [
       "(211773, 6)"
      ]
     },
     "execution_count": 96,
     "metadata": {},
     "output_type": "execute_result"
    }
   ],
   "source": [
    "df.shape"
   ]
  },
  {
   "cell_type": "code",
   "execution_count": 97,
   "metadata": {
    "ExecuteTime": {
     "end_time": "2019-11-13T09:12:20.526442Z",
     "start_time": "2019-11-13T09:12:20.488153Z"
    }
   },
   "outputs": [
    {
     "name": "stdout",
     "output_type": "stream",
     "text": [
      "13068 unique games\n"
     ]
    }
   ],
   "source": [
    "print('{} unique games'.format(df.game.nunique()))"
   ]
  },
  {
   "cell_type": "code",
   "execution_count": 99,
   "metadata": {
    "ExecuteTime": {
     "end_time": "2019-11-13T09:12:27.463831Z",
     "start_time": "2019-11-13T09:12:27.404069Z"
    }
   },
   "outputs": [
    {
     "data": {
      "text/html": [
       "<div>\n",
       "<style scoped>\n",
       "    .dataframe tbody tr th:only-of-type {\n",
       "        vertical-align: middle;\n",
       "    }\n",
       "\n",
       "    .dataframe tbody tr th {\n",
       "        vertical-align: top;\n",
       "    }\n",
       "\n",
       "    .dataframe thead th {\n",
       "        text-align: right;\n",
       "    }\n",
       "</style>\n",
       "<table border=\"1\" class=\"dataframe\">\n",
       "  <thead>\n",
       "    <tr style=\"text-align: right;\">\n",
       "      <th></th>\n",
       "      <th>n_games</th>\n",
       "      <th>grade</th>\n",
       "      <th>sentiment</th>\n",
       "      <th>date</th>\n",
       "    </tr>\n",
       "    <tr>\n",
       "      <th>game</th>\n",
       "      <th></th>\n",
       "      <th></th>\n",
       "      <th></th>\n",
       "      <th></th>\n",
       "    </tr>\n",
       "  </thead>\n",
       "  <tbody>\n",
       "    <tr>\n",
       "      <th>007-legends-pc</th>\n",
       "      <td>25</td>\n",
       "      <td>33.600000</td>\n",
       "      <td>-0.113120</td>\n",
       "      <td>2012-11-03</td>\n",
       "    </tr>\n",
       "    <tr>\n",
       "      <th>007-legends-playstation-3</th>\n",
       "      <td>12</td>\n",
       "      <td>38.333333</td>\n",
       "      <td>0.118742</td>\n",
       "      <td>2012-10-16</td>\n",
       "    </tr>\n",
       "    <tr>\n",
       "      <th>007-legends-wii-u</th>\n",
       "      <td>5</td>\n",
       "      <td>62.000000</td>\n",
       "      <td>0.125660</td>\n",
       "      <td>2013-01-04</td>\n",
       "    </tr>\n",
       "    <tr>\n",
       "      <th>007-legends-xbox-360</th>\n",
       "      <td>18</td>\n",
       "      <td>43.333333</td>\n",
       "      <td>0.138222</td>\n",
       "      <td>2012-10-16</td>\n",
       "    </tr>\n",
       "    <tr>\n",
       "      <th>007-quantum-of-solace-pc</th>\n",
       "      <td>8</td>\n",
       "      <td>50.000000</td>\n",
       "      <td>0.033513</td>\n",
       "      <td>2011-06-22</td>\n",
       "    </tr>\n",
       "  </tbody>\n",
       "</table>\n",
       "</div>"
      ],
      "text/plain": [
       "                           n_games      grade  sentiment       date\n",
       "game                                                               \n",
       "007-legends-pc                  25  33.600000  -0.113120 2012-11-03\n",
       "007-legends-playstation-3       12  38.333333   0.118742 2012-10-16\n",
       "007-legends-wii-u                5  62.000000   0.125660 2013-01-04\n",
       "007-legends-xbox-360            18  43.333333   0.138222 2012-10-16\n",
       "007-quantum-of-solace-pc         8  50.000000   0.033513 2011-06-22"
      ]
     },
     "execution_count": 99,
     "metadata": {},
     "output_type": "execute_result"
    }
   ],
   "source": [
    "df_agg = df.groupby('game').agg({\n",
    "    'game': 'count', \n",
    "    'grade': 'mean', \n",
    "    'sentiment': 'mean',\n",
    "    'date': 'min'})\n",
    "\n",
    "df_agg = df_agg.rename(columns={'game': 'n_games'})\n",
    "\n",
    "df_agg.head()"
   ]
  },
  {
   "cell_type": "code",
   "execution_count": 91,
   "metadata": {
    "ExecuteTime": {
     "end_time": "2019-11-13T09:10:28.706284Z",
     "start_time": "2019-11-13T09:10:28.305595Z"
    }
   },
   "outputs": [
    {
     "data": {
      "image/png": "[encoded data removed]",
      "text/plain": [
       "<Figure size 432x216 with 1 Axes>"
      ]
     },
     "metadata": {},
     "output_type": "display_data"
    }
   ],
   "source": [
    "plt.figure(figsize=(6, 3))\n",
    "\n",
    "sns.set(style='darkgrid')\n",
    "sns.distplot(df_agg.sentiment, kde=False, bins=15);\n",
    "\n",
    "# plt.title('Distribution of review sentiment')\n",
    "plt.xlabel('Review sentiment')\n",
    "plt.ylabel('Number of games');"
   ]
  },
  {
   "cell_type": "code",
   "execution_count": 71,
   "metadata": {
    "ExecuteTime": {
     "end_time": "2019-11-13T09:02:37.626552Z",
     "start_time": "2019-11-13T09:02:37.242822Z"
    }
   },
   "outputs": [
    {
     "data": {
      "image/png": "[encoded data removed]",
      "text/plain": [
       "<Figure size 432x216 with 1 Axes>"
      ]
     },
     "metadata": {},
     "output_type": "display_data"
    }
   ],
   "source": [
    "plt.figure(figsize=(6, 3))\n",
    "\n",
    "sns.distplot(df_agg.grade);"
   ]
  },
  {
   "cell_type": "code",
   "execution_count": 106,
   "metadata": {
    "ExecuteTime": {
     "end_time": "2019-11-13T09:14:26.208920Z",
     "start_time": "2019-11-13T09:14:25.712138Z"
    }
   },
   "outputs": [
    {
     "data": {
      "image/png": "[encoded data removed]",
      "text/plain": [
       "<Figure size 432x216 with 1 Axes>"
      ]
     },
     "metadata": {},
     "output_type": "display_data"
    }
   ],
   "source": [
    "plt.figure(figsize=(6, 3))\n",
    "\n",
    "sns.distplot(df_agg['n_games'], bins=100, kde=False)\n",
    "plt.xlabel('Number of reviews per game')\n",
    "plt.ylabel('Number of games')\n",
    "plt.xlim([0,150]);"
   ]
  },
  {
   "cell_type": "code",
   "execution_count": 110,
   "metadata": {
    "ExecuteTime": {
     "end_time": "2019-11-13T09:15:37.838906Z",
     "start_time": "2019-11-13T09:15:37.834674Z"
    }
   },
   "outputs": [
    {
     "data": {
      "text/plain": [
       "16.205463728191003"
      ]
     },
     "execution_count": 110,
     "metadata": {},
     "output_type": "execute_result"
    }
   ],
   "source": [
    "np.mean(df_agg['n_games'])"
   ]
  },
  {
   "cell_type": "code",
   "execution_count": 109,
   "metadata": {
    "ExecuteTime": {
     "end_time": "2019-11-13T09:15:26.648063Z",
     "start_time": "2019-11-13T09:15:26.636293Z"
    }
   },
   "outputs": [
    {
     "data": {
      "text/plain": [
       "4.0"
      ]
     },
     "execution_count": 109,
     "metadata": {},
     "output_type": "execute_result"
    }
   ],
   "source": [
    "np.median(df_agg['n_games'])"
   ]
  },
  {
   "cell_type": "code",
   "execution_count": 38,
   "metadata": {
    "ExecuteTime": {
     "end_time": "2019-11-11T15:52:03.401752Z",
     "start_time": "2019-11-11T15:52:03.398225Z"
    }
   },
   "outputs": [],
   "source": [
    "def date_to_year_float(dates):\n",
    "    start_date = dates.min()\n",
    "    rel = (dates - pd.to_datetime(start_date))\n",
    "    rel = rel.astype('timedelta64[D]')\n",
    "    return pd.to_datetime(start_date).year + rel / 365.0"
   ]
  },
  {
   "cell_type": "code",
   "execution_count": 90,
   "metadata": {
    "ExecuteTime": {
     "end_time": "2019-11-13T09:10:11.493787Z",
     "start_time": "2019-11-13T09:10:11.021437Z"
    }
   },
   "outputs": [
    {
     "data": {
      "image/png": "[encoded data removed]",
      "text/plain": [
       "<Figure size 432x216 with 1 Axes>"
      ]
     },
     "metadata": {},
     "output_type": "display_data"
    }
   ],
   "source": [
    "plt.figure(figsize=(6, 3))\n",
    "\n",
    "sns.distplot(date_to_year_float(df.date), bins=40, kde=False)\n",
    "plt.xlabel('Year')\n",
    "plt.ylabel('Number of reviews written');"
   ]
  },
  {
   "cell_type": "code",
   "execution_count": 111,
   "metadata": {
    "ExecuteTime": {
     "end_time": "2019-11-13T09:35:05.013248Z",
     "start_time": "2019-11-13T09:35:04.681399Z"
    }
   },
   "outputs": [
    {
     "data": {
      "image/png": "[encoded data removed]",
      "text/plain": [
       "<Figure size 432x288 with 1 Axes>"
      ]
     },
     "metadata": {},
     "output_type": "display_data"
    }
   ],
   "source": [
    "sns.distplot(date_to_year_float(df_agg.date), kde=False);"
   ]
  },
  {
   "cell_type": "code",
   "execution_count": null,
   "metadata": {},
   "outputs": [],
   "source": []
  }
 ],
 "metadata": {
  "kernelspec": {
   "display_name": "Python 3",
   "language": "python",
   "name": "python3"
  },
  "language_info": {
   "codemirror_mode": {
    "name": "ipython",
    "version": 3
   },
   "file_extension": ".py",
   "mimetype": "text/x-python",
   "name": "python",
   "nbconvert_exporter": "python",
   "pygments_lexer": "ipython3",
   "version": "3.7.3"
  }
 },
 "nbformat": 4,
 "nbformat_minor": 2
}
