{
 "cells": [
  {
   "cell_type": "markdown",
   "metadata": {},
   "source": [
    "# Robustness checks - Timeframes"
   ]
  },
  {
   "cell_type": "markdown",
   "metadata": {},
   "source": [
    "## Robustness check: timeframe 4 weeks (OLS minimum nr of reviews: 10)"
   ]
  },
  {
   "cell_type": "code",
   "execution_count": 10,
   "metadata": {},
   "outputs": [
    {
     "data": {
      "text/plain": [
       "\n",
       "Call:\n",
       "lm(formula = nr_reviews ~ user_sentiment_var * critic_sentiment_var + \n",
       "    user_avg_grade + critic_avg_grade + critic_volume + is_action + \n",
       "    is_pc, data = data_OLS)\n",
       "\n",
       "Residuals:\n",
       "   Min     1Q Median     3Q    Max \n",
       "-6.719 -3.444 -1.384  1.212 82.605 \n",
       "\n",
       "Coefficients:\n",
       "                                         Estimate Std. Error t value Pr(>|t|)\n",
       "(Intercept)                              -1.37634    9.52085  -0.145  0.88517\n",
       "user_sentiment_var                       13.37534   12.07726   1.107  0.26915\n",
       "critic_sentiment_var                     27.41561   18.02157   1.521  0.12946\n",
       "user_avg_grade                           -0.03560    0.03148  -1.131  0.25924\n",
       "critic_avg_grade                          0.05043    0.06116   0.825  0.41041\n",
       "critic_volume                             0.05247    0.02006   2.616  0.00945\n",
       "is_action                                -0.94355    0.98022  -0.963  0.33668\n",
       "is_pc                                     1.15991    1.09541   1.059  0.29068\n",
       "user_sentiment_var:critic_sentiment_var -32.50027   27.00627  -1.203  0.22995\n",
       "                                          \n",
       "(Intercept)                               \n",
       "user_sentiment_var                        \n",
       "critic_sentiment_var                      \n",
       "user_avg_grade                            \n",
       "critic_avg_grade                          \n",
       "critic_volume                           **\n",
       "is_action                                 \n",
       "is_pc                                     \n",
       "user_sentiment_var:critic_sentiment_var   \n",
       "---\n",
       "Signif. codes:  0 ‘***’ 0.001 ‘**’ 0.01 ‘*’ 0.05 ‘.’ 0.1 ‘ ’ 1\n",
       "\n",
       "Residual standard error: 7.644 on 250 degrees of freedom\n",
       "  (3 observations deleted due to missingness)\n",
       "Multiple R-squared:  0.04385,\tAdjusted R-squared:  0.01325 \n",
       "F-statistic: 1.433 on 8 and 250 DF,  p-value: 0.183\n"
      ]
     },
     "metadata": {},
     "output_type": "display_data"
    }
   ],
   "source": [
    "# Read data for OLS model from file\n",
    "data_OLS <- read.csv(\"../datasets/final-df-cs-4weeks-10-reviews.csv\")\n",
    "OLS_model <- lm(nr_reviews ~ user_sentiment_var * critic_sentiment_var + user_avg_grade + critic_avg_grade + critic_volume + is_action + is_pc,\n",
    "                data = data_OLS)\n",
    "summary(OLS_model)"
   ]
  },
  {
   "cell_type": "code",
   "execution_count": 12,
   "metadata": {},
   "outputs": [
    {
     "data": {
      "text/plain": [
       "\n",
       "Call:\n",
       "glm(formula = nr_reviews ~ user_sentiment_var * critic_sentiment_var + \n",
       "    user_avg_grade + critic_avg_grade + critic_volume + is_action + \n",
       "    is_pc, family = \"poisson\", data = data_count)\n",
       "\n",
       "Deviance Residuals: \n",
       "    Min       1Q   Median       3Q      Max  \n",
       "-4.8358  -1.6356  -0.7576   0.4771  17.2512  \n",
       "\n",
       "Coefficients:\n",
       "                                          Estimate Std. Error z value Pr(>|z|)\n",
       "(Intercept)                             -1.6326649  0.1121319 -14.560   <2e-16\n",
       "user_sentiment_var                       0.2353105  0.1178312   1.997   0.0458\n",
       "critic_sentiment_var                     0.3620923  0.1587386   2.281   0.0225\n",
       "user_avg_grade                          -0.0108629  0.0005525 -19.663   <2e-16\n",
       "critic_avg_grade                         0.0283536  0.0010226  27.728   <2e-16\n",
       "critic_volume                            0.0183656  0.0003777  48.631   <2e-16\n",
       "is_action                                0.0316885  0.0189582   1.671   0.0946\n",
       "is_pc                                    0.3160745  0.0204960  15.421   <2e-16\n",
       "user_sentiment_var:critic_sentiment_var  0.4043788  0.2366860   1.709   0.0875\n",
       "                                           \n",
       "(Intercept)                             ***\n",
       "user_sentiment_var                      *  \n",
       "critic_sentiment_var                    *  \n",
       "user_avg_grade                          ***\n",
       "critic_avg_grade                        ***\n",
       "critic_volume                           ***\n",
       "is_action                               .  \n",
       "is_pc                                   ***\n",
       "user_sentiment_var:critic_sentiment_var .  \n",
       "---\n",
       "Signif. codes:  0 ‘***’ 0.001 ‘**’ 0.01 ‘*’ 0.05 ‘.’ 0.1 ‘ ’ 1\n",
       "\n",
       "(Dispersion parameter for poisson family taken to be 1)\n",
       "\n",
       "    Null deviance: 21212  on 4806  degrees of freedom\n",
       "Residual deviance: 15827  on 4798  degrees of freedom\n",
       "AIC: 24539\n",
       "\n",
       "Number of Fisher Scoring iterations: 6\n"
      ]
     },
     "metadata": {},
     "output_type": "display_data"
    }
   ],
   "source": [
    "# Read data for count models from file\n",
    "data_count <- read.csv(\"../datasets/final-df-count-models-4weeks.csv\")\n",
    "\n",
    "# Poisson Regression\n",
    "poisson <- glm(nr_reviews ~ user_sentiment_var*critic_sentiment_var + user_avg_grade + critic_avg_grade + critic_volume + is_action + is_pc,\n",
    "               data=data_count, family='poisson')\n",
    "\n",
    "summary(poisson)"
   ]
  },
  {
   "cell_type": "code",
   "execution_count": 13,
   "metadata": {},
   "outputs": [
    {
     "data": {
      "text/plain": [
       "\n",
       "Call:\n",
       "glm.nb(formula = nr_reviews ~ user_sentiment_var * critic_sentiment_var + \n",
       "    user_avg_grade + critic_avg_grade + critic_volume + is_action + \n",
       "    is_pc, data = data_count, init.theta = 0.8755224082, link = log)\n",
       "\n",
       "Deviance Residuals: \n",
       "    Min       1Q   Median       3Q      Max  \n",
       "-2.2343  -1.1874  -0.4191   0.2499   4.9412  \n",
       "\n",
       "Coefficients:\n",
       "                                          Estimate Std. Error z value Pr(>|z|)\n",
       "(Intercept)                             -1.8394861  0.1979295  -9.294   <2e-16\n",
       "user_sentiment_var                       0.3908195  0.2109571   1.853   0.0639\n",
       "critic_sentiment_var                     0.1921213  0.2723399   0.705   0.4805\n",
       "user_avg_grade                          -0.0112235  0.0011635  -9.646   <2e-16\n",
       "critic_avg_grade                         0.0290181  0.0019124  15.173   <2e-16\n",
       "critic_volume                            0.0211318  0.0008747  24.159   <2e-16\n",
       "is_action                                0.0665111  0.0389179   1.709   0.0874\n",
       "is_pc                                    0.3794920  0.0417199   9.096   <2e-16\n",
       "user_sentiment_var:critic_sentiment_var  0.5594036  0.4226754   1.323   0.1857\n",
       "                                           \n",
       "(Intercept)                             ***\n",
       "user_sentiment_var                      .  \n",
       "critic_sentiment_var                       \n",
       "user_avg_grade                          ***\n",
       "critic_avg_grade                        ***\n",
       "critic_volume                           ***\n",
       "is_action                               .  \n",
       "is_pc                                   ***\n",
       "user_sentiment_var:critic_sentiment_var    \n",
       "---\n",
       "Signif. codes:  0 ‘***’ 0.001 ‘**’ 0.01 ‘*’ 0.05 ‘.’ 0.1 ‘ ’ 1\n",
       "\n",
       "(Dispersion parameter for Negative Binomial(0.8755) family taken to be 1)\n",
       "\n",
       "    Null deviance: 6473.7  on 4806  degrees of freedom\n",
       "Residual deviance: 4998.8  on 4798  degrees of freedom\n",
       "AIC: 18486\n",
       "\n",
       "Number of Fisher Scoring iterations: 1\n",
       "\n",
       "\n",
       "              Theta:  0.8755 \n",
       "          Std. Err.:  0.0295 \n",
       "\n",
       " 2 x log-likelihood:  -18466.0820 "
      ]
     },
     "metadata": {},
     "output_type": "display_data"
    }
   ],
   "source": [
    "# Negative Binomial Regression\n",
    "negbin <- glm.nb(nr_reviews ~ user_sentiment_var*critic_sentiment_var + user_avg_grade + critic_avg_grade + critic_volume + is_action + is_pc,\n",
    "                 data=data_count)\n",
    "summary(negbin)"
   ]
  },
  {
   "cell_type": "code",
   "execution_count": 14,
   "metadata": {},
   "outputs": [
    {
     "data": {
      "text/plain": [
       "\n",
       "Call:\n",
       "hurdle(formula = nr_reviews ~ user_sentiment_var * critic_sentiment_var + \n",
       "    user_avg_grade + critic_avg_grade + critic_volume + is_action + is_pc, \n",
       "    data = data_count, dist = \"negbin\")\n",
       "\n",
       "Pearson residuals:\n",
       "    Min      1Q  Median      3Q     Max \n",
       "-0.9723 -0.6506 -0.3573  0.2733 15.4219 \n",
       "\n",
       "Count model coefficients (truncated negbin with log link):\n",
       "                                         Estimate Std. Error z value Pr(>|z|)\n",
       "(Intercept)                             -1.745443   0.299419  -5.829 5.56e-09\n",
       "user_sentiment_var                       0.741161   0.384022   1.930  0.05361\n",
       "critic_sentiment_var                     0.706318   0.486646   1.451  0.14667\n",
       "user_avg_grade                          -0.012300   0.001574  -7.816 5.47e-15\n",
       "critic_avg_grade                         0.027426   0.002253  12.173  < 2e-16\n",
       "critic_volume                            0.016849   0.001063  15.856  < 2e-16\n",
       "is_action                                0.059292   0.048448   1.224  0.22101\n",
       "is_pc                                    0.329545   0.052369   6.293 3.12e-10\n",
       "user_sentiment_var:critic_sentiment_var -0.147913   0.786113  -0.188  0.85075\n",
       "Log(theta)                              -0.240655   0.080891  -2.975  0.00293\n",
       "                                           \n",
       "(Intercept)                             ***\n",
       "user_sentiment_var                      .  \n",
       "critic_sentiment_var                       \n",
       "user_avg_grade                          ***\n",
       "critic_avg_grade                        ***\n",
       "critic_volume                           ***\n",
       "is_action                                  \n",
       "is_pc                                   ***\n",
       "user_sentiment_var:critic_sentiment_var    \n",
       "Log(theta)                              ** \n",
       "Zero hurdle model coefficients (binomial with logit link):\n",
       "                                         Estimate Std. Error z value Pr(>|z|)\n",
       "(Intercept)                             -2.172009   0.297407  -7.303 2.81e-13\n",
       "user_sentiment_var                       0.145202   0.322361   0.450    0.652\n",
       "critic_sentiment_var                    -0.328199   0.392306  -0.837    0.403\n",
       "user_avg_grade                          -0.008045   0.001974  -4.075 4.61e-05\n",
       "critic_avg_grade                         0.028079   0.003033   9.258  < 2e-16\n",
       "critic_volume                            0.034491   0.001920  17.962  < 2e-16\n",
       "is_action                                0.061735   0.066386   0.930    0.352\n",
       "is_pc                                    0.448560   0.071057   6.313 2.74e-10\n",
       "user_sentiment_var:critic_sentiment_var  0.950248   0.643048   1.478    0.139\n",
       "                                           \n",
       "(Intercept)                             ***\n",
       "user_sentiment_var                         \n",
       "critic_sentiment_var                       \n",
       "user_avg_grade                          ***\n",
       "critic_avg_grade                        ***\n",
       "critic_volume                           ***\n",
       "is_action                                  \n",
       "is_pc                                   ***\n",
       "user_sentiment_var:critic_sentiment_var    \n",
       "---\n",
       "Signif. codes:  0 '***' 0.001 '**' 0.01 '*' 0.05 '.' 0.1 ' ' 1 \n",
       "\n",
       "Theta: count = 0.7861\n",
       "Number of iterations in BFGS optimization: 15 \n",
       "Log-likelihood: -9179 on 19 Df"
      ]
     },
     "metadata": {},
     "output_type": "display_data"
    }
   ],
   "source": [
    "# Hurdle Regression\n",
    "mod_hurdle <- hurdle(nr_reviews ~ user_sentiment_var * critic_sentiment_var + user_avg_grade + critic_avg_grade + critic_volume + is_action + is_pc,\n",
    "                     data = data_count,\n",
    "                     dist = \"negbin\")\n",
    "summary(mod_hurdle)"
   ]
  }
 ],
 "metadata": {
  "kernelspec": {
   "display_name": "R",
   "language": "R",
   "name": "ir"
  },
  "language_info": {
   "codemirror_mode": "r",
   "file_extension": ".r",
   "mimetype": "text/x-r-source",
   "name": "R",
   "pygments_lexer": "r",
   "version": "3.6.1"
  }
 },
 "nbformat": 4,
 "nbformat_minor": 2
}
